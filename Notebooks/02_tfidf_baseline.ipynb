{
 "cells": [
  {
   "cell_type": "markdown",
   "id": "f8f2e3f2-1fe9-4a65-a368-fad8d3b15fbe",
   "metadata": {},
   "source": [
    "# 02) TF–IDF baseline"
   ]
  },
  {
   "cell_type": "markdown",
   "id": "c7572cae-82a3-4384-af17-0f51a933b62f",
   "metadata": {},
   "source": [
    "This notebook creates a baseline model using TF-IDF vectors and logistic regression. The primary business goal of this project is to create a model with a high risk headline recall. Although the overall accuracy for both models (Spanish and Portuguese) isn't too bad for a baseline, the risk headline recall is very poor, likely due to mislabelled data during the data collection process. "
   ]
  },
  {
   "cell_type": "markdown",
   "id": "ad0e4bd5-9976-443f-88a3-75e7f35a2327",
   "metadata": {},
   "source": [
    "## Read-in data"
   ]
  },
  {
   "cell_type": "code",
   "execution_count": 1,
   "id": "28dc3b6b-8793-4bcc-ab8b-46b25b098204",
   "metadata": {},
   "outputs": [
    {
     "name": "stdout",
     "output_type": "stream",
     "text": [
      "104.3K Total headlines\n",
      "85.4K Spanish headlines\n",
      "16.3K Portuguese headlines\n"
     ]
    }
   ],
   "source": [
    "import pandas as pd\n",
    "import numpy as np\n",
    "\n",
    "# read-in data\n",
    "df = pd.read_csv('../Data/original_headlines.csv', encoding='utf-8')\n",
    "print(str(round(len(df)/1000, 1)) + 'K Total headlines')\n",
    "\n",
    "# include only spanish \n",
    "spanish_df = df[df.country.isin(['Argentina', 'Colombia', 'Mexico'])].reset_index(drop=True)\n",
    "print(str(round(len(spanish_df)/1000, 1)) + 'K Spanish headlines')\n",
    "\n",
    "# include only portuguese \n",
    "portuguese_df = df[df.country == 'Brazil'].reset_index(drop=True)\n",
    "print(str(round(len(portuguese_df)/1000, 1)) + 'K Portuguese headlines')"
   ]
  },
  {
   "cell_type": "markdown",
   "id": "bd9ffca0-2d2e-4c6c-8cbf-ffac56df9711",
   "metadata": {},
   "source": [
    "## Remove duplicates & thumbnails"
   ]
  },
  {
   "cell_type": "markdown",
   "id": "cc179a53-d93c-4b44-9292-1c7570f915ce",
   "metadata": {},
   "source": [
    "Headlines containing the word thumbnail are normally videos which cannot be scraped. Many of these with a similar format in the non-risk headlines data add little value in terms of variety and therefore are removed."
   ]
  },
  {
   "cell_type": "code",
   "execution_count": 2,
   "id": "82f08e90-77d3-4c04-a780-12786c1510d2",
   "metadata": {},
   "outputs": [],
   "source": [
    "# remove duplicates\n",
    "spanish_df.drop_duplicates(subset='headline', inplace=True)\n",
    "portuguese_df.drop_duplicates(subset='headline', inplace=True)\n",
    "\n",
    "# remove thumbnails\n",
    "spanish_df = spanish_df[~spanish_df['headline'].str.lower().str.contains('thumbnail', na=False)]\n",
    "portuguese_df = portuguese_df[~portuguese_df['headline'].str.lower().str.contains('thumbnail', na=False)]\n",
    "\n",
    "# removes english headlines from the spanish dataset\n",
    "spanish_df = spanish_df.loc[~spanish_df.website.isin(['Colombia Reports'])]\n",
    "\n",
    "# reset index\n",
    "spanish_df.reset_index(drop=True, inplace=True)\n",
    "portuguese_df.reset_index(drop=True, inplace=True)"
   ]
  },
  {
   "cell_type": "markdown",
   "id": "1d18789f-799e-42e8-a95c-ef6ae1d4942e",
   "metadata": {},
   "source": [
    "## Clean text"
   ]
  },
  {
   "cell_type": "markdown",
   "id": "90b4c5f7-f773-40bf-aa74-df536a170c72",
   "metadata": {},
   "source": [
    "The text is subjected to common cleaning techniques to reduce dimensionality."
   ]
  },
  {
   "cell_type": "code",
   "execution_count": 3,
   "id": "9c2459bb-33d6-4236-95cd-aff59ea24152",
   "metadata": {},
   "outputs": [
    {
     "name": "stderr",
     "output_type": "stream",
     "text": [
      "[nltk_data] Downloading package stopwords to\n",
      "[nltk_data]     C:\\Users\\Jack-\\AppData\\Roaming\\nltk_data...\n",
      "[nltk_data]   Package stopwords is already up-to-date!\n"
     ]
    }
   ],
   "source": [
    "import string\n",
    "from nltk.corpus import stopwords\n",
    "import nltk\n",
    "\n",
    "nltk.download('stopwords')\n",
    "\n",
    "# common text cleaning techniques\n",
    "def clean_text(text, language):\n",
    "    text = text.strip()\n",
    "    text = text.lower()\n",
    "    text = text.translate(str.maketrans('', '', string.punctuation + '¡¿'))\n",
    "    stop_words = set(stopwords.words(language))\n",
    "    text = ' '.join([word for word in text.split() if word not in stop_words])\n",
    "    return text\n",
    "\n",
    "spanish_df['headline'] = spanish_df['headline'].apply(clean_text, language='Spanish')\n",
    "portuguese_df['headline'] = portuguese_df['headline'].apply(clean_text, language='Portuguese')"
   ]
  },
  {
   "cell_type": "markdown",
   "id": "45a5a42b-8a38-4b6e-bf3a-1057496c4145",
   "metadata": {},
   "source": [
    "## Put aside data"
   ]
  },
  {
   "cell_type": "markdown",
   "id": "1ddfa5d7-0df7-4a86-9c03-c1398409f293",
   "metadata": {},
   "source": [
    "An equal number of risk and non-risk headlines are sampled from those containing keyword matches for later evaluation. Using only headlines with keyword matches is useful because we can be 100% sure that Google Gemini has assessed these texts according to a predetermined criteria, minimizing the risk of mislabelled data due to data collection flaws."
   ]
  },
  {
   "cell_type": "code",
   "execution_count": 4,
   "id": "6df2e418-10d6-43c3-8033-fe5240ecbd3b",
   "metadata": {},
   "outputs": [],
   "source": [
    "import random \n",
    "\n",
    "# sets the seed\n",
    "random.seed(42)\n",
    "\n",
    "# sample number\n",
    "sample_no = 300\n",
    "\n",
    "# puts aside an equal number of risk and non-risk headlines from headlines with keyword matches\n",
    "def put_aside_data(df, sample_no):\n",
    "    sample_risk_indices = random.sample(\n",
    "        list(df.loc[(df.keyword_match==True) & (~pd.isna(df.risk_type))].index), sample_no\n",
    "    )\n",
    "    sample_non_risk_indices = random.sample(\n",
    "        list(df.loc[(df.keyword_match==True) & (pd.isna(df.risk_type))].index), sample_no\n",
    "    )\n",
    "    all_sample_inidces = sample_risk_indices + sample_non_risk_indices\n",
    "    main_df = df.loc[~df.index.isin(all_sample_inidces)]\n",
    "    sample_df = df.loc[df.index.isin(all_sample_inidces)]\n",
    "    return main_df, sample_df\n",
    "\n",
    "# splits the train and put aside dfs\n",
    "spanish_train_df, spanish_put_aside_df = put_aside_data(spanish_df, sample_no)\n",
    "portuguese_train_df, portuguese_put_aside_df = put_aside_data(portuguese_df, sample_no)"
   ]
  },
  {
   "cell_type": "markdown",
   "id": "b2b257f8-ecfd-46e0-a1b5-a2b289950d00",
   "metadata": {},
   "source": [
    "## Train test split"
   ]
  },
  {
   "cell_type": "markdown",
   "id": "d2fc9d08-b850-4beb-8c4b-27c4d72f79f6",
   "metadata": {},
   "source": [
    "Creates a train test split for a given dataframe."
   ]
  },
  {
   "cell_type": "code",
   "execution_count": 5,
   "id": "e48609d7-8c0e-4d5e-8b19-3577ba986598",
   "metadata": {},
   "outputs": [],
   "source": [
    "from sklearn.model_selection import train_test_split\n",
    "\n",
    "# returns a train test split\n",
    "def split_data(df, test_size=0.25):\n",
    "    X = df.headline\n",
    "    y = [int(pd.notna(x)) for x in df.risk_type]\n",
    "    return train_test_split(X, y, test_size=test_size, stratify=y)"
   ]
  },
  {
   "cell_type": "markdown",
   "id": "c0f80210-029d-4c9c-b363-0ee8bb194cf1",
   "metadata": {},
   "source": [
    "## Evaluate model"
   ]
  },
  {
   "cell_type": "markdown",
   "id": "c455b1f5-61f2-4ef6-9e1e-551ec5698a02",
   "metadata": {},
   "source": [
    "Prints the accuracy and classification report for a given model on a given set of headlines."
   ]
  },
  {
   "cell_type": "code",
   "execution_count": 6,
   "id": "deffe480-c789-4543-bb05-95cab456c930",
   "metadata": {},
   "outputs": [],
   "source": [
    "import matplotlib.pyplot as plt\n",
    "import seaborn as sns\n",
    "from sklearn.metrics import confusion_matrix, classification_report, accuracy_score\n",
    "\n",
    "# creates a confusion matrix heatmap\n",
    "def heatmap(conf_matrix_df, colors):\n",
    "    plt.figure(figsize=(4, 3))\n",
    "    sns.heatmap(conf_matrix_df, annot=True, cmap=colors, fmt='d', cbar=False)\n",
    "    plt.title('Confusion Matrix')\n",
    "    plt.xlabel('Predicted')\n",
    "    plt.ylabel('Actual')\n",
    "    plt.show()\n",
    "\n",
    "# evaluates a model by printing the accuracy and classification report\n",
    "def evaluate_model(model, X_test_tfidf, y_test, colors):\n",
    "    # generates predictions\n",
    "    y_pred = model.predict(X_test_tfidf)\n",
    "    print(\"Accuracy:\", round(accuracy_score(y_test, y_pred), 2))\n",
    "    print()\n",
    "    \n",
    "    # prints classification report\n",
    "    print(\"Classification Report:\\n\", classification_report(y_test, y_pred))\n",
    "    print()\n",
    "    \n",
    "    # displays confusion matrix heatmap\n",
    "    conf_matrix = confusion_matrix(y_test, y_pred)\n",
    "    conf_matrix_df = pd.DataFrame(conf_matrix, index=['Actual Non-Risk', 'Actual Risk'], columns=['Pred Non-Risk', 'Pred Risk'])\n",
    "    heatmap(conf_matrix_df, colors)\n",
    "    print()"
   ]
  },
  {
   "cell_type": "markdown",
   "id": "94859175-5bfc-4b60-bbdc-2e870695880f",
   "metadata": {},
   "source": [
    "## Fit & evaluate"
   ]
  },
  {
   "cell_type": "markdown",
   "id": "333daa9e-04b7-4493-84e0-58f15f3c25b3",
   "metadata": {},
   "source": [
    "The results indicate that risk headlines recall, the most important metric for this project, is very low for both languages, possibly due to mislabelled data."
   ]
  },
  {
   "cell_type": "code",
   "execution_count": 7,
   "id": "4a4813a4-f716-4b27-8185-9674a9604902",
   "metadata": {},
   "outputs": [
    {
     "name": "stdout",
     "output_type": "stream",
     "text": [
      "\n",
      "*** Spanish ***\n",
      "\n",
      "600 put aside headlines\n",
      "Accuracy: 0.67\n",
      "\n",
      "Classification Report:\n",
      "               precision    recall  f1-score   support\n",
      "\n",
      "           0       0.63      0.78      0.70       300\n",
      "           1       0.71      0.55      0.62       300\n",
      "\n",
      "    accuracy                           0.67       600\n",
      "   macro avg       0.67      0.67      0.66       600\n",
      "weighted avg       0.67      0.67      0.66       600\n",
      "\n",
      "\n"
     ]
    },
    {
     "data": {
      "image/png": "[encoded data removed]",
      "text/plain": [
       "<Figure size 400x300 with 1 Axes>"
      ]
     },
     "metadata": {},
     "output_type": "display_data"
    },
    {
     "name": "stdout",
     "output_type": "stream",
     "text": [
      "\n",
      "\n",
      "*** Portuguese ***\n",
      "\n",
      "600 put aside headlines\n",
      "Accuracy: 0.66\n",
      "\n",
      "Classification Report:\n",
      "               precision    recall  f1-score   support\n",
      "\n",
      "           0       0.61      0.86      0.72       300\n",
      "           1       0.77      0.45      0.57       300\n",
      "\n",
      "    accuracy                           0.66       600\n",
      "   macro avg       0.69      0.66      0.64       600\n",
      "weighted avg       0.69      0.66      0.64       600\n",
      "\n",
      "\n"
     ]
    },
    {
     "data": {
      "image/png": "[encoded data removed]",
      "text/plain": [
       "<Figure size 400x300 with 1 Axes>"
      ]
     },
     "metadata": {},
     "output_type": "display_data"
    },
    {
     "name": "stdout",
     "output_type": "stream",
     "text": [
      "\n"
     ]
    }
   ],
   "source": [
    "from sklearn.feature_extraction.text import TfidfVectorizer\n",
    "from sklearn.linear_model import LogisticRegression\n",
    "\n",
    "# stores the vectorizers and models for both languages\n",
    "vectorizers = []\n",
    "models = []\n",
    "\n",
    "# evaluates a filtered dataset against new headlines\n",
    "def fit_evaluate(train_df, put_aside_df, language, colors):\n",
    "    # prints the language\n",
    "    print()\n",
    "    print('*** ' + language + ' ***')\n",
    "    print()\n",
    "\n",
    "    # instantiate vectorizer\n",
    "    vectorizer = TfidfVectorizer()\n",
    "\n",
    "    # prepare data\n",
    "    X_train, X_test, y_train, y_test = split_data(train_df, test_size=0.001)\n",
    "    X_train_tfidf = vectorizer.fit_transform(X_train)\n",
    "    X_test_tfidf = vectorizer.transform(put_aside_df.headline)\n",
    "    y_test = [int(pd.notna(x)) for x in put_aside_df.risk_type]\n",
    "\n",
    "    # fit logistic regression model\n",
    "    model = LogisticRegression()\n",
    "    model.fit(X_train_tfidf, y_train)\n",
    "\n",
    "    # appends the vectorizer and model for later use\n",
    "    vectorizers.append(vectorizer)\n",
    "    models.append(model)\n",
    "\n",
    "    # evaluate data\n",
    "    print(str(len(put_aside_df)) + ' put aside headlines')\n",
    "    return evaluate_model(model, X_test_tfidf, y_test, colors)\n",
    "\n",
    "# trains and evaluates a model on the data\n",
    "fit_evaluate(spanish_train_df, spanish_put_aside_df, language='Spanish', colors='Reds')\n",
    "fit_evaluate(portuguese_train_df, portuguese_put_aside_df, language='Portuguese', colors='Oranges')"
   ]
  },
  {
   "cell_type": "markdown",
   "id": "a4dd0a3b-efd3-4587-932d-38d480f6417c",
   "metadata": {},
   "source": [
    "## Test headline"
   ]
  },
  {
   "cell_type": "markdown",
   "id": "9e051252-08ae-4b92-99bb-6a107a62c42b",
   "metadata": {},
   "source": [
    "The model returns a low probability for a never before seen headline deemed by Google Gemini as a potential business risk according to a predetermined criteria."
   ]
  },
  {
   "cell_type": "code",
   "execution_count": 8,
   "id": "bc81486c-4c23-4700-822e-26c7c1552182",
   "metadata": {},
   "outputs": [
    {
     "data": {
      "text/plain": [
       "0.31728095588516714"
      ]
     },
     "execution_count": 8,
     "metadata": {},
     "output_type": "execute_result"
    }
   ],
   "source": [
    "# economic risk headline\n",
    "test_headline = 'Bancada Caribe y empresas de energía se reúnen para abordar la crisis de tarifas en la Costa'\n",
    "\n",
    "# cleans the test headline\n",
    "cleaned_test_headline = clean_text(test_headline, 'Spanish')\n",
    "\n",
    "# test headline vector\n",
    "test_headline_tfidf = vectorizers[0].transform([cleaned_test_headline])\n",
    "\n",
    "# model's predicted probability\n",
    "y_pred_prob = models[0].predict_proba(test_headline_tfidf)[:, 1] \n",
    "np.mean(y_pred_prob)"
   ]
  },
  {
   "cell_type": "markdown",
   "id": "272b23a6-2c7b-416c-8440-4f9a566ed416",
   "metadata": {},
   "source": [
    "## Save datasets"
   ]
  },
  {
   "cell_type": "markdown",
   "id": "1e5b11f8-2bea-44b3-b3c7-056efcafe709",
   "metadata": {},
   "source": [
    "Saves the cleaned dataframe for further use in subsequent notebooks. "
   ]
  },
  {
   "cell_type": "code",
   "execution_count": 9,
   "id": "1b9cfb9d-ec4a-4190-be43-0677169f638f",
   "metadata": {},
   "outputs": [],
   "source": [
    "# saves the train dataframes\n",
    "spanish_train_df.to_csv('../Data/spanish_train_df.csv', index=False)\n",
    "portuguese_train_df.to_csv('../Data/portuguese_train_df.csv', index=False)\n",
    "\n",
    "# saves the put aside dataframes\n",
    "spanish_put_aside_df.to_csv('../Data/spanish_put_aside_df.csv', index=False)\n",
    "portuguese_put_aside_df.to_csv('../Data/portuguese_put_aside_df.csv', index=False)"
   ]
  }
 ],
 "metadata": {
  "kernelspec": {
   "display_name": "Python 3 (ipykernel)",
   "language": "python",
   "name": "python3"
  },
  "language_info": {
   "codemirror_mode": {
    "name": "ipython",
    "version": 3
   },
   "file_extension": ".py",
   "mimetype": "text/x-python",
   "name": "python",
   "nbconvert_exporter": "python",
   "pygments_lexer": "ipython3",
   "version": "3.11.7"
  }
 },
 "nbformat": 4,
 "nbformat_minor": 5
}
