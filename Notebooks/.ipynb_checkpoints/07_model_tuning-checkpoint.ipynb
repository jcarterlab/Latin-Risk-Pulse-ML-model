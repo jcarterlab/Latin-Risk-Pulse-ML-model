{
 "cells": [
  {
   "cell_type": "markdown",
   "id": "64d8d24c-028b-49a8-b021-423d55031ae1",
   "metadata": {},
   "source": [
    "# 7) Model tuning"
   ]
  },
  {
   "cell_type": "markdown",
   "id": "1dcdb33c-1d55-47c3-9ee5-cc8e14339ab0",
   "metadata": {},
   "source": [
    "Tuning a logistic regression, random forest and support vector machine model trained on TF-IDF vectors reveals a surprising result. In general, tuned models perform worse than their default counterparts on put aside data. This suggests that dropping headlines with low probability scores in an attempt to get rid of false negatives (see notebook 3) has left us with with a dataset that does not reflect the true data distribution, prompting the need for a better data collection process."
   ]
  },
  {
   "cell_type": "markdown",
   "id": "2c9ec932-b36f-4052-9865-7d4c7fb79ec6",
   "metadata": {},
   "source": [
    "## Read-in data"
   ]
  },
  {
   "cell_type": "markdown",
   "id": "e5b0b1ce-7c9a-4c6f-9511-b6e3b908e496",
   "metadata": {},
   "source": [
    "Seperate dataframes are read-in for each language and dataset type."
   ]
  },
  {
   "cell_type": "code",
   "execution_count": 1,
   "id": "386c8da7-6969-404d-9fa0-c02490c24e97",
   "metadata": {},
   "outputs": [
    {
     "name": "stdout",
     "output_type": "stream",
     "text": [
      "24.3K Spanish train headlines\n",
      "0.6K Spanish put aside headlines\n",
      "6.6K Portuguese train headlines\n",
      "0.6K Portuguese put aside headlines\n"
     ]
    }
   ],
   "source": [
    "import pandas as pd\n",
    "import numpy as np\n",
    "\n",
    "# reads in the spanish improved label headlines\n",
    "spanish_improved_labels_df = pd.read_csv('../Data/spanish_improved_labels_df.csv', encoding='utf-8').reset_index(drop=True)\n",
    "print(str(round(len(spanish_improved_labels_df)/1000, 1)) + 'K Spanish train headlines')\n",
    "\n",
    "# reads in the spanish put aside headlines\n",
    "spanish_put_aside_df = pd.read_csv('../Data/spanish_put_aside_df.csv', encoding='utf-8').reset_index(drop=True)\n",
    "print(str(round(len(spanish_put_aside_df)/1000, 1)) + 'K Spanish put aside headlines')\n",
    "\n",
    "# reads in the portuguese improved label headlines\n",
    "portuguese_improved_labels_df = pd.read_csv('../Data/portuguese_improved_labels_df.csv', encoding='utf-8').reset_index(drop=True)\n",
    "print(str(round(len(portuguese_improved_labels_df)/1000, 1)) + 'K Portuguese train headlines')\n",
    "\n",
    "# reads in the portuguese put aside headlines\n",
    "portuguese_put_aside_df = pd.read_csv('../Data/portuguese_put_aside_df.csv', encoding='utf-8').reset_index(drop=True)\n",
    "print(str(round(len(portuguese_put_aside_df)/1000, 1)) + 'K Portuguese put aside headlines')"
   ]
  },
  {
   "cell_type": "markdown",
   "id": "f1f0db8e-01f6-41b5-a424-12d4a4a07d0a",
   "metadata": {},
   "source": [
    "## Functions"
   ]
  },
  {
   "cell_type": "markdown",
   "id": "e083abac-b485-4f66-b648-17dc6b7a1998",
   "metadata": {},
   "source": [
    "### Create risk type dataframe"
   ]
  },
  {
   "cell_type": "markdown",
   "id": "7a9f8c72-b6f9-4539-8f8c-72ef573f4fa6",
   "metadata": {},
   "source": [
    "Creates a dataframe with all the headlines from a certain risk type and an equal number of other headlines. These other headlines include both non-risk type headlines and other risk types, helping the model to learn better by distinguishing between specific risk types."
   ]
  },
  {
   "cell_type": "code",
   "execution_count": 2,
   "id": "585e63db-2c23-45e2-8836-f4d0effaa80d",
   "metadata": {},
   "outputs": [],
   "source": [
    "import random\n",
    "\n",
    "# returns a dataframe containing all of a specific risk type and and equal number \n",
    "# of randomly sampled other and non risks\n",
    "def risk_type_df(df, risk_type):\n",
    "    # a specified risk type \n",
    "    risk_type_df = df.loc[df.risk_type==risk_type]\n",
    "\n",
    "    # ranodmly sampled non risks\n",
    "    population, sample_no = list(df.loc[~df.index.isin(risk_type_df.index)].index), len(risk_type_df)\n",
    "    non_risks = random.sample(population, sample_no)\n",
    "    non_risks_df = df.loc[df.index.isin(non_risks)]\n",
    "\n",
    "    # concatenates risks and non-risks\n",
    "    risk_type_df = pd.concat([risk_type_df, non_risks_df])\n",
    "\n",
    "    # creates a binary coolumn to indicate whether a risk is the specified risk type or not\n",
    "    risk_type_df['y_value'] = [1 if x == risk_type else 0 for x in risk_type_df['risk_type']]\n",
    "    \n",
    "    return risk_type_df"
   ]
  },
  {
   "cell_type": "markdown",
   "id": "ea6f75e9-318c-443a-87dd-2ce1b68a394a",
   "metadata": {},
   "source": [
    "### Trim data"
   ]
  },
  {
   "cell_type": "markdown",
   "id": "c8b9512b-1c0d-4fc6-af89-6a8c4df104d6",
   "metadata": {},
   "source": [
    "A random sample of the data is kept and the rest discarded for instances in which parameter tuning takes a lot of time."
   ]
  },
  {
   "cell_type": "code",
   "execution_count": 3,
   "id": "5e769cae-25dd-4686-9007-5996a1a1f6d0",
   "metadata": {},
   "outputs": [],
   "source": [
    "# ranodmly selects a certain percentage of the dataframe to speed up the parameter search\n",
    "def trim_data(df, data_percent):\n",
    "    indices = list(df.index)\n",
    "    sample_no = int(np.floor(len(indices) * data_percent))\n",
    "    sample_indices = random.sample(indices, sample_no)\n",
    "    return df.loc[df.index.isin(sample_indices)]"
   ]
  },
  {
   "cell_type": "markdown",
   "id": "0c90affd-8c4f-4c7d-9ebe-717d9dc6afef",
   "metadata": {},
   "source": [
    "### Train test split"
   ]
  },
  {
   "cell_type": "markdown",
   "id": "55419a9e-150a-4419-a52d-154bd49a7134",
   "metadata": {},
   "source": [
    "Creates a train test split for a given dataframe."
   ]
  },
  {
   "cell_type": "code",
   "execution_count": 4,
   "id": "46bcffe5-2967-4618-a13b-bbdb37bf5537",
   "metadata": {},
   "outputs": [],
   "source": [
    "from sklearn.model_selection import train_test_split\n",
    "\n",
    "# returns a train test split\n",
    "def split_data(df, risk_type, test_size=0.25):\n",
    "    # defines X\n",
    "    X = df.headline\n",
    "    \n",
    "    # defines y\n",
    "    if risk_type != None:\n",
    "        y = df.y_value\n",
    "    else:\n",
    "        y = [int(pd.notna(x)) for x in df.risk_type]\n",
    "        \n",
    "    # returns a split\n",
    "    return train_test_split(X, y, test_size=test_size, stratify=y)"
   ]
  },
  {
   "cell_type": "markdown",
   "id": "dfae43eb-1316-4740-b9c2-94e25d1e8ade",
   "metadata": {},
   "source": [
    "### TF-IDF"
   ]
  },
  {
   "cell_type": "markdown",
   "id": "8b3ff817-b027-4e58-bb5f-39b25c20ae68",
   "metadata": {},
   "source": [
    "A model is fit and evaluated on TF-IDF vectors."
   ]
  },
  {
   "cell_type": "code",
   "execution_count": 5,
   "id": "503b2a5f-dc6d-4a91-be6c-0256c8d73af9",
   "metadata": {},
   "outputs": [],
   "source": [
    "from sklearn.feature_extraction.text import TfidfVectorizer\n",
    "\n",
    "def prepare_tfidf_vectors(df, put_aside_df, risk_type, data_percent):\n",
    "    # create risk type df\n",
    "    df = risk_type_df(df, risk_type)\n",
    "\n",
    "    # trims the data to help speed up the parameter search process\n",
    "    df = trim_data(df, data_percent)\n",
    "    \n",
    "    # instantiate vectorizer\n",
    "    vectorizer = TfidfVectorizer()\n",
    "    \n",
    "    # split data\n",
    "    X_train, X_test, y_train, y_test = split_data(df, 'political_stability', test_size=0.01)\n",
    "    \n",
    "    # get tf-idf vectors\n",
    "    X_train_tfidf = vectorizer.fit_transform(X_train)\n",
    "    X_test_tfidf = vectorizer.transform(put_aside_df.headline)\n",
    "    \n",
    "    # overwrite test y test var with put aside df values\n",
    "    y_test = [1 if x == risk_type else 0 for x in put_aside_df['risk_type']]\n",
    "\n",
    "    return X_train_tfidf, X_test_tfidf, y_train, y_test"
   ]
  },
  {
   "cell_type": "markdown",
   "id": "7d7ed278-73f2-468a-8fcb-5d0218de06d3",
   "metadata": {},
   "source": [
    "### View available parameters"
   ]
  },
  {
   "cell_type": "markdown",
   "id": "28969b0c-84ac-47aa-9100-5e8a43745a1e",
   "metadata": {},
   "source": [
    "This function lets the available parameters of a model be viewed."
   ]
  },
  {
   "cell_type": "code",
   "execution_count": 6,
   "id": "9308f59d-664d-4206-8da3-3a4db8d36846",
   "metadata": {},
   "outputs": [],
   "source": [
    "# view available paramters\n",
    "def view_params(model):\n",
    "    # get parameters\n",
    "    params = model.get_params()\n",
    "\n",
    "    # print parameters\n",
    "    for param, value in params.items():\n",
    "        print(f\"{param}: {value}\")"
   ]
  },
  {
   "cell_type": "markdown",
   "id": "f3f2342c-297c-479d-8cad-b957ee6a2846",
   "metadata": {},
   "source": [
    "### Quick parameter search"
   ]
  },
  {
   "cell_type": "markdown",
   "id": "9d3ea731-6e80-461a-bb3c-076600441722",
   "metadata": {},
   "source": [
    "This is used to quickly find a range of appropriate values for individual parameters before conducting a more exhaustive grid search of them all."
   ]
  },
  {
   "cell_type": "code",
   "execution_count": 7,
   "id": "328b158d-5585-4ea7-b0bb-a2dcb750bfad",
   "metadata": {},
   "outputs": [],
   "source": [
    "from sklearn.model_selection import GridSearchCV\n",
    "\n",
    "# quick parameter search where only parameter is varied\n",
    "def quick_param_search(model, param_grid, X_train_tfidf, y_train):\n",
    "    # grid search\n",
    "    grid_search = GridSearchCV(estimator=model, param_grid=param_grid, cv=3, verbose=3, scoring='accuracy')\n",
    "    \n",
    "    # grid search fit \n",
    "    grid_search.fit(X_train_tfidf, y_train)\n",
    "    \n",
    "    # print the best parameters and the corresponding score\n",
    "    print(\"\\nBest parameters found: \", grid_search.best_params_)\n",
    "    print(\"Best cross-validation accuracy: {:.2f}\".format(grid_search.best_score_))"
   ]
  },
  {
   "cell_type": "markdown",
   "id": "b1157325-8615-4746-a156-96979a288c2a",
   "metadata": {},
   "source": [
    "### Comprehensive parameter search"
   ]
  },
  {
   "cell_type": "markdown",
   "id": "67634af4-b034-4494-8e03-c4f89414b493",
   "metadata": {},
   "source": [
    "This conducts an exhaustive search using GridSearchCV with the option to use the more efficient RandomizedSearchCV for models that take more time to tune and/or require a larger number of parameters to be tuned."
   ]
  },
  {
   "cell_type": "code",
   "execution_count": 8,
   "id": "38a14816-79df-4650-bfa8-89f3220a6923",
   "metadata": {},
   "outputs": [],
   "source": [
    "from sklearn.model_selection import RandomizedSearchCV\n",
    "from sklearn.metrics import accuracy_score, classification_report\n",
    "\n",
    "# returns the best set of parameter combinations\n",
    "def get_best_params(model, param_grid, X_train_tfidf, y_train, cv, random_search):\n",
    "    # either conducts and exhaustive grid search or a more efficient random search\n",
    "    if random_search == False:\n",
    "        grid_search = GridSearchCV(model, param_grid, refit=True, verbose=1, cv=cv)\n",
    "        grid_search.fit(X_train_tfidf, y_train)\n",
    "        best_params = grid_search.best_params_\n",
    "        best_model = grid_search.best_estimator_\n",
    "    else:\n",
    "        random_search = RandomizedSearchCV(estimator=rf, param_distributions=param_grid, n_iter=35, cv=cv, n_jobs=-1)\n",
    "        random_search.fit(X_train_tfidf, y_train)\n",
    "        best_params = random_search.best_params_\n",
    "        best_model = random_search.best_estimator_\n",
    "        \n",
    "    return best_params, best_model\n",
    "    \n",
    "\n",
    "# finds the best parameter combinations by risk type\n",
    "def exhaustive_param_search(model, df, put_aside_df, param_grid, language, cv=3, data_percent=1, random_search=False):\n",
    "    # prints language\n",
    "    print('\\n*** ' + language + ' ***\\n')\n",
    "    \n",
    "    # lists the risk types\n",
    "    risk_types = ['political_stability', 'security_violence', 'economic_regulatory']\n",
    "\n",
    "    # a list of the best parameters\n",
    "    best_params_list = []\n",
    "\n",
    "    # a list of non-tuned classification results\n",
    "    tuned_classification_results_list = []\n",
    "\n",
    "    # a list of non-tuned classification results\n",
    "    non_tuned_classification_results_list = []\n",
    "    \n",
    "    # iterates over each risk type\n",
    "    for risk_type in risk_types:\n",
    "        # prints risk type\n",
    "        print()\n",
    "        print('--- ' + risk_type + ' ---\\n')\n",
    "        print()\n",
    "        \n",
    "        # prepares the data\n",
    "        X_train_tfidf, X_test_tfidf, y_train, y_test = prepare_tfidf_vectors(df, put_aside_df, risk_type, data_percent)\n",
    "\n",
    "        # Evaluate the default model on the put-aside (test) data\n",
    "        default_model = model\n",
    "        default_model.fit(X_train_tfidf, y_train)\n",
    "        y_pred = model.predict(X_test_tfidf)\n",
    "        # Calculate accuracy\n",
    "        accuracy = accuracy_score(y_test, y_pred)\n",
    "        print(f\"Default accuracy on the test data: {accuracy:.3f}\\n\")\n",
    "        \n",
    "        # appends the non-tuned classification results to a list\n",
    "        non_tuned_classification_results_list.append(classification_report(y_test, y_pred, output_dict=True))\n",
    "        \n",
    "        # returns the best parameter combination\n",
    "        best_params, best_model = get_best_params(model, param_grid, X_train_tfidf, y_train, cv, random_search)\n",
    "        print(\"\\nBest parameters found: \", best_params)\n",
    "        \n",
    "        # evaluate the best model on the put-aside (test) data\n",
    "        y_pred = best_model.predict(X_test_tfidf)\n",
    "        print(f\"Tuned accuracy on the test data: {accuracy_score(y_test, y_pred):.3f}\\n\")\n",
    "\n",
    "        # appends the best parameter combination to a list\n",
    "        best_params_list.append(best_params)\n",
    "\n",
    "        # appends the tuned classification results to a list\n",
    "        tuned_classification_results_list.append(classification_report(y_test, y_pred, output_dict=True))\n",
    "\n",
    "    # returns a list of classification results for each risk type\n",
    "    return best_params_list, tuned_classification_results_list, non_tuned_classification_results_list"
   ]
  },
  {
   "cell_type": "markdown",
   "id": "d085f4de-5279-45cd-86ba-125e627acef9",
   "metadata": {},
   "source": [
    "## Logistic regression"
   ]
  },
  {
   "cell_type": "markdown",
   "id": "abea55a7-b213-436f-adef-68a87991f846",
   "metadata": {},
   "source": [
    "### LR parameters"
   ]
  },
  {
   "cell_type": "code",
   "execution_count": 9,
   "id": "02bbb822-a16b-4263-855d-24e0a984b118",
   "metadata": {},
   "outputs": [
    {
     "name": "stdout",
     "output_type": "stream",
     "text": [
      "C: 1.0\n",
      "class_weight: None\n",
      "dual: False\n",
      "fit_intercept: True\n",
      "intercept_scaling: 1\n",
      "l1_ratio: None\n",
      "max_iter: 100\n",
      "multi_class: auto\n",
      "n_jobs: None\n",
      "penalty: l2\n",
      "random_state: None\n",
      "solver: lbfgs\n",
      "tol: 0.0001\n",
      "verbose: 0\n",
      "warm_start: False\n"
     ]
    }
   ],
   "source": [
    "from sklearn.linear_model import LogisticRegression\n",
    "\n",
    "# model\n",
    "lr = LogisticRegression()\n",
    "\n",
    "# prints parameters\n",
    "view_params(lr)"
   ]
  },
  {
   "cell_type": "markdown",
   "id": "29f6a8c0-8dfa-48b4-b5b7-487485112c73",
   "metadata": {},
   "source": [
    "### LR quick search"
   ]
  },
  {
   "cell_type": "code",
   "execution_count": 10,
   "id": "5fec6d14-65d0-42e6-8530-201d67a3efe5",
   "metadata": {},
   "outputs": [
    {
     "name": "stdout",
     "output_type": "stream",
     "text": [
      "Fitting 3 folds for each of 4 candidates, totalling 12 fits\n",
      "[CV 1/3] END ......................max_iter=100;, score=0.908 total time=   0.0s\n",
      "[CV 2/3] END ......................max_iter=100;, score=0.896 total time=   0.0s\n",
      "[CV 3/3] END ......................max_iter=100;, score=0.900 total time=   0.0s\n",
      "[CV 1/3] END ......................max_iter=150;, score=0.908 total time=   0.0s\n",
      "[CV 2/3] END ......................max_iter=150;, score=0.896 total time=   0.0s\n",
      "[CV 3/3] END ......................max_iter=150;, score=0.900 total time=   0.0s\n",
      "[CV 1/3] END ......................max_iter=200;, score=0.908 total time=   0.0s\n",
      "[CV 2/3] END ......................max_iter=200;, score=0.896 total time=   0.0s\n",
      "[CV 3/3] END ......................max_iter=200;, score=0.900 total time=   0.0s\n",
      "[CV 1/3] END ......................max_iter=300;, score=0.908 total time=   0.0s\n",
      "[CV 2/3] END ......................max_iter=300;, score=0.896 total time=   0.0s\n",
      "[CV 3/3] END ......................max_iter=300;, score=0.900 total time=   0.0s\n",
      "\n",
      "Best parameters found:  {'max_iter': 100}\n",
      "Best cross-validation accuracy: 0.90\n"
     ]
    }
   ],
   "source": [
    "# parameters\n",
    "param_grid = {\n",
    "    'max_iter': [100, 150, 200, 300]\n",
    "}\n",
    "\n",
    "# conducts a quick parameter seach for a single parameter at a time \n",
    "X_train_tfidf, X_test_tfidf, y_train, y_test = prepare_tfidf_vectors(\n",
    "    spanish_improved_labels_df, \n",
    "    spanish_put_aside_df, \n",
    "    'economic_regulatory',\n",
    "    0.5\n",
    ")\n",
    "quick_param_search(lr, param_grid, X_train_tfidf, y_train)"
   ]
  },
  {
   "cell_type": "markdown",
   "id": "5813f832-f9f5-4331-b09f-116e476aa2fb",
   "metadata": {},
   "source": [
    "### LR exhaustive search"
   ]
  },
  {
   "cell_type": "code",
   "execution_count": 11,
   "id": "1907f857-6967-452a-b5ac-e3edf12ca626",
   "metadata": {
    "scrolled": true
   },
   "outputs": [
    {
     "name": "stdout",
     "output_type": "stream",
     "text": [
      "\n",
      "*** Spanish ***\n",
      "\n",
      "\n",
      "--- political_stability ---\n",
      "\n",
      "\n",
      "Default accuracy on the test data: 0.725\n",
      "\n",
      "Fitting 5 folds for each of 72 candidates, totalling 360 fits\n",
      "\n",
      "Best parameters found:  {'C': 6, 'max_iter': 100, 'penalty': 'l2', 'solver': 'saga'}\n",
      "Tuned accuracy on the test data: 0.707\n",
      "\n",
      "\n",
      "--- security_violence ---\n",
      "\n",
      "\n",
      "Default accuracy on the test data: 0.808\n",
      "\n",
      "Fitting 5 folds for each of 72 candidates, totalling 360 fits\n",
      "\n",
      "Best parameters found:  {'C': 10, 'max_iter': 100, 'penalty': 'l2', 'solver': 'liblinear'}\n",
      "Tuned accuracy on the test data: 0.785\n",
      "\n",
      "\n",
      "--- economic_regulatory ---\n",
      "\n",
      "\n",
      "Default accuracy on the test data: 0.755\n",
      "\n",
      "Fitting 5 folds for each of 72 candidates, totalling 360 fits\n",
      "\n",
      "Best parameters found:  {'C': 4, 'max_iter': 100, 'penalty': 'l2', 'solver': 'liblinear'}\n",
      "Tuned accuracy on the test data: 0.757\n",
      "\n",
      "\n",
      "*** Portuguese ***\n",
      "\n",
      "\n",
      "--- political_stability ---\n",
      "\n",
      "\n",
      "Default accuracy on the test data: 0.770\n",
      "\n",
      "Fitting 5 folds for each of 72 candidates, totalling 360 fits\n",
      "\n",
      "Best parameters found:  {'C': 7, 'max_iter': 150, 'penalty': 'l2', 'solver': 'saga'}\n",
      "Tuned accuracy on the test data: 0.753\n",
      "\n",
      "\n",
      "--- security_violence ---\n",
      "\n",
      "\n",
      "Default accuracy on the test data: 0.872\n",
      "\n",
      "Fitting 5 folds for each of 72 candidates, totalling 360 fits\n",
      "\n",
      "Best parameters found:  {'C': 10, 'max_iter': 150, 'penalty': 'l2', 'solver': 'saga'}\n",
      "Tuned accuracy on the test data: 0.848\n",
      "\n",
      "\n",
      "--- economic_regulatory ---\n",
      "\n",
      "\n",
      "Default accuracy on the test data: 0.832\n",
      "\n",
      "Fitting 5 folds for each of 72 candidates, totalling 360 fits\n",
      "\n",
      "Best parameters found:  {'C': 3, 'max_iter': 300, 'penalty': 'l2', 'solver': 'saga'}\n",
      "Tuned accuracy on the test data: 0.823\n",
      "\n"
     ]
    }
   ],
   "source": [
    "# parameters\n",
    "param_grid = {\n",
    "    'C': [2, 3, 4, 5, 6, 7, 8, 9, 10], \n",
    "    'penalty': ['l2'],\n",
    "    'solver': ['liblinear', 'saga'],\n",
    "    'max_iter': [100, 150, 200, 300]\n",
    "}\n",
    "\n",
    "# searches parameters for spanish and portuguese\n",
    "spanish_lr_best_params, spanish_tuned_lr_classification_results, spanish_non_tuned_lr_classification_results = exhaustive_param_search(\n",
    "    lr, \n",
    "    spanish_improved_labels_df, \n",
    "    spanish_put_aside_df, \n",
    "    param_grid, \n",
    "    'Spanish', \n",
    "    cv=5,\n",
    "    data_percent=1,\n",
    "    random_search=False\n",
    ")\n",
    "portuguese_lr_best_params, portuguese_tuned_lr_classification_results_list, portuguese_non_tuned_lr_classification_results = exhaustive_param_search(\n",
    "    lr, \n",
    "    portuguese_improved_labels_df, \n",
    "    portuguese_put_aside_df, \n",
    "    param_grid, \n",
    "    'Portuguese', \n",
    "    cv=5,\n",
    "    data_percent=1,\n",
    "    random_search=False\n",
    ")"
   ]
  },
  {
   "cell_type": "markdown",
   "id": "c9c45ab0-9468-4fa5-98f6-a7009d335871",
   "metadata": {},
   "source": [
    "## Random forest"
   ]
  },
  {
   "cell_type": "markdown",
   "id": "8a93f3a7-bdc9-48ee-b276-28764efc5079",
   "metadata": {},
   "source": [
    "### RF parameters"
   ]
  },
  {
   "cell_type": "code",
   "execution_count": 12,
   "id": "a29e9361-1d66-4721-9b62-a6b83e2a6b99",
   "metadata": {},
   "outputs": [
    {
     "name": "stdout",
     "output_type": "stream",
     "text": [
      "bootstrap: True\n",
      "ccp_alpha: 0.0\n",
      "class_weight: None\n",
      "criterion: gini\n",
      "max_depth: None\n",
      "max_features: sqrt\n",
      "max_leaf_nodes: None\n",
      "max_samples: None\n",
      "min_impurity_decrease: 0.0\n",
      "min_samples_leaf: 1\n",
      "min_samples_split: 2\n",
      "min_weight_fraction_leaf: 0.0\n",
      "monotonic_cst: None\n",
      "n_estimators: 100\n",
      "n_jobs: None\n",
      "oob_score: False\n",
      "random_state: None\n",
      "verbose: 0\n",
      "warm_start: False\n"
     ]
    }
   ],
   "source": [
    "from sklearn.ensemble import RandomForestClassifier\n",
    "\n",
    "# model\n",
    "rf = RandomForestClassifier()\n",
    "\n",
    "# prints parameters\n",
    "view_params(rf)"
   ]
  },
  {
   "cell_type": "markdown",
   "id": "36c34dc8-bb94-4a44-8698-f499575e1545",
   "metadata": {},
   "source": [
    "### RF quick search"
   ]
  },
  {
   "cell_type": "code",
   "execution_count": 13,
   "id": "abb554f4-2db2-49c3-8e03-ae6bff256468",
   "metadata": {},
   "outputs": [
    {
     "name": "stdout",
     "output_type": "stream",
     "text": [
      "Fitting 3 folds for each of 2 candidates, totalling 6 fits\n",
      "[CV 1/3] END ....................bootstrap=True;, score=0.897 total time=   4.4s\n",
      "[CV 2/3] END ....................bootstrap=True;, score=0.877 total time=   4.2s\n",
      "[CV 3/3] END ....................bootstrap=True;, score=0.884 total time=   4.2s\n",
      "[CV 1/3] END ...................bootstrap=False;, score=0.903 total time=   7.4s\n",
      "[CV 2/3] END ...................bootstrap=False;, score=0.878 total time=   7.1s\n",
      "[CV 3/3] END ...................bootstrap=False;, score=0.887 total time=   7.5s\n",
      "\n",
      "Best parameters found:  {'bootstrap': False}\n",
      "Best cross-validation accuracy: 0.89\n"
     ]
    }
   ],
   "source": [
    "# parameters\n",
    "param_grid = {\n",
    "    'bootstrap': [True, False]\n",
    "}\n",
    "\n",
    "# conducts a quick parameter seach for a single parameter at a time \n",
    "X_train_tfidf, X_test_tfidf, y_train, y_test = prepare_tfidf_vectors(\n",
    "    spanish_improved_labels_df, \n",
    "    spanish_put_aside_df, \n",
    "    'political_stability',\n",
    "    0.5\n",
    ")\n",
    "quick_param_search(rf, param_grid, X_train_tfidf, y_train)"
   ]
  },
  {
   "cell_type": "markdown",
   "id": "2e0ba6c0-0f32-43c4-8722-f2b320c71a9f",
   "metadata": {},
   "source": [
    "### RF exhaustive search"
   ]
  },
  {
   "cell_type": "code",
   "execution_count": 14,
   "id": "96854bcb-a01c-4519-a6bf-c57a9c62c6c9",
   "metadata": {
    "scrolled": true
   },
   "outputs": [
    {
     "name": "stdout",
     "output_type": "stream",
     "text": [
      "\n",
      "*** Spanish ***\n",
      "\n",
      "\n",
      "--- political_stability ---\n",
      "\n",
      "\n",
      "Default accuracy on the test data: 0.698\n",
      "\n",
      "\n",
      "Best parameters found:  {'n_estimators': 50, 'min_samples_split': 5, 'min_samples_leaf': 2, 'max_depth': None, 'bootstrap': False}\n",
      "Tuned accuracy on the test data: 0.650\n",
      "\n",
      "\n",
      "--- security_violence ---\n",
      "\n",
      "\n",
      "Default accuracy on the test data: 0.788\n",
      "\n",
      "\n",
      "Best parameters found:  {'n_estimators': 75, 'min_samples_split': 5, 'min_samples_leaf': 4, 'max_depth': None, 'bootstrap': False}\n",
      "Tuned accuracy on the test data: 0.777\n",
      "\n",
      "\n",
      "--- economic_regulatory ---\n",
      "\n",
      "\n",
      "Default accuracy on the test data: 0.725\n",
      "\n",
      "\n",
      "Best parameters found:  {'n_estimators': 125, 'min_samples_split': 10, 'min_samples_leaf': 2, 'max_depth': None, 'bootstrap': False}\n",
      "Tuned accuracy on the test data: 0.673\n",
      "\n",
      "\n",
      "*** Portuguese ***\n",
      "\n",
      "\n",
      "--- political_stability ---\n",
      "\n",
      "\n",
      "Default accuracy on the test data: 0.745\n",
      "\n",
      "\n",
      "Best parameters found:  {'n_estimators': 100, 'min_samples_split': 5, 'min_samples_leaf': 1, 'max_depth': 40, 'bootstrap': False}\n",
      "Tuned accuracy on the test data: 0.757\n",
      "\n",
      "\n",
      "--- security_violence ---\n",
      "\n",
      "\n",
      "Default accuracy on the test data: 0.868\n",
      "\n",
      "\n",
      "Best parameters found:  {'n_estimators': 75, 'min_samples_split': 5, 'min_samples_leaf': 2, 'max_depth': 40, 'bootstrap': False}\n",
      "Tuned accuracy on the test data: 0.847\n",
      "\n",
      "\n",
      "--- economic_regulatory ---\n",
      "\n",
      "\n",
      "Default accuracy on the test data: 0.798\n",
      "\n",
      "\n",
      "Best parameters found:  {'n_estimators': 150, 'min_samples_split': 2, 'min_samples_leaf': 2, 'max_depth': None, 'bootstrap': False}\n",
      "Tuned accuracy on the test data: 0.750\n",
      "\n"
     ]
    }
   ],
   "source": [
    "# parameters\n",
    "param_grid = {\n",
    "    'n_estimators': [50, 75, 100, 125, 150],\n",
    "    'max_depth': [None, 10, 20, 30, 40],\n",
    "    'min_samples_split': [2, 5, 10],\n",
    "    'min_samples_leaf': [1, 2, 4],\n",
    "    'bootstrap': [True, False]\n",
    "}\n",
    "\n",
    "# searches parameters for spanish and portuguese\n",
    "spanish_rf_best_params, spanish_tuned_rf_classification_results, spanish_non_tuned_rf_classification_results = exhaustive_param_search(\n",
    "    rf, \n",
    "    spanish_improved_labels_df, \n",
    "    spanish_put_aside_df, \n",
    "    param_grid, \n",
    "    'Spanish',\n",
    "    cv=3,\n",
    "    data_percent=0.5,\n",
    "    random_search=True\n",
    ")\n",
    "portuguese_rf_best_params, portuguese_tuned_rf_classification_results_list, portuguese_non_tuned_rf_classification_results = exhaustive_param_search(\n",
    "    rf, \n",
    "    portuguese_improved_labels_df, \n",
    "    portuguese_put_aside_df, \n",
    "    param_grid, \n",
    "    'Portuguese',\n",
    "    cv=3,\n",
    "    data_percent=0.5,\n",
    "    random_search=True\n",
    ")"
   ]
  },
  {
   "cell_type": "markdown",
   "id": "2f09040a-a2d4-4c76-bf2c-9b50a066ac7a",
   "metadata": {},
   "source": [
    "## Support vector machine (SVM) "
   ]
  },
  {
   "cell_type": "markdown",
   "id": "ef483779-6e67-4ca2-b34d-f8b3148ab92a",
   "metadata": {},
   "source": [
    "### SVM parameters"
   ]
  },
  {
   "cell_type": "code",
   "execution_count": 15,
   "id": "f43cbee6-7266-4ab9-ab8e-9c83ba892f67",
   "metadata": {},
   "outputs": [
    {
     "name": "stdout",
     "output_type": "stream",
     "text": [
      "C: 1.0\n",
      "break_ties: False\n",
      "cache_size: 200\n",
      "class_weight: None\n",
      "coef0: 0.0\n",
      "decision_function_shape: ovr\n",
      "degree: 3\n",
      "gamma: scale\n",
      "kernel: rbf\n",
      "max_iter: -1\n",
      "probability: False\n",
      "random_state: None\n",
      "shrinking: True\n",
      "tol: 0.001\n",
      "verbose: False\n"
     ]
    }
   ],
   "source": [
    "from sklearn.svm import SVC\n",
    "\n",
    "# model\n",
    "svc = SVC()\n",
    "\n",
    "# prints parameters\n",
    "view_params(svc)"
   ]
  },
  {
   "cell_type": "markdown",
   "id": "c9cc54dd-2701-4a09-b869-3d3646a8d4de",
   "metadata": {},
   "source": [
    "### SVM quick search"
   ]
  },
  {
   "cell_type": "code",
   "execution_count": 16,
   "id": "bb2ebae7-fd29-47d7-8d2d-441d982f8757",
   "metadata": {},
   "outputs": [
    {
     "name": "stdout",
     "output_type": "stream",
     "text": [
      "Fitting 3 folds for each of 2 candidates, totalling 6 fits\n",
      "[CV 1/3] END .......................gamma=scale;, score=0.915 total time=   0.7s\n",
      "[CV 2/3] END .......................gamma=scale;, score=0.899 total time=   0.5s\n",
      "[CV 3/3] END .......................gamma=scale;, score=0.888 total time=   0.5s\n",
      "[CV 1/3] END ........................gamma=auto;, score=0.503 total time=   0.5s\n",
      "[CV 2/3] END ........................gamma=auto;, score=0.502 total time=   0.5s\n",
      "[CV 3/3] END ........................gamma=auto;, score=0.502 total time=   0.5s\n",
      "\n",
      "Best parameters found:  {'gamma': 'scale'}\n",
      "Best cross-validation accuracy: 0.90\n"
     ]
    }
   ],
   "source": [
    "# parameters\n",
    "param_grid = {\n",
    "    'gamma': ['scale', 'auto']\n",
    "}\n",
    "\n",
    "# conducts a quick parameter seach for a single parameter at a time \n",
    "X_train_tfidf, X_test_tfidf, y_train, y_test = prepare_tfidf_vectors(\n",
    "    spanish_improved_labels_df, \n",
    "    spanish_put_aside_df, \n",
    "    'economic_regulatory',\n",
    "    0.5\n",
    ")\n",
    "quick_param_search(svc, param_grid, X_train_tfidf, y_train)"
   ]
  },
  {
   "cell_type": "markdown",
   "id": "85149e1a-0aba-47e6-96d0-098ec14db1aa",
   "metadata": {},
   "source": [
    "### SVM exhaustive search"
   ]
  },
  {
   "cell_type": "code",
   "execution_count": 17,
   "id": "f5747b8e-1b01-47f5-a730-f9dbd38e1844",
   "metadata": {},
   "outputs": [
    {
     "name": "stdout",
     "output_type": "stream",
     "text": [
      "\n",
      "*** Spanish ***\n",
      "\n",
      "\n",
      "--- political_stability ---\n",
      "\n",
      "\n",
      "Default accuracy on the test data: 0.725\n",
      "\n",
      "Fitting 3 folds for each of 12 candidates, totalling 36 fits\n",
      "\n",
      "Best parameters found:  {'C': 1.25, 'gamma': 'scale', 'kernel': 'linear'}\n",
      "Tuned accuracy on the test data: 0.695\n",
      "\n",
      "\n",
      "--- security_violence ---\n",
      "\n",
      "\n",
      "Default accuracy on the test data: 0.808\n",
      "\n",
      "Fitting 3 folds for each of 12 candidates, totalling 36 fits\n",
      "\n",
      "Best parameters found:  {'C': 0.75, 'gamma': 'scale', 'kernel': 'linear'}\n",
      "Tuned accuracy on the test data: 0.793\n",
      "\n",
      "\n",
      "--- economic_regulatory ---\n",
      "\n",
      "\n",
      "Default accuracy on the test data: 0.707\n",
      "\n",
      "Fitting 3 folds for each of 12 candidates, totalling 36 fits\n",
      "\n",
      "Best parameters found:  {'C': 0.75, 'gamma': 'scale', 'kernel': 'linear'}\n",
      "Tuned accuracy on the test data: 0.702\n",
      "\n",
      "\n",
      "*** Portuguese ***\n",
      "\n",
      "\n",
      "--- political_stability ---\n",
      "\n",
      "\n",
      "Default accuracy on the test data: 0.777\n",
      "\n",
      "Fitting 3 folds for each of 12 candidates, totalling 36 fits\n",
      "\n",
      "Best parameters found:  {'C': 1, 'gamma': 'scale', 'kernel': 'linear'}\n",
      "Tuned accuracy on the test data: 0.748\n",
      "\n",
      "\n",
      "--- security_violence ---\n",
      "\n",
      "\n",
      "Default accuracy on the test data: 0.878\n",
      "\n",
      "Fitting 3 folds for each of 12 candidates, totalling 36 fits\n",
      "\n",
      "Best parameters found:  {'C': 1, 'gamma': 'scale', 'kernel': 'linear'}\n",
      "Tuned accuracy on the test data: 0.852\n",
      "\n",
      "\n",
      "--- economic_regulatory ---\n",
      "\n",
      "\n",
      "Default accuracy on the test data: 0.835\n",
      "\n",
      "Fitting 3 folds for each of 12 candidates, totalling 36 fits\n",
      "\n",
      "Best parameters found:  {'C': 1, 'gamma': 'scale', 'kernel': 'linear'}\n",
      "Tuned accuracy on the test data: 0.810\n",
      "\n"
     ]
    }
   ],
   "source": [
    "# parameters\n",
    "param_grid = {\n",
    "    'C': [0.75, 1, 1.25], \n",
    "    'kernel': ['linear', 'rbf'],\n",
    "    'gamma': ['scale', 'auto']\n",
    "}\n",
    "\n",
    "# searches parameters for spanish and portuguese\n",
    "spanish_svm_best_params, spanish_tuned_svm_classification_results, spanish_non_tuned_svm_classification_results = exhaustive_param_search(\n",
    "    svc, \n",
    "    spanish_improved_labels_df, \n",
    "    spanish_put_aside_df, \n",
    "    param_grid, \n",
    "    'Spanish',\n",
    "    cv=3,\n",
    "    data_percent=0.5,\n",
    "    random_search=False\n",
    ")\n",
    "portuguese_svm_best_params, portuguese_tuned_svm_classification_results_list, portuguese_non_tuned_svm_classification_results = exhaustive_param_search(\n",
    "    svc, \n",
    "    portuguese_improved_labels_df, \n",
    "    portuguese_put_aside_df, \n",
    "    param_grid, \n",
    "    'Portuguese',\n",
    "    cv=3,\n",
    "    data_percent=0.5,\n",
    "    random_search=False\n",
    ")"
   ]
  },
  {
   "cell_type": "markdown",
   "id": "bd4194d4-02bc-4964-8813-51b1b48deab3",
   "metadata": {},
   "source": [
    "## Visualize results"
   ]
  },
  {
   "cell_type": "markdown",
   "id": "ad072ce4-b971-4406-aec7-9fd7c7cb7547",
   "metadata": {},
   "source": [
    "The change in performance (as evaluated on the put aside data) from the default model to the tuned model is averaged for each risk type and visualized below. Tuning appears to have mostly decreased the performance on the put aside data, suggesting the dataset does not reflect the real distribution. "
   ]
  },
  {
   "cell_type": "code",
   "execution_count": 24,
   "id": "2c0ae0cc-3812-4796-8ada-55f5c16aed98",
   "metadata": {},
   "outputs": [
    {
     "data": {
      "image/png": "[encoded data removed]",
      "text/plain": [
       "<Figure size 1200x500 with 2 Axes>"
      ]
     },
     "metadata": {},
     "output_type": "display_data"
    },
    {
     "data": {
      "image/png": "[encoded data removed]",
      "text/plain": [
       "<Figure size 1200x500 with 2 Axes>"
      ]
     },
     "metadata": {},
     "output_type": "display_data"
    },
    {
     "data": {
      "image/png": "[encoded data removed]",
      "text/plain": [
       "<Figure size 1200x500 with 2 Axes>"
      ]
     },
     "metadata": {},
     "output_type": "display_data"
    }
   ],
   "source": [
    "import matplotlib.pyplot as plt\n",
    "\n",
    "# gets the average accuracy across risk types\n",
    "def get_accuracy(list):\n",
    "    accuracy = []\n",
    "    for item in list:\n",
    "        accuracy.append(item['accuracy'])\n",
    "    return round(np.mean(accuracy), 3)\n",
    "\n",
    "# gets the average precision across risk types\n",
    "def get_precision(list):\n",
    "    accuracy = []\n",
    "    for item in list:\n",
    "        accuracy.append(item['1']['precision'])\n",
    "    return round(np.mean(accuracy), 3)\n",
    "\n",
    "# gets the average recall across risk types\n",
    "def get_recall(list):\n",
    "    accuracy = []\n",
    "    for item in list:\n",
    "        accuracy.append(item['1']['recall'])\n",
    "    return round(np.mean(accuracy), 3)\n",
    "\n",
    "# calculates the average metric change from default to tuned model\n",
    "def calculate_avg_metrics(non_tuned, tuned):\n",
    "    accuracy = round((get_accuracy(tuned) - get_accuracy(non_tuned)) * 100, 2)\n",
    "    precision = round((get_precision(tuned) - get_precision(non_tuned)) * 100, 2)\n",
    "    recall = round((get_recall(tuned) - get_recall(non_tuned)) * 100, 2)\n",
    "    return accuracy, precision, recall\n",
    "\n",
    "# not tuned model result \n",
    "not_tuned = [\n",
    "    spanish_non_tuned_lr_classification_results,\n",
    "    portuguese_non_tuned_lr_classification_results,\n",
    "    spanish_non_tuned_rf_classification_results,\n",
    "    portuguese_non_tuned_rf_classification_results,\n",
    "    spanish_non_tuned_svm_classification_results,\n",
    "    portuguese_non_tuned_svm_classification_results\n",
    "]\n",
    "\n",
    "# tuned model results\n",
    "tuned = [\n",
    "    spanish_tuned_lr_classification_results,\n",
    "    portuguese_tuned_lr_classification_results_list,\n",
    "    spanish_tuned_rf_classification_results,\n",
    "    portuguese_tuned_rf_classification_results_list,\n",
    "    spanish_tuned_svm_classification_results,\n",
    "    portuguese_tuned_svm_classification_results_list\n",
    "]\n",
    "\n",
    "# calculates average metrics for each model for each language\n",
    "average_metrics = []\n",
    "for i, baseline in enumerate(not_tuned):\n",
    "    average_metrics.append(\n",
    "        calculate_avg_metrics(baseline, tuned[i])\n",
    "    )\n",
    "\n",
    "# places text slightly above zero for negative values\n",
    "def add_value_labels_above_zero(ax, bars):\n",
    "    for bar in bars:\n",
    "        yval = bar.get_height()\n",
    "        # Place the label above the bar if positive, and slightly above zero if negative\n",
    "        text_yval = yval + 0.02 if yval >= 0 else 0.05  # Small offset above zero for negative bars\n",
    "        ax.text(bar.get_x() + bar.get_width() / 2, text_yval, str(round(yval, 2)) + '%', ha='center', va='bottom', color='black')\n",
    "\n",
    "# colors based on the value\n",
    "def get_colors(data):\n",
    "    return ['green' if val >= 0 else 'red' for val in data]\n",
    "\n",
    "# labels for the metrics\n",
    "metrics = ['Accuracy', 'Precision', 'Recall']\n",
    "\n",
    "# creates a subplot for a given model showing the averaged results for both languages\n",
    "def create_metrics_subplot(first_row, second_row, title):\n",
    "    # Create a subplot with 2 columns and 1 row\n",
    "    fig, axes = plt.subplots(1, 2, figsize=(12, 5))\n",
    "\n",
    "    y_lim_max = max(average_metrics[first_row] + average_metrics[second_row]) + 0.75\n",
    "    y_lim_min = min(average_metrics[first_row] + average_metrics[second_row]) - 0.75\n",
    "    \n",
    "    # Data for Spanish\n",
    "    spanish_data = [average_metrics[first_row][0], average_metrics[first_row][1], average_metrics[first_row][2]]\n",
    "    colors1 = get_colors(spanish_data)\n",
    "    bars1 = axes[0].bar(metrics, spanish_data, color=colors1)\n",
    "    axes[0].set_title('Spanish')\n",
    "    axes[0].set_ylim(y_lim_min, y_lim_max)\n",
    "    axes[0].set_ylabel('%')\n",
    "    axes[0].tick_params(axis='x')\n",
    "    add_value_labels_above_zero(axes[0], bars1)\n",
    "    \n",
    "    # Data for Portuguese\n",
    "    portuguese_data = [average_metrics[second_row][0], average_metrics[second_row][1], average_metrics[second_row][2]]\n",
    "    colors2 = get_colors(portuguese_data)\n",
    "    bars2 = axes[1].bar(metrics, portuguese_data, color=colors2)\n",
    "    axes[1].set_title('Portuguese')\n",
    "    axes[1].set_ylim(y_lim_min, y_lim_max)\n",
    "    axes[1].set_ylabel('%')\n",
    "    axes[1].tick_params(axis='x')\n",
    "    add_value_labels_above_zero(axes[1], bars2)\n",
    "    \n",
    "    fig.suptitle(title, fontsize=18)\n",
    "    \n",
    "    # Adjust layout for better spacing\n",
    "    plt.tight_layout()\n",
    "\n",
    "    # Save image\n",
    "    image_name = '_'.join(title.split(' ')).lower() + '_paramter_tuning_results'\n",
    "    plt.savefig(f'../Images/{image_name}.png', dpi=600, bbox_inches='tight')\n",
    "    \n",
    "    # Show the plot\n",
    "    plt.show()\n",
    "\n",
    "create_metrics_subplot(0, 1, 'Logistic regression')\n",
    "create_metrics_subplot(2, 3, 'Random forest')\n",
    "create_metrics_subplot(4, 5, 'Support vector machine')"
   ]
  }
 ],
 "metadata": {
  "kernelspec": {
   "display_name": "Python 3 (ipykernel)",
   "language": "python",
   "name": "python3"
  },
  "language_info": {
   "codemirror_mode": {
    "name": "ipython",
    "version": 3
   },
   "file_extension": ".py",
   "mimetype": "text/x-python",
   "name": "python",
   "nbconvert_exporter": "python",
   "pygments_lexer": "ipython3",
   "version": "3.11.7"
  }
 },
 "nbformat": 4,
 "nbformat_minor": 5
}
