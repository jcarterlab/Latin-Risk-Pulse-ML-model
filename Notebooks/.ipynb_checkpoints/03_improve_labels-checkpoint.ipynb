{
 "cells": [
  {
   "cell_type": "markdown",
   "id": "ad0583d6-ce4f-4a6b-90e2-b5c491bab49c",
   "metadata": {},
   "source": [
    "# 03) Improve labels"
   ]
  },
  {
   "cell_type": "markdown",
   "id": "179755f3-9933-450c-85c2-3f3462b80b51",
   "metadata": {},
   "source": [
    "A key problem with the headlines data is that keyword matching during the data collection process likely resulted in missed risk headlines that are now wrongly assumed to be non-risk. To tackle this problem, a regression model for each language (Spanish and Portuguese) is trained on half of the data at a time to generate predictions for the other half's headlines. A slice of low probability headlines are then used for the non-risk category."
   ]
  },
  {
   "cell_type": "markdown",
   "id": "b4df94d6-83db-4396-8697-9615ce4ebf8a",
   "metadata": {},
   "source": [
    "## Read-in data"
   ]
  },
  {
   "cell_type": "markdown",
   "id": "0616ac5e-0973-4b72-8a57-4765133e4f53",
   "metadata": {},
   "source": [
    "Seperate dataframes are read-in for each language and dataset type. "
   ]
  },
  {
   "cell_type": "code",
   "execution_count": 1,
   "id": "1a81d4ae-639e-4e61-802b-7b339ca3a8b9",
   "metadata": {},
   "outputs": [
    {
     "name": "stdout",
     "output_type": "stream",
     "text": [
      "74.9K Spanish train headlines\n",
      "0.6K Spanish put aside headlines\n",
      "15.0K Portuguese train headlines\n",
      "0.6K Portuguese put aside headlines\n"
     ]
    }
   ],
   "source": [
    "import pandas as pd\n",
    "import numpy as np\n",
    "\n",
    "# reads in the spanish train headlines\n",
    "spanish_train_df = pd.read_csv('../Data/spanish_train_df.csv', encoding='utf-8').reset_index(drop=True)\n",
    "print(str(round(len(spanish_train_df)/1000, 1)) + 'K Spanish train headlines')\n",
    "\n",
    "# reads in the spanish put aside headlines\n",
    "spanish_put_aside_df = pd.read_csv('../Data/spanish_put_aside_df.csv', encoding='utf-8').reset_index(drop=True)\n",
    "print(str(round(len(spanish_put_aside_df)/1000, 1)) + 'K Spanish put aside headlines')\n",
    "\n",
    "# reads in the portuguese train headlines\n",
    "portuguese_train_df = pd.read_csv('../Data/portuguese_train_df.csv', encoding='utf-8').reset_index(drop=True)\n",
    "print(str(round(len(portuguese_train_df)/1000, 1)) + 'K Portuguese train headlines')\n",
    "\n",
    "# reads in the portuguese put aside headlines\n",
    "portuguese_put_aside_df = pd.read_csv('../Data/portuguese_put_aside_df.csv', encoding='utf-8').reset_index(drop=True)\n",
    "print(str(round(len(portuguese_put_aside_df)/1000, 1)) + 'K Portuguese put aside headlines')"
   ]
  },
  {
   "cell_type": "markdown",
   "id": "021bb365-106a-464d-8a44-68c3e6c5d261",
   "metadata": {},
   "source": [
    "## Filter labels"
   ]
  },
  {
   "cell_type": "markdown",
   "id": "8cde4337-0ee8-441c-ad72-c0a22eff56f6",
   "metadata": {},
   "source": [
    "### Half dataframes"
   ]
  },
  {
   "cell_type": "markdown",
   "id": "e8ad3760-0778-4cd1-a8d4-56e4afc09132",
   "metadata": {},
   "source": [
    "Each dataframe is randomly split into two sets so a model can be trained on each set and used to predict headlines for the other."
   ]
  },
  {
   "cell_type": "code",
   "execution_count": 2,
   "id": "ac502d8e-2ee1-4945-adbb-08f875793708",
   "metadata": {},
   "outputs": [],
   "source": [
    "# randomly split a dataframe into 2 equal size groups \n",
    "def half_dataframes(df):\n",
    "    population = list(range(len(df)))\n",
    "    half_headlines = int(np.floor(len(population) / 2))\n",
    "    random_samples = random.sample(population, half_headlines)\n",
    "    return df.loc[random_samples,:].reset_index(drop=True), df.loc[~df.index.isin(random_samples), :].reset_index(drop=True)"
   ]
  },
  {
   "cell_type": "markdown",
   "id": "827ab7a5-0013-4c5a-9211-43c3a4740fbb",
   "metadata": {},
   "source": [
    "### Fit model"
   ]
  },
  {
   "cell_type": "markdown",
   "id": "6a83f72d-10e8-4d8c-ad4c-2ac7036bec22",
   "metadata": {},
   "source": [
    "A model is fit using TF-IDF vectors and logistic regression. A regression model is used to obtain probabilities so that the classification threshold can be easily varied. "
   ]
  },
  {
   "cell_type": "code",
   "execution_count": 3,
   "id": "2a650657-5a11-4fa9-81cb-8563d834430e",
   "metadata": {},
   "outputs": [],
   "source": [
    "from sklearn.feature_extraction.text import TfidfVectorizer\n",
    "from sklearn.linear_model import LogisticRegression\n",
    "\n",
    "# vectorizes data and fits a model \n",
    "def fit_model(df):\n",
    "    X, y = df.headline, [int(pd.notna(x)) for x in df.risk_type]\n",
    "    vectorizer = TfidfVectorizer()\n",
    "    train_tfidf = vectorizer.fit_transform(X)\n",
    "    model = LogisticRegression()\n",
    "    model.fit(train_tfidf, y)\n",
    "    return vectorizer, model"
   ]
  },
  {
   "cell_type": "markdown",
   "id": "5aab4d7d-7f58-4536-acd3-c63e974f3da4",
   "metadata": {},
   "source": [
    "### Add predictions"
   ]
  },
  {
   "cell_type": "markdown",
   "id": "e65ed46e-0ff1-4bb7-83fd-c11e7810b208",
   "metadata": {},
   "source": [
    "Predictions from one half of each dataset are added to the other half and vice versa."
   ]
  },
  {
   "cell_type": "code",
   "execution_count": 4,
   "id": "c962ca39-2012-4ba9-8924-249aa61d0912",
   "metadata": {},
   "outputs": [],
   "source": [
    "import random\n",
    "\n",
    "# returns predictions as binary decisions and probabilities\n",
    "def predict_headlines(df, vectorizer, model):\n",
    "    tfidf_vectors = vectorizer.transform(df.headline)\n",
    "    y_preds = model.predict(tfidf_vectors)\n",
    "    y_pred_prob = [np.mean(model.predict_proba(x)[:, 1]) for x in tfidf_vectors]\n",
    "    return y_preds, y_pred_prob \n",
    "\n",
    "# adds the predictions for each half of the data to their respective dfs\n",
    "def add_predictions_to_df(primary_df, secondary_df):\n",
    "    vectorizer, model = fit_model(secondary_df)\n",
    "    y_preds, y_pred_prob = predict_headlines(primary_df, vectorizer, model)\n",
    "    primary_df['y_pred'], primary_df['y_pred_prob'] = y_preds, y_pred_prob\n",
    "    primary_df.sort_values('y_pred_prob', ascending=False, inplace=True)\n",
    "    return primary_df\n",
    "\n",
    "# returns a headlines dataframe along with their predictions for veiwing\n",
    "# this is useful so we can set appropriate upper and lower limits for the \n",
    "# slice of low probability non-risk headlines we will select later on\n",
    "def return_headline_preds(df, language):\n",
    "    df_1, df_2 = half_dataframes(df) \n",
    "    df_1, df_2 = add_predictions_to_df(df_1, df_2), add_predictions_to_df(df_2, df_1)\n",
    "    return df_1, df_2\n",
    "\n",
    "spanish_df_1, spanish_df_2 = return_headline_preds(spanish_train_df, 'Spanish')\n",
    "portuguese_df_1, portuguese_df_2 = return_headline_preds(portuguese_train_df, 'Portuguese')"
   ]
  },
  {
   "cell_type": "markdown",
   "id": "860a16e5-01d9-4381-82f2-e8cbbf17f617",
   "metadata": {},
   "source": [
    "### Find false negatives threshold"
   ]
  },
  {
   "cell_type": "markdown",
   "id": "92f8efb4-5613-4d93-be69-ebc2e01951a7",
   "metadata": {},
   "source": [
    "The threshold at which false negatives are no longer common is located."
   ]
  },
  {
   "cell_type": "code",
   "execution_count": 5,
   "id": "7c34fd48-344e-48e3-bdb8-7a9f97de61f8",
   "metadata": {},
   "outputs": [
    {
     "name": "stdout",
     "output_type": "stream",
     "text": [
      "\n",
      "Total non-risk headlines: 32282\n",
      "\n",
      "11201:   presenta directora cij torreón segundo informe 1115\n",
      "7947:   rebajaron condena ‘monstruo becerril’ hombre abusó 3 niñas\n",
      "18546:   reconocido ingeniero tucumano murió volcar san juan regresaba mendoza\n",
      "26856:   clima veracruz prevén aumento temperatura sábado\n",
      "23181:   conductor transmilenio igualito pedro coral\n",
      "34062:   incendio devora ruta urbana san pedro nl reportan pasajeros heridos\n",
      "21860:   encarece plata oro\n",
      "4881:   atención inversores refugiarse crash mercados\n",
      "12335:   hospital italiano difundió segundo parte médico oficial salud jorge lanata\n",
      "9529:   segovia antioquia 18 km remedios antioquia 22 km vegachí antioquia 52 km\n",
      "\n",
      "Total non-risk headlines: 5852\n",
      "\n",
      "782:   porto alegre forte entenda projeto diminuir impacto enchentes votado câmara vereadores\n",
      "6198:   rio janeiro incêndio pavãopavãozinhocantagalo associação moradores lamenta destruição biblioteca ponto turístico espaço voltado público infantil contava cerca cinco mil livros\n",
      "5979:   política stf maioria obrigar escolas combater bullying intolerância 28062024 18h40\n",
      "1303:   variedadestendências design óculos grau masculinos ano últimos anos tendências óculos grau masculinos têm tomado espaço mundo d\n",
      "373:   the love school escola amor\n",
      "1426:   mato grosso sul declara emergência cidades afetadas incêndios florestais\n",
      "2087:   sindicato agências reguladoras aprova nova paralisação nacional 72h 5min agência estado\n",
      "0:   ”a parte alta cidade abandonada vamos trabalhar pra mudar realidade” disse marcus alexandre visita bairros vitória eldorado\n",
      "6369:   vazamento amônia mobiliza órgãos canoas causa danos segundo empresa\n",
      "2615:   tratamento médico dá esperança jovem mineira ‘pior dor mundo’\n"
     ]
    }
   ],
   "source": [
    "# this function shows the non-risk labelled headlines ordered\n",
    "# from the lowest to highest probability score. An ml practitioner \n",
    "# can use this to find the appropriate threshold for which \n",
    "# there are no longer many false negatives in the data...\n",
    "def view_nonrisk_highest_rows(df, start, end):\n",
    "    temp_df = df.loc[pd.isna(df.risk_type)].sort_values('y_pred_prob')\n",
    "    print()\n",
    "    print('Total non-risk headlines: ' + str(len(temp_df)))\n",
    "    print()\n",
    "    selected_index_df = temp_df.iloc[start:end, :]\n",
    "    for i in range(len(selected_index_df)):\n",
    "        print(str(selected_index_df.index[i]) + ':   ' + selected_index_df.headline.values[i])\n",
    "    percent = end / len(temp_df)\n",
    "    return percent\n",
    "\n",
    "spanish_false_negative_percent = view_nonrisk_highest_rows(spanish_df_1, 7990, 8000)\n",
    "portuguese_false_negative_percent = view_nonrisk_highest_rows(portuguese_df_1, 1990, 2000)"
   ]
  },
  {
   "cell_type": "markdown",
   "id": "7aa88004-8879-4db2-b99e-1e532e355adf",
   "metadata": {},
   "source": [
    "### Drop false negatives"
   ]
  },
  {
   "cell_type": "markdown",
   "id": "2b9044d4-137d-4f8a-a3e7-78340defc58c",
   "metadata": {},
   "source": [
    "All non-risk headlines above the threshold above are dropped, eliminating many false negatives and tackling the class imbalance problem (see notebook 1)."
   ]
  },
  {
   "cell_type": "code",
   "execution_count": 6,
   "id": "3f024a71-a4b9-4064-a061-10fea3991bcd",
   "metadata": {},
   "outputs": [],
   "source": [
    "# drops a number of non-risk headlines based on their prediction scores\n",
    "def drop_non_risk_headlines(df, percent):   \n",
    "    non_risk_df = df.loc[pd.isna(df.risk_type)]\n",
    "    risk_df = df.loc[~pd.isna(df.risk_type)]\n",
    "    lower_limit, upper_limit = 0, int(np.floor(len(non_risk_df) * percent))\n",
    "    low_score_non_risk = non_risk_df.iloc[(len(non_risk_df)-upper_limit):(len(non_risk_df)-lower_limit),:]\n",
    "    return pd.concat([risk_df, low_score_non_risk])\n",
    "\n",
    "# creates a filtered dataframe combining both halfs of the data \n",
    "# after dropping headlines with high predictions\n",
    "def create_filtered_df(df_1, df_2, percent):\n",
    "    df_1, df_2 =  drop_non_risk_headlines(df_1, percent), drop_non_risk_headlines(df_2, percent)\n",
    "    return pd.concat([df_1, df_2])\n",
    "\n",
    "false_negatives_filtered_spanish_df = create_filtered_df(spanish_df_1, spanish_df_2, spanish_false_negative_percent)\n",
    "false_negatives_filtered_portuguese_df = create_filtered_df(portuguese_df_1, portuguese_df_2, portuguese_false_negative_percent)"
   ]
  },
  {
   "cell_type": "markdown",
   "id": "198fb858-ea54-4e01-a4b1-0b5e5efe3869",
   "metadata": {},
   "source": [
    "### Find false positives threshold"
   ]
  },
  {
   "cell_type": "markdown",
   "id": "dd8d2e7c-357c-4be8-81f8-5894bc43ef2e",
   "metadata": {},
   "source": [
    "The threshold for false positives is found by exploring the data."
   ]
  },
  {
   "cell_type": "code",
   "execution_count": 7,
   "id": "b0108055-5cf3-4291-845b-8f752b582bd6",
   "metadata": {},
   "outputs": [
    {
     "name": "stdout",
     "output_type": "stream",
     "text": [
      "\n",
      "Risk headlines: 10375\n",
      "\n",
      "60:   colombia gana multimillonario litigio unidos megapredio mafia\n",
      "61:   salvatore mancuso quieren matar abogada exparamilitar\n",
      "62:   redacción conductor ofrecía dinero evitar arrestoseguridad julio 28 2024 0300 am cerritos operativos seguridad desarrollados división caminos guardia civil estatal dieron result\n",
      "63:   educación básica escuelas públicas disputas recursos programa federal\n",
      "64:   buscará simas crecimiento planeado infraestructura agua drenajeel sistema municipal aguas saneamiento simas torreón buscará asesoría externa elaborar plan proyección cinco 10 años sistema municipal aguas saneamiento simas torreón buscará asesoría externa elaborar plan proyección cinco 10 años estrategia planeación…\n",
      "65:   huracán beryl polémica invitación saqueos quintana roo “mano dura” promete gobierno\n",
      "66:   prendieron moto robada cargando bici robada\n",
      "67:   fotos abandonan vehículos cargados miles cigarrillos extranjeros\n",
      "68:   turista fallece tras caída rayo huatulco siete personas resultaron heridas descarga eléctrica estacionamiento playa entrega dejó turista vida siete heridos autoridades exhortan tomar precauciones tormentas eléctricas nacional sábado 10 agosto\n",
      "69:   jhonier leal trasladado cárcel máxima seguridad usar celulares dentro picota\n",
      "\n",
      "Risk headlines: 3294\n",
      "\n",
      "40:   es 315ao vivo motociclista morre após bater traseira trator mateus homem garupa ficou gravemente ferido socorrido hospital roberto silvares motorista trator multado\n",
      "41:   pedidos auxíliodesemprego eua caem 7 mil 227 mil\n",
      "42:   colisãoao vivo acidente mateus motorista deixa motociclista ferido foge testemunhas contaram policiais militares carro atingiu moto vítima condutor deixou local prestar socorro\n",
      "43:   maracajucasal seguia campo grande 230 quilos maconha preso dofcerca 2 km local ordem parada policiais veículo caiu vala casal tentou fugir pé alcançado detido\n",
      "44:   silveira propõe debate sobre custos subsídios conta energia\n",
      "45:   es 381ao vivo motociclista morre acidente dois carros mateus serviço atendimento móvel urgência samu confirmou morte vítima 48 anos local motoristas fugiram\n",
      "46:   goool bra bragantino brasileiro série 1° tempo 01 vit vitória\n",
      "47:   importação cresce reduz saldo comercial junho 33\n",
      "48:   confiança indústria brasil avança maio melhora percepção sobre demanda diz fgv\n",
      "49:   cade vai sugerir condenação envolvidos cartel câmbio\n"
     ]
    }
   ],
   "source": [
    "# this function shows the risk labelled headlines ordered\n",
    "# from the lowest to highest probability score. An ml practitioner \n",
    "# can use this to find the appropriate threshold for which \n",
    "# there are no longer many false positives in the data...\n",
    "def view_risk_lowest_rows(df, start, end):\n",
    "    temp_df = df.loc[~pd.isna(df.risk_type)].sort_values('y_pred_prob').reset_index(drop=True)\n",
    "    print()\n",
    "    print('Risk headlines: ' + str(len(temp_df)))\n",
    "    print()\n",
    "    selected_index_df = temp_df.iloc[start:end, :]\n",
    "    for i in range(len(selected_index_df)):\n",
    "        print(str(selected_index_df.index[i]) + ':   ' + selected_index_df.headline.values[i])\n",
    "    percent = end / len(temp_df)\n",
    "    return percent\n",
    "    \n",
    "spanish_false_positive_percent = view_risk_lowest_rows(false_negatives_filtered_spanish_df, 60, 70)\n",
    "portuguese_false_positive_percent = view_risk_lowest_rows(false_negatives_filtered_portuguese_df, 40, 50)"
   ]
  },
  {
   "cell_type": "markdown",
   "id": "c90abb17-5134-4c48-b36a-549087425626",
   "metadata": {},
   "source": [
    "### Drop false positives"
   ]
  },
  {
   "cell_type": "markdown",
   "id": "d54b14cc-9d76-4355-a4ad-e3710de975a9",
   "metadata": {},
   "source": [
    "Many false posiitves are dropped from the data based on their percentage ranking when ordered by their y preds."
   ]
  },
  {
   "cell_type": "code",
   "execution_count": 8,
   "id": "99308d1e-8f7e-414e-a434-7e02cc659960",
   "metadata": {},
   "outputs": [],
   "source": [
    "# drops a number of risk headlines based on their prediction scores\n",
    "def drop_risk_headlines(df, percent):   \n",
    "    risk_df = df.loc[~pd.isna(df.risk_type)].sort_values('y_pred_prob')\n",
    "    non_risk_df = df.loc[pd.isna(df.risk_type)]\n",
    "    lower_limit, upper_limit = 0, int(np.floor(len(risk_df) * percent))\n",
    "    high_score_risk = risk_df.iloc[upper_limit:len(risk_df),:]\n",
    "    combined_df = pd.concat([high_score_risk, non_risk_df])\n",
    "    return combined_df.reset_index(drop=True)\n",
    "\n",
    "false_positives_filtered_spanish_df = drop_risk_headlines(false_negatives_filtered_spanish_df, spanish_false_positive_percent)\n",
    "false_positives_filtered_portuguese_df = drop_risk_headlines(false_negatives_filtered_portuguese_df, portuguese_false_positive_percent)"
   ]
  },
  {
   "cell_type": "markdown",
   "id": "b02f1d00-bfd5-4a0c-9d8a-671d2c8d532a",
   "metadata": {},
   "source": [
    "## Evaluate performance"
   ]
  },
  {
   "cell_type": "markdown",
   "id": "af7736f3-fa01-494f-97b0-c56ae9bf9e9b",
   "metadata": {},
   "source": [
    "### Train test split"
   ]
  },
  {
   "cell_type": "markdown",
   "id": "ef542219-483e-4df0-b305-1795bce8e170",
   "metadata": {},
   "source": [
    "Creates a train test split for a given dataframe."
   ]
  },
  {
   "cell_type": "code",
   "execution_count": 9,
   "id": "eb3ae042-787f-4062-a379-53c4c7965c74",
   "metadata": {},
   "outputs": [],
   "source": [
    "from sklearn.model_selection import train_test_split\n",
    "\n",
    "# returns a train test split\n",
    "def split_data(df, test_size=0.25):\n",
    "    X = df.headline\n",
    "    y = [int(pd.notna(x)) for x in df.risk_type]\n",
    "    return train_test_split(X, y, test_size=test_size, stratify=y)"
   ]
  },
  {
   "cell_type": "markdown",
   "id": "36fb49fe-5010-4b12-bd75-c8ba47173e18",
   "metadata": {},
   "source": [
    "### Evaluate model"
   ]
  },
  {
   "cell_type": "markdown",
   "id": "c50ea452-06c4-4599-b55f-5f3848fba6c5",
   "metadata": {},
   "source": [
    "Prints the accuracy and classification report for a given model on a given set of headlines."
   ]
  },
  {
   "cell_type": "code",
   "execution_count": 10,
   "id": "6738b006-d7ac-46ce-b84d-659a6fdae24d",
   "metadata": {},
   "outputs": [],
   "source": [
    "import matplotlib.pyplot as plt\n",
    "import seaborn as sns\n",
    "from sklearn.metrics import confusion_matrix, classification_report, accuracy_score\n",
    "\n",
    "# creates a confusion matrix heatmap\n",
    "def heatmap(conf_matrix_df, colors):\n",
    "    plt.figure(figsize=(4, 3))\n",
    "    sns.heatmap(conf_matrix_df, annot=True, cmap=colors, fmt='d', cbar=False)\n",
    "    plt.title('Confusion Matrix')\n",
    "    plt.xlabel('Predicted')\n",
    "    plt.ylabel('Actual')\n",
    "    plt.show()\n",
    "\n",
    "# evaluates the model's performance and prints the results\n",
    "def evaluate_model(model, X_test_tfidf, y_test, colors):\n",
    "    y_pred = model.predict(X_test_tfidf)\n",
    "    y_pred_prob = model.predict_proba(X_test_tfidf)[:, 1] \n",
    "    classification_report_ = classification_report(y_test, y_pred)\n",
    "    print(\"Accuracy:\", round(accuracy_score(y_test, y_pred),3))\n",
    "    print()\n",
    "    print(\"Classification Report:\\n\", classification_report_)\n",
    "    print()\n",
    "    conf_matrix = confusion_matrix(y_test, y_pred)\n",
    "    conf_matrix_df = pd.DataFrame(conf_matrix, index=['Actual Non-Risk', 'Actual Risk'], columns=['Pred Non-Risk', 'Pred Risk'])\n",
    "    heatmap(conf_matrix_df, colors)\n",
    "    print()\n",
    "    return classification_report(y_test, y_pred, output_dict=True)"
   ]
  },
  {
   "cell_type": "markdown",
   "id": "f2774c43-ef02-4c6d-970e-f1abfaf243fc",
   "metadata": {},
   "source": [
    "### Fit & evaluate"
   ]
  },
  {
   "cell_type": "markdown",
   "id": "3b77f701-1521-46cb-856f-0dfe1abfa4bd",
   "metadata": {},
   "source": [
    "A model is fit on a dataset and evaluated on set aside data."
   ]
  },
  {
   "cell_type": "code",
   "execution_count": 11,
   "id": "55d5cfb4-7b65-44e0-bafe-fc1e01327d93",
   "metadata": {},
   "outputs": [],
   "source": [
    "# evaluates a filtered dataset against new headlines\n",
    "def fit_evaluate(train_df, put_aside_df, language, colors):\n",
    "    # prints the language\n",
    "    print()\n",
    "    print('*** ' + language + ' ***')\n",
    "    print()\n",
    "\n",
    "    # instantiate vectorizer\n",
    "    vectorizer = TfidfVectorizer()\n",
    "\n",
    "    # prepare data\n",
    "    X_train, X_test, y_train, y_test = split_data(train_df, test_size=0.001)\n",
    "    X_train_tfidf = vectorizer.fit_transform(X_train)\n",
    "    X_test_tfidf = vectorizer.transform(put_aside_df.headline)\n",
    "    y_test = [int(pd.notna(x)) for x in put_aside_df.risk_type]\n",
    "\n",
    "    # fit logistic regression model\n",
    "    model = LogisticRegression()\n",
    "    model.fit(X_train_tfidf, y_train)\n",
    "\n",
    "    # evaluate data\n",
    "    print(str(len(put_aside_df)) + ' put aside headlines')\n",
    "    return evaluate_model(model, X_test_tfidf, y_test, colors)"
   ]
  },
  {
   "cell_type": "markdown",
   "id": "630e31e5-58ba-4a1e-9bcd-f6f99cfe742d",
   "metadata": {},
   "source": [
    "### Evaluate original labels "
   ]
  },
  {
   "cell_type": "markdown",
   "id": "925a30f8-4a0b-4fd4-87a1-e5b58635c6bb",
   "metadata": {},
   "source": [
    "Evaluates a model using the original labels."
   ]
  },
  {
   "cell_type": "code",
   "execution_count": 12,
   "id": "a73984d3-90fa-4000-8e8e-6cda7671025d",
   "metadata": {},
   "outputs": [
    {
     "name": "stdout",
     "output_type": "stream",
     "text": [
      "\n",
      "*** Spanish ***\n",
      "\n",
      "600 put aside headlines\n",
      "Accuracy: 0.665\n",
      "\n",
      "Classification Report:\n",
      "               precision    recall  f1-score   support\n",
      "\n",
      "           0       0.63      0.79      0.70       300\n",
      "           1       0.72      0.54      0.62       300\n",
      "\n",
      "    accuracy                           0.67       600\n",
      "   macro avg       0.68      0.67      0.66       600\n",
      "weighted avg       0.68      0.67      0.66       600\n",
      "\n",
      "\n"
     ]
    },
    {
     "data": {
      "image/png": "[encoded data removed]",
      "text/plain": [
       "<Figure size 400x300 with 1 Axes>"
      ]
     },
     "metadata": {},
     "output_type": "display_data"
    },
    {
     "name": "stdout",
     "output_type": "stream",
     "text": [
      "\n",
      "\n",
      "*** Portuguese ***\n",
      "\n",
      "600 put aside headlines\n",
      "Accuracy: 0.66\n",
      "\n",
      "Classification Report:\n",
      "               precision    recall  f1-score   support\n",
      "\n",
      "           0       0.61      0.87      0.72       300\n",
      "           1       0.77      0.45      0.57       300\n",
      "\n",
      "    accuracy                           0.66       600\n",
      "   macro avg       0.69      0.66      0.64       600\n",
      "weighted avg       0.69      0.66      0.64       600\n",
      "\n",
      "\n"
     ]
    },
    {
     "data": {
      "image/png": "[encoded data removed]",
      "text/plain": [
       "<Figure size 400x300 with 1 Axes>"
      ]
     },
     "metadata": {},
     "output_type": "display_data"
    },
    {
     "name": "stdout",
     "output_type": "stream",
     "text": [
      "\n"
     ]
    }
   ],
   "source": [
    "# trains and evaluates a model on the unfiltered data\n",
    "unfiltered_spanish_classification_report_ = fit_evaluate(spanish_train_df, spanish_put_aside_df, language='Spanish', colors='Reds')\n",
    "unfiltered_portuguese_classification_report_ = fit_evaluate(portuguese_train_df, portuguese_put_aside_df, language='Portuguese', colors='Oranges')"
   ]
  },
  {
   "cell_type": "markdown",
   "id": "0a3ff466-02b4-42c2-9d4d-8daee232ce9b",
   "metadata": {},
   "source": [
    "### Evaluate improved labels"
   ]
  },
  {
   "cell_type": "markdown",
   "id": "6126d221-5868-456e-ac19-b44f02998f69",
   "metadata": {},
   "source": [
    "Evaluates the results of using the improved labels."
   ]
  },
  {
   "cell_type": "code",
   "execution_count": 13,
   "id": "b6c02ed1-4cf2-4851-aa3a-5ec85cc83660",
   "metadata": {},
   "outputs": [
    {
     "name": "stdout",
     "output_type": "stream",
     "text": [
      "\n",
      "*** Spanish ***\n",
      "\n",
      "600 put aside headlines\n",
      "Accuracy: 0.627\n",
      "\n",
      "Classification Report:\n",
      "               precision    recall  f1-score   support\n",
      "\n",
      "           0       0.83      0.32      0.46       300\n",
      "           1       0.58      0.93      0.71       300\n",
      "\n",
      "    accuracy                           0.63       600\n",
      "   macro avg       0.70      0.63      0.59       600\n",
      "weighted avg       0.70      0.63      0.59       600\n",
      "\n",
      "\n"
     ]
    },
    {
     "data": {
      "image/png": "[encoded data removed]",
      "text/plain": [
       "<Figure size 400x300 with 1 Axes>"
      ]
     },
     "metadata": {},
     "output_type": "display_data"
    },
    {
     "name": "stdout",
     "output_type": "stream",
     "text": [
      "\n",
      "\n",
      "*** Portuguese ***\n",
      "\n",
      "600 put aside headlines\n",
      "Accuracy: 0.69\n",
      "\n",
      "Classification Report:\n",
      "               precision    recall  f1-score   support\n",
      "\n",
      "           0       0.83      0.48      0.61       300\n",
      "           1       0.63      0.90      0.74       300\n",
      "\n",
      "    accuracy                           0.69       600\n",
      "   macro avg       0.73      0.69      0.68       600\n",
      "weighted avg       0.73      0.69      0.68       600\n",
      "\n",
      "\n"
     ]
    },
    {
     "data": {
      "image/png": "[encoded data removed]",
      "text/plain": [
       "<Figure size 400x300 with 1 Axes>"
      ]
     },
     "metadata": {},
     "output_type": "display_data"
    },
    {
     "name": "stdout",
     "output_type": "stream",
     "text": [
      "\n"
     ]
    }
   ],
   "source": [
    "# trains and evaluates a model on the filtered data\n",
    "filtered_spanish_classification_report_ = fit_evaluate(false_positives_filtered_spanish_df, spanish_put_aside_df, language='Spanish', colors='Reds')\n",
    "filtered_portuguese_classification_report_ = fit_evaluate(false_positives_filtered_portuguese_df, portuguese_put_aside_df, language='Portuguese', colors='Oranges')"
   ]
  },
  {
   "cell_type": "markdown",
   "id": "292a000c-a525-4bf6-a3b0-4d260df1befb",
   "metadata": {},
   "source": [
    "## Repeat..."
   ]
  },
  {
   "cell_type": "markdown",
   "id": "6c771382-2c0b-4443-b996-8de07cd2f247",
   "metadata": {},
   "source": [
    "Given that the process above improved the model, it stands to reason that repeating the false negative filtering process with predictions based on the newly refined dataset could improve the model even further. The results below show that although the overall accuracy for both models declined (likely because we are dropping badly needed data), the most important metric for this project (risk headlines recall) went up. "
   ]
  },
  {
   "cell_type": "markdown",
   "id": "88afb43e-9984-4efe-a429-2edaa271d5e0",
   "metadata": {},
   "source": [
    "### Generate new predictions"
   ]
  },
  {
   "cell_type": "code",
   "execution_count": 14,
   "id": "d284b06d-aa56-4f12-94a9-367e6e1401e8",
   "metadata": {},
   "outputs": [],
   "source": [
    "# resets the indices\n",
    "false_positives_filtered_spanish_df.reset_index(drop=True, inplace=True)\n",
    "false_positives_filtered_portuguese_df.reset_index(drop=True, inplace=True)\n",
    "\n",
    "# creates additional dataframes with new predictions based on a model trained on the newly filtered dataframe\n",
    "spanish_df_3, spanish_df_4 = return_headline_preds(false_positives_filtered_spanish_df, 'Spanish')\n",
    "portuguese_df_3, portuguese_df_4 = return_headline_preds(false_positives_filtered_portuguese_df, 'Portuguese')"
   ]
  },
  {
   "cell_type": "markdown",
   "id": "9c0c6628-8031-4e03-962d-d0d12f6f0a56",
   "metadata": {},
   "source": [
    "### Find new false negatives threshold"
   ]
  },
  {
   "cell_type": "code",
   "execution_count": 15,
   "id": "4a62d713-ef4e-4038-8fd6-348af14f8db0",
   "metadata": {},
   "outputs": [
    {
     "name": "stdout",
     "output_type": "stream",
     "text": [
      "\n",
      "Total non-risk headlines: 7995\n",
      "\n",
      "7644:   encuentran cuerpo cuarto policía arrastrado río veracruz\n",
      "5825:   veolia lanza nueva tecnología tratamiento residuos peligrosos eje cafetero\n",
      "9595:   rieleros asegura serie saltillo demoledora victoria saraperos\n",
      "5601:   “te encontrás genios” euforia familia primera vez llegó “el diego” máxima competencia ganadera\n",
      "9149:   turista paisa desapareció quebrada parque tayrona creciente llevó\n",
      "5370:   actividades lúdicas administración municipal comunidad toman parque galarza\n",
      "9226:   acuña vigilarán presa amistad luego hombre lanzara auto paseantes dieran paliza\n",
      "10163:   advierten reclamado pasaporte dieron fecha destruyen\n",
      "10299:   si quiere conseguir visa unidos rápido debe saber\n",
      "7206:   líneas tren ligero guadalajara buscan ampliar\n",
      "\n",
      "Total non-risk headlines: 2067\n",
      "\n",
      "2441:   arregalou olho travou respiração apagou diz namorado paciente morreu após peeling fenol\n",
      "2791:   economia mães araguaia shopping promoção compre ganhe prêmio tecnológico\n",
      "2891:   ter dignidade amazônia necessário desenvolvimento diz governador amapá cnn\n",
      "1637:   polícia encontra ossada advogada desapareceu 2 anos rs\n",
      "2147:   dólar recua alta commodities curva treasuries\n",
      "3508:   canal gov comemora ano criação apresenta nova marca rádio gov agora ebc\n",
      "2605:   ministério trabalho assina acordo aprendizagem jovens\n",
      "2928:   frasco fenol desapareceu clínica diz namorado jovem morreu após peeling\n",
      "2111:   portaria alonga chegada servidor topo carreira\n",
      "2287:   agências abin paralela monitorou informações sobre morte marielle diz pf 11072024 16h33\n"
     ]
    }
   ],
   "source": [
    "# this function shows the non-risk labelled headlines ordered\n",
    "# from the lowest to highest probability score. An ml practitioner \n",
    "# can use this to find the appropriate threshold for which \n",
    "# there are no longer many false negatives in the data...\n",
    "new_spanish_percent = view_nonrisk_highest_rows(spanish_df_4, 7001, 7011)\n",
    "new_portuguese_percent = view_nonrisk_highest_rows(portuguese_df_4, 1681, 1691)"
   ]
  },
  {
   "cell_type": "markdown",
   "id": "2929534e-1f22-43eb-be85-b9f298f672c1",
   "metadata": {},
   "source": [
    "### Drop headlines and evaluate new results"
   ]
  },
  {
   "cell_type": "code",
   "execution_count": 16,
   "id": "11e3d9ce-c862-4330-9df9-02dcf4a714a3",
   "metadata": {},
   "outputs": [
    {
     "name": "stdout",
     "output_type": "stream",
     "text": [
      "\n",
      "*** Spanish ***\n",
      "\n",
      "600 put aside headlines\n",
      "Accuracy: 0.608\n",
      "\n",
      "Classification Report:\n",
      "               precision    recall  f1-score   support\n",
      "\n",
      "           0       0.86      0.26      0.40       300\n",
      "           1       0.56      0.96      0.71       300\n",
      "\n",
      "    accuracy                           0.61       600\n",
      "   macro avg       0.71      0.61      0.55       600\n",
      "weighted avg       0.71      0.61      0.55       600\n",
      "\n",
      "\n"
     ]
    },
    {
     "data": {
      "image/png": "[encoded data removed]",
      "text/plain": [
       "<Figure size 400x300 with 1 Axes>"
      ]
     },
     "metadata": {},
     "output_type": "display_data"
    },
    {
     "name": "stdout",
     "output_type": "stream",
     "text": [
      "\n",
      "\n",
      "*** Portuguese ***\n",
      "\n",
      "600 put aside headlines\n",
      "Accuracy: 0.653\n",
      "\n",
      "Classification Report:\n",
      "               precision    recall  f1-score   support\n",
      "\n",
      "           0       0.85      0.37      0.52       300\n",
      "           1       0.60      0.93      0.73       300\n",
      "\n",
      "    accuracy                           0.65       600\n",
      "   macro avg       0.72      0.65      0.62       600\n",
      "weighted avg       0.72      0.65      0.62       600\n",
      "\n",
      "\n"
     ]
    },
    {
     "data": {
      "image/png": "[encoded data removed]",
      "text/plain": [
       "<Figure size 400x300 with 1 Axes>"
      ]
     },
     "metadata": {},
     "output_type": "display_data"
    },
    {
     "name": "stdout",
     "output_type": "stream",
     "text": [
      "\n"
     ]
    }
   ],
   "source": [
    "# create new filtered dfs with fewer non-risk headlines\n",
    "new_filtered_spanish_df = create_filtered_df(spanish_df_3, spanish_df_4, new_spanish_percent)\n",
    "new_filtered_portuguese_df = create_filtered_df(portuguese_df_3, portuguese_df_4, new_portuguese_percent)\n",
    "\n",
    "# evaluates the results\n",
    "filtered_spanish_classification_report_ = fit_evaluate(new_filtered_spanish_df, spanish_put_aside_df, language='Spanish', colors='Reds')\n",
    "filtered_portuguese_classification_report_ = fit_evaluate(new_filtered_portuguese_df, portuguese_put_aside_df, language='Portuguese', colors='Oranges')"
   ]
  },
  {
   "cell_type": "markdown",
   "id": "72c148d4-d5d1-419e-a7ca-d1dfee83bb30",
   "metadata": {},
   "source": [
    "## Visualize results"
   ]
  },
  {
   "cell_type": "markdown",
   "id": "6e33aacf-3edf-42b6-8f29-6bd31ee67dcd",
   "metadata": {},
   "source": [
    "The results show a significant improvement for risk headline recall for both langugaes."
   ]
  },
  {
   "cell_type": "code",
   "execution_count": 17,
   "id": "99b879b2-bbf1-411f-9a3f-d6564923d7bc",
   "metadata": {},
   "outputs": [
    {
     "data": {
      "image/png": "[encoded data removed]",
      "text/plain": [
       "<Figure size 1200x500 with 2 Axes>"
      ]
     },
     "metadata": {},
     "output_type": "display_data"
    },
    {
     "data": {
      "image/png": "[encoded data removed]",
      "text/plain": [
       "<Figure size 1200x500 with 2 Axes>"
      ]
     },
     "metadata": {},
     "output_type": "display_data"
    }
   ],
   "source": [
    "import matplotlib.pyplot as plt\n",
    "import numpy as np\n",
    "\n",
    "# data\n",
    "base_model_spanish = [\n",
    "    unfiltered_spanish_classification_report_['accuracy'],\n",
    "    unfiltered_spanish_classification_report_['1']['precision'],\n",
    "    unfiltered_spanish_classification_report_['1']['recall']\n",
    "]\n",
    "new_model_spanish = [\n",
    "    filtered_spanish_classification_report_['accuracy'],\n",
    "    filtered_spanish_classification_report_['1']['precision'],\n",
    "    filtered_spanish_classification_report_['1']['recall']\n",
    "]\n",
    "base_model_portuguese = [\n",
    "    unfiltered_portuguese_classification_report_['accuracy'],\n",
    "    unfiltered_portuguese_classification_report_['1']['precision'],\n",
    "    unfiltered_portuguese_classification_report_['1']['recall']\n",
    "]\n",
    "new_model_portuguese = [\n",
    "    filtered_portuguese_classification_report_['accuracy'],\n",
    "    filtered_portuguese_classification_report_['1']['precision'],\n",
    "    filtered_portuguese_classification_report_['1']['recall']\n",
    "]\n",
    "\n",
    "# labels for the statistics\n",
    "labels = ['Overall Accuracy', 'Risk Headline Precision', 'Risk Headline Recall']\n",
    "colors = ['tab:blue', 'tab:red', 'tab:green']\n",
    "\n",
    "# create subplots for Spanish\n",
    "fig, axs = plt.subplots(1, 2, figsize=(12, 5))\n",
    "\n",
    "# plot baseline model stats for Spanish\n",
    "bars = axs[0].bar(labels, base_model_spanish, color=colors)\n",
    "axs[0].set_title('Original Labels')\n",
    "axs[0].set_ylim(0, 1.1)\n",
    "axs[0].set_ylabel('Score')\n",
    "\n",
    "# add numeric labels on top of the bars\n",
    "for bar in bars:\n",
    "    yval = bar.get_height()\n",
    "    axs[0].text(bar.get_x() + bar.get_width() / 2, yval + 0.01, round(yval, 2), ha='center', va='bottom')\n",
    "\n",
    "# plot new model stats for Spanish\n",
    "bars = axs[1].bar(labels, new_model_spanish, color=colors)\n",
    "axs[1].set_title('Improved Labels')\n",
    "axs[1].set_ylim(0, 1.1)\n",
    "\n",
    "# add numeric labels on top of the bars\n",
    "for bar in bars:\n",
    "    yval = bar.get_height()\n",
    "    axs[1].text(bar.get_x() + bar.get_width() / 2, yval + 0.01, round(yval, 2), ha='center', va='bottom')\n",
    "\n",
    "# add overall title for Spanish\n",
    "fig.suptitle('Spanish', fontsize=18)\n",
    "\n",
    "# adjust layout for better spacing\n",
    "plt.tight_layout(rect=[0, 0, 1, 0.95])\n",
    "\n",
    "# save image\n",
    "plt.savefig('../Images/improve_labels_spanish_metrics.png', dpi=600, bbox_inches='tight')\n",
    "\n",
    "# show the Spanish plot\n",
    "plt.show()\n",
    "\n",
    "# create subplots for Portuguese\n",
    "fig, axs = plt.subplots(1, 2, figsize=(12, 5))\n",
    "\n",
    "# plot baseline model stats for Portuguese\n",
    "bars = axs[0].bar(labels, base_model_portuguese, color=colors)\n",
    "axs[0].set_title('Original Labels')\n",
    "axs[0].set_ylim(0, 1.1)\n",
    "axs[0].set_ylabel('Score')\n",
    "\n",
    "# add numeric labels on top of the bars\n",
    "for bar in bars:\n",
    "    yval = bar.get_height()\n",
    "    axs[0].text(bar.get_x() + bar.get_width() / 2, yval + 0.01, round(yval, 2), ha='center', va='bottom')\n",
    "\n",
    "# plot new model stats for Portuguese\n",
    "bars = axs[1].bar(labels, new_model_portuguese, color=colors)\n",
    "axs[1].set_title('Improved Labels')\n",
    "axs[1].set_ylim(0, 1.1)\n",
    "\n",
    "# add numeric labels on top of the bars\n",
    "for bar in bars:\n",
    "    yval = bar.get_height()\n",
    "    axs[1].text(bar.get_x() + bar.get_width() / 2, yval + 0.01, round(yval, 2), ha='center', va='bottom')\n",
    "\n",
    "# add overall title for Portuguese\n",
    "fig.suptitle('Portuguese', fontsize=18, y=1)\n",
    "\n",
    "# adjust layout for better spacing\n",
    "plt.tight_layout(rect=[0, 0, 1, 0.95])\n",
    "\n",
    "# save image\n",
    "plt.savefig('../Images/improve_labels_portuguese_metrics.png', dpi=600, bbox_inches='tight')\n",
    "\n",
    "# show the Portuguese plot\n",
    "plt.show()"
   ]
  },
  {
   "cell_type": "markdown",
   "id": "8fe0e2dc-cd3e-4a9c-b3ec-fdfa04b693b6",
   "metadata": {},
   "source": [
    "## Save dataframes"
   ]
  },
  {
   "cell_type": "markdown",
   "id": "546fb10f-79cf-4f2d-a7c5-85c922d09976",
   "metadata": {},
   "source": [
    "Finally, the refined dataframes are saved as CSV files for further use in additional notebooks."
   ]
  },
  {
   "cell_type": "code",
   "execution_count": 18,
   "id": "660d1052-b5e0-42a5-8bb9-5106912d5f3f",
   "metadata": {},
   "outputs": [],
   "source": [
    "# filtered dataframes (for use in further training)\n",
    "new_filtered_spanish_df.to_csv('../Data/spanish_improved_labels_df.csv', index=False)\n",
    "new_filtered_portuguese_df.to_csv('../Data/portuguese_improved_labels_df.csv', index=False)"
   ]
  }
 ],
 "metadata": {
  "kernelspec": {
   "display_name": "Python 3 (ipykernel)",
   "language": "python",
   "name": "python3"
  },
  "language_info": {
   "codemirror_mode": {
    "name": "ipython",
    "version": 3
   },
   "file_extension": ".py",
   "mimetype": "text/x-python",
   "name": "python",
   "nbconvert_exporter": "python",
   "pygments_lexer": "ipython3",
   "version": "3.11.7"
  }
 },
 "nbformat": 4,
 "nbformat_minor": 5
}
