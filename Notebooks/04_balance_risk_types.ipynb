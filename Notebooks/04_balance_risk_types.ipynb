{
 "cells": [
  {
   "cell_type": "markdown",
   "id": "1d9410a6-9ff5-4383-acdb-9fbc3b580bd7",
   "metadata": {},
   "source": [
    "# 4) Balance risk types"
   ]
  },
  {
   "cell_type": "markdown",
   "id": "a242bdd6-16c3-4752-8fd7-1f274d27eb59",
   "metadata": {},
   "source": [
    "This notebook balances the risk type breakdown (political, security and economic) of risk the risk headlines category in an attempt to improve the model's ability to identify underrepresented risk types. The results appear to show slightly improved accuracy when balancing risk types.\n"
   ]
  },
  {
   "cell_type": "markdown",
   "id": "171fade0-0294-4954-8d58-bdacf1ea7b16",
   "metadata": {},
   "source": [
    "## Read-in data"
   ]
  },
  {
   "cell_type": "markdown",
   "id": "7c3abb1c-b443-44fa-86c1-8236ad63d0eb",
   "metadata": {},
   "source": [
    "Seperate dataframes are read-in for each language and dataset type. "
   ]
  },
  {
   "cell_type": "code",
   "execution_count": 1,
   "id": "dd0b956d-05f8-4185-a52b-873fcb1a0102",
   "metadata": {},
   "outputs": [
    {
     "name": "stdout",
     "output_type": "stream",
     "text": [
      "24.2K Spanish train headlines\n",
      "0.6K Spanish put aside headlines\n",
      "6.6K Portuguese train headlines\n",
      "0.6K Portuguese put aside headlines\n"
     ]
    }
   ],
   "source": [
    "import pandas as pd\n",
    "import numpy as np\n",
    "\n",
    "# reads in the spanish improved label headlines\n",
    "spanish_improved_labels_df = pd.read_csv('../Data/spanish_improved_labels_df.csv', encoding='utf-8').reset_index(drop=True)\n",
    "print(str(round(len(spanish_improved_labels_df)/1000, 1)) + 'K Spanish train headlines')\n",
    "\n",
    "# reads in the spanish put aside headlines\n",
    "spanish_put_aside_df = pd.read_csv('../Data/spanish_put_aside_df.csv', encoding='utf-8').reset_index(drop=True)\n",
    "print(str(round(len(spanish_put_aside_df)/1000, 1)) + 'K Spanish put aside headlines')\n",
    "\n",
    "# reads in the portuguese improved label headlines\n",
    "portuguese_improved_labels_df = pd.read_csv('../Data/portuguese_improved_labels_df.csv', encoding='utf-8').reset_index(drop=True)\n",
    "print(str(round(len(portuguese_improved_labels_df)/1000, 1)) + 'K Portuguese train headlines')\n",
    "\n",
    "# reads in the portuguese put aside headlines\n",
    "portuguese_put_aside_df = pd.read_csv('../Data/portuguese_put_aside_df.csv', encoding='utf-8').reset_index(drop=True)\n",
    "print(str(round(len(portuguese_put_aside_df)/1000, 1)) + 'K Portuguese put aside headlines')"
   ]
  },
  {
   "cell_type": "markdown",
   "id": "c35d3128-b36b-4350-86df-b72ae5309c89",
   "metadata": {},
   "source": [
    "## Balance risk types"
   ]
  },
  {
   "cell_type": "markdown",
   "id": "2c5544f5-7237-42c1-bc61-dc15631f36fb",
   "metadata": {},
   "source": [
    "### Risk type breakdown"
   ]
  },
  {
   "cell_type": "markdown",
   "id": "e11dd00f-ebcc-4060-b021-09bcd2fe3993",
   "metadata": {},
   "source": [
    "The risk types are not evenly distributed in either dataset, potentially leading to underrepresented risk types."
   ]
  },
  {
   "cell_type": "code",
   "execution_count": 7,
   "id": "c0b1b9f5-6836-4a76-a9fa-6049e99fe7c2",
   "metadata": {},
   "outputs": [
    {
     "name": "stdout",
     "output_type": "stream",
     "text": [
      "\n",
      "*** Spanish ***\n",
      "                        k      %\n",
      "risk_type                       \n",
      "security_violence    4.34  17.94\n",
      "political_stability  3.25  13.43\n",
      "economic_regulatory  2.71  11.20\n",
      "\n",
      "*** Portuguese ***\n",
      "                        k      %\n",
      "risk_type                       \n",
      "political_stability  1.46  22.07\n",
      "economic_regulatory  0.94  14.21\n",
      "security_violence    0.84  12.70\n"
     ]
    }
   ],
   "source": [
    "# prints and returns a dataframe of risk type counts and percentages\n",
    "def risk_type_breakdown(df, title):\n",
    "    print()\n",
    "    print('*** ' + title + ' ***')\n",
    "    counts = round(df.risk_type.value_counts() / 1000, 2)\n",
    "    percent = round(((counts*1000) / len(df)) * 100, 2)\n",
    "    risk_type_df = pd.DataFrame({'k': counts, '%': percent})\n",
    "    print(risk_type_df)\n",
    "    return risk_type_df\n",
    "\n",
    "spanish_risk_type_breakdown = risk_type_breakdown(spanish_improved_labels_df, 'Spanish')\n",
    "portuguese_risk_type_breakdown = risk_type_breakdown(portuguese_improved_labels_df, 'Portuguese')"
   ]
  },
  {
   "cell_type": "markdown",
   "id": "b76615b4-2de0-4e66-bc96-78491d5812b2",
   "metadata": {},
   "source": [
    "### Sample risk types"
   ]
  },
  {
   "cell_type": "markdown",
   "id": "c1d23a21-6b49-4fb5-a1a5-44c3e59f00a7",
   "metadata": {},
   "source": [
    "To balance the risk types, an equal sample of each is taken using the length of the most underrepresented type as the sample size."
   ]
  },
  {
   "cell_type": "code",
   "execution_count": 8,
   "id": "d8bcbf02-7564-4c86-8893-655f9dac4f9c",
   "metadata": {},
   "outputs": [],
   "source": [
    "import random\n",
    "\n",
    "# randomly samples an equal number of each risk type\n",
    "def balance_risk_types(df, breakdown):\n",
    "    non_risk_df = df.loc[pd.isna(df.risk_type)]\n",
    "    risk_df = df.loc[~pd.isna(df.risk_type)]\n",
    "    sample_no = int(min(breakdown.k) * 1000 - (len(df) * 0.01))\n",
    "    \n",
    "    risk_types = list(breakdown.index)\n",
    "    sampled_headlines = []\n",
    "    for risk in risk_types:\n",
    "        population = list(df.loc[df.risk_type==risk].index)\n",
    "        sample_indices = random.sample(population, sample_no)\n",
    "        sampled_headlines.append(df.loc[df.index.isin(sample_indices)])\n",
    "    \n",
    "    return pd.concat([non_risk_df, pd.concat(sampled_headlines)]).reset_index(drop=True)\n",
    "\n",
    "balanced_spanish_df = balance_risk_types(spanish_improved_labels_df, spanish_risk_type_breakdown)\n",
    "balanced_portuguese_df = balance_risk_types(portuguese_improved_labels_df, portuguese_risk_type_breakdown)"
   ]
  },
  {
   "cell_type": "markdown",
   "id": "475d9e15-d56c-4afc-a661-146d3aad2a97",
   "metadata": {},
   "source": [
    "## Evaluate performance"
   ]
  },
  {
   "cell_type": "markdown",
   "id": "c19d2223-dacd-45c0-95ae-9e184e153fe4",
   "metadata": {},
   "source": [
    "### Train test split"
   ]
  },
  {
   "cell_type": "markdown",
   "id": "762a79cf-f9e5-4425-98d5-4bbebb86c603",
   "metadata": {},
   "source": [
    "Creates a train test split for a given dataframe."
   ]
  },
  {
   "cell_type": "code",
   "execution_count": 9,
   "id": "993291ec-e669-4ecf-b69c-18a60a63257b",
   "metadata": {},
   "outputs": [],
   "source": [
    "from sklearn.model_selection import train_test_split\n",
    "\n",
    "# returns a train test split\n",
    "def split_data(df, test_size=0.25):\n",
    "    X = df.headline\n",
    "    y = [int(pd.notna(x)) for x in df.risk_type]\n",
    "    return train_test_split(X, y, test_size=test_size, stratify=y)"
   ]
  },
  {
   "cell_type": "markdown",
   "id": "cbcedc06-93a0-4752-8a17-23935c3cd3d5",
   "metadata": {},
   "source": [
    "### Evaluate model"
   ]
  },
  {
   "cell_type": "markdown",
   "id": "278d92fe-b0fb-4fb7-857c-e56903aba5b7",
   "metadata": {},
   "source": [
    "Prints the accuracy and classification report for a given model on a given set of headlines."
   ]
  },
  {
   "cell_type": "code",
   "execution_count": 25,
   "id": "ff8550a9-306e-47b8-aa04-3a594eabe169",
   "metadata": {},
   "outputs": [],
   "source": [
    "import matplotlib.pyplot as plt\n",
    "import seaborn as sns\n",
    "from sklearn.metrics import confusion_matrix, classification_report, accuracy_score\n",
    "\n",
    "# creates a confusion matrix heatmap\n",
    "def heatmap(conf_matrix_df, colors):\n",
    "    plt.figure(figsize=(4, 3))\n",
    "    sns.heatmap(conf_matrix_df, annot=True, cmap=colors, fmt='d', cbar=False)\n",
    "    plt.title('Confusion Matrix')\n",
    "    plt.xlabel('Predicted')\n",
    "    plt.ylabel('Actual')\n",
    "    plt.show()\n",
    "\n",
    "# evaluates a model by printing the accuracy and classification report\n",
    "def evaluate_model(model, X_test_tfidf, y_test, colors):\n",
    "    # generates predictions\n",
    "    y_pred = model.predict(X_test_tfidf)\n",
    "    print(\"Accuracy:\", round(accuracy_score(y_test, y_pred), 2))\n",
    "    print()\n",
    "    \n",
    "    # prints classification report\n",
    "    print(\"Classification Report:\\n\", classification_report(y_test, y_pred))\n",
    "    print()\n",
    "    \n",
    "    # displays confusion matrix heatmap\n",
    "    conf_matrix = confusion_matrix(y_test, y_pred)\n",
    "    conf_matrix_df = pd.DataFrame(conf_matrix, index=['Actual Non-Risk', 'Actual Risk'], columns=['Pred Non-Risk', 'Pred Risk'])\n",
    "    heatmap(conf_matrix_df, colors)\n",
    "    print()\n",
    "    return classification_report(y_test, y_pred, output_dict=True)"
   ]
  },
  {
   "cell_type": "markdown",
   "id": "8522d3f1-c8eb-4160-b45e-928506ed4475",
   "metadata": {},
   "source": [
    "### Fit & evaluate"
   ]
  },
  {
   "cell_type": "markdown",
   "id": "9f607426-2f5f-436c-a1f7-9dd3d564ed57",
   "metadata": {},
   "source": [
    "A logistic regression model is trained and evaluated on TF-IDF vectors."
   ]
  },
  {
   "cell_type": "code",
   "execution_count": 26,
   "id": "99154b16-9856-4772-a8e6-f89a0593ddf3",
   "metadata": {},
   "outputs": [],
   "source": [
    "from sklearn.feature_extraction.text import TfidfVectorizer\n",
    "from sklearn.linear_model import LogisticRegression\n",
    "\n",
    "# evaluates a filtered dataset against new headlines\n",
    "def fit_evaluate(train_df, put_aside_df, language, colors):\n",
    "    # prints the language\n",
    "    print()\n",
    "    print('*** ' + language + ' ***')\n",
    "    print()\n",
    "\n",
    "    # instantiate vectorizer\n",
    "    vectorizer = TfidfVectorizer()\n",
    "\n",
    "    # prepare data\n",
    "    X_train, X_test, y_train, y_test = split_data(train_df, test_size=0.001)\n",
    "    X_train_tfidf = vectorizer.fit_transform(X_train)\n",
    "    X_test_tfidf = vectorizer.transform(put_aside_df.headline)\n",
    "    y_test = [int(pd.notna(x)) for x in put_aside_df.risk_type]\n",
    "\n",
    "    # fit logistic regression model\n",
    "    model = LogisticRegression()\n",
    "    model.fit(X_train_tfidf, y_train)\n",
    "\n",
    "    # evaluate data\n",
    "    print(str(len(put_aside_df)) + ' put aside headlines')\n",
    "    return evaluate_model(model, X_test_tfidf, y_test, colors)"
   ]
  },
  {
   "cell_type": "markdown",
   "id": "8b663ad8-e54d-4d4b-9063-7b8cc79f8c05",
   "metadata": {},
   "source": [
    "### Unbalanced risk types"
   ]
  },
  {
   "cell_type": "markdown",
   "id": "23ba3257-d339-4423-a4c1-8633c106ba53",
   "metadata": {},
   "source": [
    "Evaluates the results of unbalanced headlines."
   ]
  },
  {
   "cell_type": "code",
   "execution_count": 27,
   "id": "c67864ff-6972-42c0-85b8-6a9d92c1f675",
   "metadata": {},
   "outputs": [
    {
     "name": "stdout",
     "output_type": "stream",
     "text": [
      "\n",
      "*** Spanish ***\n",
      "\n",
      "600 put aside headlines\n",
      "Accuracy: 0.6\n",
      "\n",
      "Classification Report:\n",
      "               precision    recall  f1-score   support\n",
      "\n",
      "           0       0.86      0.25      0.39       300\n",
      "           1       0.56      0.96      0.71       300\n",
      "\n",
      "    accuracy                           0.60       600\n",
      "   macro avg       0.71      0.60      0.55       600\n",
      "weighted avg       0.71      0.60      0.55       600\n",
      "\n",
      "\n"
     ]
    },
    {
     "data": {
      "image/png": "[encoded data removed]",
      "text/plain": [
       "<Figure size 400x300 with 1 Axes>"
      ]
     },
     "metadata": {},
     "output_type": "display_data"
    },
    {
     "name": "stdout",
     "output_type": "stream",
     "text": [
      "\n",
      "\n",
      "*** Portuguese ***\n",
      "\n",
      "600 put aside headlines\n",
      "Accuracy: 0.66\n",
      "\n",
      "Classification Report:\n",
      "               precision    recall  f1-score   support\n",
      "\n",
      "           0       0.83      0.39      0.53       300\n",
      "           1       0.60      0.92      0.73       300\n",
      "\n",
      "    accuracy                           0.66       600\n",
      "   macro avg       0.72      0.66      0.63       600\n",
      "weighted avg       0.72      0.66      0.63       600\n",
      "\n",
      "\n"
     ]
    },
    {
     "data": {
      "image/png": "[encoded data removed]",
      "text/plain": [
       "<Figure size 400x300 with 1 Axes>"
      ]
     },
     "metadata": {},
     "output_type": "display_data"
    },
    {
     "name": "stdout",
     "output_type": "stream",
     "text": [
      "\n"
     ]
    }
   ],
   "source": [
    "# trains and evaluates a model on the unbalanced headlines data\n",
    "unbalanced_spanish_classification_report_ = fit_evaluate(spanish_improved_labels_df, spanish_put_aside_df, language='Spanish', colors='Reds')\n",
    "unbalanced_portuguese_classification_report_ = fit_evaluate(portuguese_improved_labels_df, portuguese_put_aside_df, language='Portuguese', colors='Oranges')"
   ]
  },
  {
   "cell_type": "markdown",
   "id": "311d52af-40c0-4e1e-bbad-982fa96b6b51",
   "metadata": {},
   "source": [
    "### Balanced risk types"
   ]
  },
  {
   "cell_type": "markdown",
   "id": "28adcf86-1859-4896-b365-4fc39f061b12",
   "metadata": {},
   "source": [
    "Evaluates the results of balanced headlines."
   ]
  },
  {
   "cell_type": "code",
   "execution_count": 28,
   "id": "4e6be256-5e3b-4eeb-8d91-457474c47992",
   "metadata": {},
   "outputs": [
    {
     "name": "stdout",
     "output_type": "stream",
     "text": [
      "\n",
      "*** Spanish ***\n",
      "\n",
      "600 put aside headlines\n",
      "Accuracy: 0.63\n",
      "\n",
      "Classification Report:\n",
      "               precision    recall  f1-score   support\n",
      "\n",
      "           0       0.83      0.32      0.46       300\n",
      "           1       0.58      0.94      0.72       300\n",
      "\n",
      "    accuracy                           0.63       600\n",
      "   macro avg       0.71      0.63      0.59       600\n",
      "weighted avg       0.71      0.63      0.59       600\n",
      "\n",
      "\n"
     ]
    },
    {
     "data": {
      "image/png": "[encoded data removed]",
      "text/plain": [
       "<Figure size 400x300 with 1 Axes>"
      ]
     },
     "metadata": {},
     "output_type": "display_data"
    },
    {
     "name": "stdout",
     "output_type": "stream",
     "text": [
      "\n",
      "\n",
      "*** Portuguese ***\n",
      "\n",
      "600 put aside headlines\n",
      "Accuracy: 0.68\n",
      "\n",
      "Classification Report:\n",
      "               precision    recall  f1-score   support\n",
      "\n",
      "           0       0.78      0.49      0.60       300\n",
      "           1       0.63      0.86      0.73       300\n",
      "\n",
      "    accuracy                           0.68       600\n",
      "   macro avg       0.71      0.68      0.66       600\n",
      "weighted avg       0.71      0.68      0.66       600\n",
      "\n",
      "\n"
     ]
    },
    {
     "data": {
      "image/png": "[encoded data removed]",
      "text/plain": [
       "<Figure size 400x300 with 1 Axes>"
      ]
     },
     "metadata": {},
     "output_type": "display_data"
    },
    {
     "name": "stdout",
     "output_type": "stream",
     "text": [
      "\n"
     ]
    }
   ],
   "source": [
    "# trains and evaluates a model on the balanced headlines data\n",
    "balanced_spanish_classification_report_ = fit_evaluate(balanced_spanish_df, spanish_put_aside_df, language='Spanish', colors='Reds')\n",
    "balanced_portuguese_classification_report_ = fit_evaluate(balanced_portuguese_df, portuguese_put_aside_df, language='Portuguese', colors='Oranges')"
   ]
  },
  {
   "cell_type": "markdown",
   "id": "469bdf6d-441c-4c58-ac6b-2ac28b31c8d4",
   "metadata": {},
   "source": [
    "## Visualize results"
   ]
  },
  {
   "cell_type": "markdown",
   "id": "27b22610-54c2-4ea7-88ea-a928cf4ca9ac",
   "metadata": {},
   "source": [
    "Overall accuracy doesn't seem to have improved for neither the Spanish nor Portuguese headlines."
   ]
  },
  {
   "cell_type": "code",
   "execution_count": 29,
   "id": "557a82df-e663-42e7-b4d9-7c3557f771b7",
   "metadata": {},
   "outputs": [
    {
     "data": {
      "image/png": "[encoded data removed]",
      "text/plain": [
       "<Figure size 1200x500 with 2 Axes>"
      ]
     },
     "metadata": {},
     "output_type": "display_data"
    }
   ],
   "source": [
    "import matplotlib.pyplot as plt\n",
    "\n",
    "# data\n",
    "spanish_old_model = unbalanced_spanish_classification_report_['accuracy']\n",
    "spanish_new_model = balanced_spanish_classification_report_['accuracy']\n",
    "portuguese_old_model = unbalanced_portuguese_classification_report_['accuracy']\n",
    "portuguese_new_model = balanced_portuguese_classification_report_['accuracy']\n",
    "\n",
    "# labels for the statistics\n",
    "labels = ['Spanish', 'Portuguese']\n",
    "colors = ['tab:red', 'tab:green']\n",
    "\n",
    "# data for the plots\n",
    "old_model = [spanish_old_model, portuguese_old_model]\n",
    "new_model = [spanish_new_model, portuguese_new_model]\n",
    "\n",
    "# create subplots for comparison between languages and models\n",
    "fig, axs = plt.subplots(1, 2, figsize=(12, 5))\n",
    "\n",
    "# plot for Spanish\n",
    "bars = axs[0].bar(['Old model', 'Balanced model'], [spanish_old_model, spanish_new_model], color=colors)\n",
    "axs[0].set_title('Spanish')\n",
    "axs[0].set_ylim(0, 1)\n",
    "axs[0].set_ylabel('Score')\n",
    "\n",
    "# add numeric labels on top of the bars\n",
    "for bar in bars:\n",
    "    yval = bar.get_height()\n",
    "    axs[0].text(bar.get_x() + bar.get_width() / 2, yval + 0.01, round(yval, 2), ha='center', va='bottom')\n",
    "\n",
    "# plot for Portuguese\n",
    "bars = axs[1].bar(['Old model', 'Balanced model'], [portuguese_old_model, portuguese_new_model], color=colors)\n",
    "axs[1].set_title('Portuguese')\n",
    "axs[1].set_ylim(0, 1)\n",
    "\n",
    "# add numeric labels on top of the bars\n",
    "for bar in bars:\n",
    "    yval = bar.get_height()\n",
    "    axs[1].text(bar.get_x() + bar.get_width() / 2, yval + 0.01, round(yval, 2), ha='center', va='bottom')\n",
    "\n",
    "# add overall title\n",
    "fig.suptitle('Overall accuracy', fontsize=18)\n",
    "\n",
    "# adjust layout for better spacing\n",
    "plt.tight_layout(rect=[0, 0, 1, 0.95])\n",
    "\n",
    "# save image\n",
    "plt.savefig('../Images/balance_risk_types_overall_accuracy.png', dpi=600, bbox_inches='tight')\n",
    "\n",
    "# show the plot\n",
    "plt.show()"
   ]
  }
 ],
 "metadata": {
  "kernelspec": {
   "display_name": "Python 3 (ipykernel)",
   "language": "python",
   "name": "python3"
  },
  "language_info": {
   "codemirror_mode": {
    "name": "ipython",
    "version": 3
   },
   "file_extension": ".py",
   "mimetype": "text/x-python",
   "name": "python",
   "nbconvert_exporter": "python",
   "pygments_lexer": "ipython3",
   "version": "3.11.7"
  }
 },
 "nbformat": 4,
 "nbformat_minor": 5
}
