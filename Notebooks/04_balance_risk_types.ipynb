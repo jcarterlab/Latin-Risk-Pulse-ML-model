{
 "cells": [
  {
   "cell_type": "markdown",
   "id": "1d9410a6-9ff5-4383-acdb-9fbc3b580bd7",
   "metadata": {},
   "source": [
    "# Balance risk types"
   ]
  },
  {
   "cell_type": "markdown",
   "id": "a242bdd6-16c3-4752-8fd7-1f274d27eb59",
   "metadata": {},
   "source": [
    "Although risk headline recall was improved, the overall accuracy for both languages has suffered following the previous step (see notebook 3), probably because many non-risk headlines, which the baseline model was good at identifying (or guessing), were taken away. This notebook reverses this downward trend by balancing risk types (political, security and economic). This likely improves accuracy because the model is better able to distinguish between previously underrepresented risk types and non-risks.\r\n"
   ]
  },
  {
   "cell_type": "markdown",
   "id": "171fade0-0294-4954-8d58-bdacf1ea7b16",
   "metadata": {},
   "source": [
    "## Read-in data"
   ]
  },
  {
   "cell_type": "markdown",
   "id": "7c3abb1c-b443-44fa-86c1-8236ad63d0eb",
   "metadata": {},
   "source": [
    "Seperate dataframes are imported for each language (Spanish & Portuguese)."
   ]
  },
  {
   "cell_type": "code",
   "execution_count": 1,
   "id": "dd0b956d-05f8-4185-a52b-873fcb1a0102",
   "metadata": {},
   "outputs": [],
   "source": [
    "import pandas as pd\n",
    "import numpy as np\n",
    "\n",
    "# imports the data with improved label quality\n",
    "spanish_df = pd.read_csv('../Data/spanish_df.csv', encoding='utf-8')\n",
    "portuguese_df = pd.read_csv('../Data/portuguese_df.csv', encoding='utf-8')"
   ]
  },
  {
   "cell_type": "markdown",
   "id": "2c5544f5-7237-42c1-bc61-dc15631f36fb",
   "metadata": {},
   "source": [
    "## Risk type breakdown"
   ]
  },
  {
   "cell_type": "markdown",
   "id": "e11dd00f-ebcc-4060-b021-09bcd2fe3993",
   "metadata": {},
   "source": [
    "The risk types are not evenly distributed in either dataset, potentially leading to underrepresented risk types."
   ]
  },
  {
   "cell_type": "code",
   "execution_count": 2,
   "id": "c0b1b9f5-6836-4a76-a9fa-6049e99fe7c2",
   "metadata": {},
   "outputs": [
    {
     "name": "stdout",
     "output_type": "stream",
     "text": [
      "\n",
      "*** Spanish ***\n",
      "                        k      %\n",
      "risk_type                       \n",
      "security_violence    3.18  14.90\n",
      "political_stability  2.14  10.03\n",
      "economic_regulatory  1.97   9.23\n",
      "\n",
      "*** Portuguese ***\n",
      "                        k      %\n",
      "risk_type                       \n",
      "political_stability  1.18  19.46\n",
      "economic_regulatory  0.79  13.03\n",
      "security_violence    0.70  11.55\n"
     ]
    }
   ],
   "source": [
    "# prints and returns a dataframe of risk type counts and percentages\n",
    "def risk_type_breakdown(df, title):\n",
    "    print()\n",
    "    print('*** ' + title + ' ***')\n",
    "    counts = round(df.risk_type.value_counts() / 1000, 2)\n",
    "    percent = round(((counts*1000) / len(df)) * 100, 2)\n",
    "    risk_type_df = pd.DataFrame({'k': counts, '%': percent})\n",
    "    print(risk_type_df)\n",
    "    return risk_type_df\n",
    "\n",
    "spanish_risk_type_breakdown = risk_type_breakdown(spanish_df, 'Spanish')\n",
    "portuguese_risk_type_breakdown = risk_type_breakdown(portuguese_df, 'Portuguese')"
   ]
  },
  {
   "cell_type": "markdown",
   "id": "b76615b4-2de0-4e66-bc96-78491d5812b2",
   "metadata": {},
   "source": [
    "## Balance risk types"
   ]
  },
  {
   "cell_type": "markdown",
   "id": "c1d23a21-6b49-4fb5-a1a5-44c3e59f00a7",
   "metadata": {},
   "source": [
    "To balance the risk types, an equal sample of each is taken using the length of the most underrepresented type as the sample size."
   ]
  },
  {
   "cell_type": "code",
   "execution_count": 3,
   "id": "d8bcbf02-7564-4c86-8893-655f9dac4f9c",
   "metadata": {},
   "outputs": [],
   "source": [
    "import random\n",
    "\n",
    "# randomly samples an equal number of each risk type\n",
    "def balance_risk_types(df, breakdown):\n",
    "    non_risk_df = df.loc[pd.isna(df.risk_type)]\n",
    "    risk_df = df.loc[~pd.isna(df.risk_type)]\n",
    "    sample_no = int(min(breakdown.k) * 1000 - (len(df) * 0.01))\n",
    "    \n",
    "    risk_types = list(breakdown.index)\n",
    "    sampled_headlines = []\n",
    "    for risk in risk_types:\n",
    "        population = list(df.loc[df.risk_type==risk].index)\n",
    "        sample_indices = random.sample(population, sample_no)\n",
    "        sampled_headlines.append(df.loc[df.index.isin(sample_indices)])\n",
    "    \n",
    "    return pd.concat([non_risk_df, pd.concat(sampled_headlines)]).reset_index(drop=True)\n",
    "\n",
    "balanced_spanish_df = balance_risk_types(spanish_df, spanish_risk_type_breakdown)\n",
    "balanced_portuguese_df = balance_risk_types(portuguese_df, portuguese_risk_type_breakdown)"
   ]
  },
  {
   "cell_type": "markdown",
   "id": "c19d2223-dacd-45c0-95ae-9e184e153fe4",
   "metadata": {},
   "source": [
    "## Train test split"
   ]
  },
  {
   "cell_type": "markdown",
   "id": "762a79cf-f9e5-4425-98d5-4bbebb86c603",
   "metadata": {},
   "source": [
    "Creates a train test split for a given dataframe."
   ]
  },
  {
   "cell_type": "code",
   "execution_count": 4,
   "id": "993291ec-e669-4ecf-b69c-18a60a63257b",
   "metadata": {},
   "outputs": [],
   "source": [
    "from sklearn.model_selection import train_test_split\n",
    "\n",
    "# returns a train test split\n",
    "def split_data(df, test_size=0.3):\n",
    "    X = df.headline\n",
    "    y = [int(pd.notna(x)) for x in df.risk_type]\n",
    "    return train_test_split(X, y, test_size=test_size, stratify=y)"
   ]
  },
  {
   "cell_type": "markdown",
   "id": "4e57f62d-867d-4650-ae3c-8d43e914072e",
   "metadata": {},
   "source": [
    "## Fit model"
   ]
  },
  {
   "cell_type": "markdown",
   "id": "4b3c8859-20ea-4a18-91ae-bace73c70949",
   "metadata": {},
   "source": [
    "A model is fit using TF-IDF vectors and logistic regression. A regression model is used to obtain probabilities so that the classification threshold can be easily varied."
   ]
  },
  {
   "cell_type": "code",
   "execution_count": 5,
   "id": "e1d308e1-99f8-407a-9300-05c48090ff96",
   "metadata": {},
   "outputs": [],
   "source": [
    "from sklearn.feature_extraction.text import TfidfVectorizer\n",
    "from sklearn.linear_model import LogisticRegression\n",
    "\n",
    "# vectorizes data and fits a model \n",
    "def fit_model(df):\n",
    "    X, y = df.headline, [int(pd.notna(x)) for x in df.risk_type]\n",
    "    vectorizer = TfidfVectorizer()\n",
    "    train_tfidf = vectorizer.fit_transform(X)\n",
    "    model = LogisticRegression()\n",
    "    model.fit(train_tfidf, y)\n",
    "    return vectorizer, model"
   ]
  },
  {
   "cell_type": "markdown",
   "id": "cbcedc06-93a0-4752-8a17-23935c3cd3d5",
   "metadata": {},
   "source": [
    "## Evaluate model"
   ]
  },
  {
   "cell_type": "markdown",
   "id": "278d92fe-b0fb-4fb7-857c-e56903aba5b7",
   "metadata": {},
   "source": [
    "Prints the accuracy and classification report for a given model on a given set of headlines."
   ]
  },
  {
   "cell_type": "code",
   "execution_count": 6,
   "id": "ff8550a9-306e-47b8-aa04-3a594eabe169",
   "metadata": {},
   "outputs": [],
   "source": [
    "from sklearn.metrics import classification_report, accuracy_score\n",
    "\n",
    "# evaluates the model's performance and prints the results\n",
    "def evaluate_model(model, X_test_tfidf, y_test):\n",
    "    y_pred = model.predict(X_test_tfidf)\n",
    "    y_pred_prob = model.predict_proba(X_test_tfidf)[:, 1] \n",
    "    classification_report_ = classification_report(y_test, y_pred)\n",
    "    print(\"Accuracy:\", round(accuracy_score(y_test, y_pred),3))\n",
    "    print(\"Classification Report:\\n\", classification_report_)\n",
    "    print()"
   ]
  },
  {
   "cell_type": "markdown",
   "id": "341e2c1f-6f54-4969-9e18-c923a661c6bb",
   "metadata": {},
   "source": [
    "## Put aside headllines"
   ]
  },
  {
   "cell_type": "markdown",
   "id": "2f3d8e3a-88cd-42bb-abd7-5b99ab8cd91e",
   "metadata": {},
   "source": [
    "A percentage of 'put aside' raw data for each language is used for evaluation. This is useful because it has not had any headlines filtered out based on their risk probability score (seen notebook 3) and therefore contains some of the more difficult (but realistic) edge cases."
   ]
  },
  {
   "cell_type": "code",
   "execution_count": 7,
   "id": "9eea541a-e003-4d00-a3a3-2969ba7f3574",
   "metadata": {},
   "outputs": [],
   "source": [
    "# imports put aside headlines\n",
    "spanish_put_aside_df = pd.read_csv('../Data/spanish_put_aside_df.csv', encoding='utf-8')\n",
    "portuguese_put_aside_df = pd.read_csv('../Data/portuguese_put_aside_df.csv', encoding='utf-8')"
   ]
  },
  {
   "cell_type": "markdown",
   "id": "8522d3f1-c8eb-4160-b45e-928506ed4475",
   "metadata": {},
   "source": [
    "## Check results"
   ]
  },
  {
   "cell_type": "markdown",
   "id": "9f607426-2f5f-436c-a1f7-9dd3d564ed57",
   "metadata": {},
   "source": [
    "A model is trained on the filtered dataset and evaluated on the set aside data. As we can see, the overall accuracy for risk headlines has imporved for both languages (see notebook 2), likely because the model is better able to distinguish between previously underrepresented risk types and non-risks."
   ]
  },
  {
   "cell_type": "code",
   "execution_count": 8,
   "id": "99154b16-9856-4772-a8e6-f89a0593ddf3",
   "metadata": {},
   "outputs": [
    {
     "name": "stdout",
     "output_type": "stream",
     "text": [
      "\n",
      "*** Spanish ***\n",
      "\n",
      "6.11K put aside headlines\n",
      "Accuracy: 0.813\n",
      "Classification Report:\n",
      "               precision    recall  f1-score   support\n",
      "\n",
      "           0       0.98      0.80      0.88      5297\n",
      "           1       0.41      0.87      0.55       812\n",
      "\n",
      "    accuracy                           0.81      6109\n",
      "   macro avg       0.69      0.84      0.72      6109\n",
      "weighted avg       0.90      0.81      0.84      6109\n",
      "\n",
      "\n",
      "\n",
      "*** Portuguese ***\n",
      "\n",
      "1.32K put aside headlines\n",
      "Accuracy: 0.735\n",
      "Classification Report:\n",
      "               precision    recall  f1-score   support\n",
      "\n",
      "           0       0.93      0.72      0.81      1030\n",
      "           1       0.45      0.81      0.57       293\n",
      "\n",
      "    accuracy                           0.74      1323\n",
      "   macro avg       0.69      0.76      0.69      1323\n",
      "weighted avg       0.82      0.74      0.76      1323\n",
      "\n",
      "\n"
     ]
    }
   ],
   "source": [
    "# evaluates a filtered dataset against new headlines\n",
    "def check_results(train_df, put_aside_df, language):\n",
    "    print()\n",
    "    print('*** ' + language + ' ***')\n",
    "    print()\n",
    "\n",
    "    X_train, X_test, y_train, y_test = split_data(train_df, test_size=0.01)\n",
    "    vectorizer = TfidfVectorizer()\n",
    "    X_train_tfidf = vectorizer.fit_transform(X_train)\n",
    "    \n",
    "    model = LogisticRegression()\n",
    "    model.fit(X_train_tfidf, y_train)\n",
    "\n",
    "    print(str(round(len(put_aside_df)/1000, 2)) + 'K put aside headlines')\n",
    "    \n",
    "    X_test_tfidf = vectorizer.transform(put_aside_df.headline)\n",
    "    y_test = [int(pd.notna(x)) for x in put_aside_df.risk_type]\n",
    "    return evaluate_model(model, X_test_tfidf, y_test)\n",
    "\n",
    "check_results(balanced_spanish_df, spanish_put_aside_df, language='Spanish')\n",
    "check_results(balanced_portuguese_df, portuguese_put_aside_df, language='Portuguese')"
   ]
  },
  {
   "cell_type": "markdown",
   "id": "469bdf6d-441c-4c58-ac6b-2ac28b31c8d4",
   "metadata": {},
   "source": [
    "## Visualize results"
   ]
  },
  {
   "cell_type": "markdown",
   "id": "27b22610-54c2-4ea7-88ea-a928cf4ca9ac",
   "metadata": {},
   "source": [
    "Overall accuracy has improved for both Spanish and Portuguese headlines."
   ]
  },
  {
   "cell_type": "code",
   "execution_count": 9,
   "id": "557a82df-e663-42e7-b4d9-7c3557f771b7",
   "metadata": {},
   "outputs": [
    {
     "data": {
      "image/png": "[encoded data removed]",
      "text/plain": [
       "<Figure size 1200x500 with 2 Axes>"
      ]
     },
     "metadata": {},
     "output_type": "display_data"
    }
   ],
   "source": [
    "import matplotlib.pyplot as plt\n",
    "\n",
    "# data\n",
    "spanish_old_model = 0.776\n",
    "portuguese_old_model = 0.709\n",
    "spanish_new_model = 0.822\n",
    "portuguese_new_model = 0.766\n",
    "\n",
    "# labels for the statistics\n",
    "labels = ['Spanish', 'Portuguese']\n",
    "colors = ['tab:red', 'tab:green']\n",
    "\n",
    "# data for the plots\n",
    "old_model = [spanish_old_model, portuguese_old_model]\n",
    "new_model = [spanish_new_model, portuguese_new_model]\n",
    "\n",
    "# create subplots for comparison between languages and models\n",
    "fig, axs = plt.subplots(1, 2, figsize=(12, 5))\n",
    "\n",
    "# plot for Spanish\n",
    "bars = axs[0].bar(['Old model', 'Balanced model'], [spanish_old_model, spanish_new_model], color=colors)\n",
    "axs[0].set_title('Spanish')\n",
    "axs[0].set_ylim(0, 1)\n",
    "axs[0].set_ylabel('Score')\n",
    "\n",
    "# add numeric labels on top of the bars\n",
    "for bar in bars:\n",
    "    yval = bar.get_height()\n",
    "    axs[0].text(bar.get_x() + bar.get_width() / 2, yval + 0.01, round(yval, 2), ha='center', va='bottom')\n",
    "\n",
    "# plot for Portuguese\n",
    "bars = axs[1].bar(['Old model', 'Balanced model'], [portuguese_old_model, portuguese_new_model], color=colors)\n",
    "axs[1].set_title('Portuguese')\n",
    "axs[1].set_ylim(0, 1)\n",
    "\n",
    "# add numeric labels on top of the bars\n",
    "for bar in bars:\n",
    "    yval = bar.get_height()\n",
    "    axs[1].text(bar.get_x() + bar.get_width() / 2, yval + 0.01, round(yval, 2), ha='center', va='bottom')\n",
    "\n",
    "# add overall title\n",
    "fig.suptitle('Overall accuracy', fontsize=18)\n",
    "\n",
    "# adjust layout for better spacing\n",
    "plt.tight_layout(rect=[0, 0, 1, 0.95])\n",
    "\n",
    "# save image\n",
    "plt.savefig('../Images/balance_risk_types_overall_accuracy.png', dpi=600, bbox_inches='tight')\n",
    "\n",
    "# show the plot\n",
    "plt.show()"
   ]
  }
 ],
 "metadata": {
  "kernelspec": {
   "display_name": "Python 3 (ipykernel)",
   "language": "python",
   "name": "python3"
  },
  "language_info": {
   "codemirror_mode": {
    "name": "ipython",
    "version": 3
   },
   "file_extension": ".py",
   "mimetype": "text/x-python",
   "name": "python",
   "nbconvert_exporter": "python",
   "pygments_lexer": "ipython3",
   "version": "3.11.7"
  }
 },
 "nbformat": 4,
 "nbformat_minor": 5
}
