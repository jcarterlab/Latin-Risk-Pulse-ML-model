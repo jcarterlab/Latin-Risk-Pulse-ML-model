{
 "cells": [
  {
   "cell_type": "markdown",
   "id": "a6c07089-3c15-4471-a9a9-cd23bc36efc3",
   "metadata": {},
   "source": [
    "# 6) Model selection"
   ]
  },
  {
   "cell_type": "markdown",
   "id": "04b94a4b-4026-4343-bdc8-a3174d475e60",
   "metadata": {},
   "source": [
    "Experimenting with various models shows that XGBoost trained on TF-IDF vectors looks to be the most promising. Interestingly, neural networks trained on vector embeddings perform very poorly. The small size of the dataset and large gap between training and validation accuracy suggest that these comparatively more complex models are overfitting."
   ]
  },
  {
   "cell_type": "markdown",
   "id": "2d057dd9-7329-46d7-a180-68218ca5e740",
   "metadata": {},
   "source": [
    "## Read-in data"
   ]
  },
  {
   "cell_type": "markdown",
   "id": "9b6e0269-5fa1-42a8-99dd-eacc211a6db4",
   "metadata": {},
   "source": [
    "Seperate dataframes are read-in for each language and dataset type. "
   ]
  },
  {
   "cell_type": "code",
   "execution_count": 1,
   "id": "5a93c710-7c31-4015-8249-2de4a25b7169",
   "metadata": {},
   "outputs": [
    {
     "name": "stdout",
     "output_type": "stream",
     "text": [
      "24.3K Spanish train headlines\n",
      "0.6K Spanish put aside headlines\n",
      "6.6K Portuguese train headlines\n",
      "0.6K Portuguese put aside headlines\n"
     ]
    }
   ],
   "source": [
    "import pandas as pd\n",
    "import numpy as np\n",
    "\n",
    "# reads in the spanish improved label headlines\n",
    "spanish_improved_labels_df = pd.read_csv('../Data/spanish_improved_labels_df.csv', encoding='utf-8').reset_index(drop=True)\n",
    "print(str(round(len(spanish_improved_labels_df)/1000, 1)) + 'K Spanish train headlines')\n",
    "\n",
    "# reads in the spanish put aside headlines\n",
    "spanish_put_aside_df = pd.read_csv('../Data/spanish_put_aside_df.csv', encoding='utf-8').reset_index(drop=True)\n",
    "print(str(round(len(spanish_put_aside_df)/1000, 1)) + 'K Spanish put aside headlines')\n",
    "\n",
    "# reads in the portuguese improved label headlines\n",
    "portuguese_improved_labels_df = pd.read_csv('../Data/portuguese_improved_labels_df.csv', encoding='utf-8').reset_index(drop=True)\n",
    "print(str(round(len(portuguese_improved_labels_df)/1000, 1)) + 'K Portuguese train headlines')\n",
    "\n",
    "# reads in the portuguese put aside headlines\n",
    "portuguese_put_aside_df = pd.read_csv('../Data/portuguese_put_aside_df.csv', encoding='utf-8').reset_index(drop=True)\n",
    "print(str(round(len(portuguese_put_aside_df)/1000, 1)) + 'K Portuguese put aside headlines')"
   ]
  },
  {
   "cell_type": "markdown",
   "id": "ddaa3799-6c26-4414-afdf-9b6593c58d78",
   "metadata": {},
   "source": [
    "## Create risk type dataframe"
   ]
  },
  {
   "cell_type": "markdown",
   "id": "3f3bb459-3954-4813-bd8c-86a12f1f52c0",
   "metadata": {},
   "source": [
    "Creates a dataframe with all the headlines from a certain risk type and an equal number of other headlines. These other headlines include both non-risk type headlines and other risk types, helping the model to learn better by distinguishing between specific risk types."
   ]
  },
  {
   "cell_type": "code",
   "execution_count": 2,
   "id": "d972686e-6c99-4471-b5d8-e3f9170305a6",
   "metadata": {},
   "outputs": [],
   "source": [
    "import random\n",
    "\n",
    "# returns a dataframe containing all of a specific risk type and and equal number \n",
    "# of randomly sampled other and non risks\n",
    "def risk_type_df(df, risk_type):\n",
    "    # a specified risk type \n",
    "    risk_type_df = df.loc[df.risk_type==risk_type]\n",
    "\n",
    "    # ranodmly sampled non risks\n",
    "    population, sample_no = list(df.loc[~df.index.isin(risk_type_df.index)].index), len(risk_type_df)\n",
    "    non_risks = random.sample(population, sample_no)\n",
    "    non_risks_df = df.loc[df.index.isin(non_risks)]\n",
    "\n",
    "    # concatenates risks and non-risks\n",
    "    risk_type_df = pd.concat([risk_type_df, non_risks_df])\n",
    "\n",
    "    # creates a binary coolumn to indicate whether a risk is the specified risk type or not\n",
    "    risk_type_df['y_value'] = [1 if x == risk_type else 0 for x in risk_type_df['risk_type']]\n",
    "    \n",
    "    return risk_type_df"
   ]
  },
  {
   "cell_type": "markdown",
   "id": "57e000ea-9bd7-4285-8742-38b9739c8e01",
   "metadata": {},
   "source": [
    "## Training functions"
   ]
  },
  {
   "cell_type": "markdown",
   "id": "546da63b-3d45-41a0-94d9-1ddaf4b4b17f",
   "metadata": {},
   "source": [
    "### Train test split"
   ]
  },
  {
   "cell_type": "markdown",
   "id": "4d99c050-8132-48cf-bef2-63dca3330c09",
   "metadata": {},
   "source": [
    "Creates a train test split for a given dataframe."
   ]
  },
  {
   "cell_type": "code",
   "execution_count": 3,
   "id": "b74dfdb8-7343-4796-8f6e-1826218e1357",
   "metadata": {},
   "outputs": [],
   "source": [
    "from sklearn.model_selection import train_test_split\n",
    "\n",
    "# returns a train test split\n",
    "def split_data(df, risk_type, test_size=0.25):\n",
    "    # defines X\n",
    "    X = df.headline\n",
    "    \n",
    "    # defines y\n",
    "    if risk_type != None:\n",
    "        y = df.y_value\n",
    "    else:\n",
    "        y = [int(pd.notna(x)) for x in df.risk_type]\n",
    "        \n",
    "    # returns a split\n",
    "    return train_test_split(X, y, test_size=test_size, stratify=y)"
   ]
  },
  {
   "cell_type": "markdown",
   "id": "b23382ca-2c4d-489c-9db3-86b2e1ca2ad9",
   "metadata": {},
   "source": [
    "### TF-IDF"
   ]
  },
  {
   "cell_type": "markdown",
   "id": "d0689d4d-209b-47f5-9897-c0307d5e4c3b",
   "metadata": {},
   "source": [
    "A model is fit and evaluated on TF-IDF vectors."
   ]
  },
  {
   "cell_type": "code",
   "execution_count": 4,
   "id": "6f0c64fd-f10e-4a5b-acb7-5065657d0f44",
   "metadata": {},
   "outputs": [],
   "source": [
    "from sklearn.feature_extraction.text import TfidfVectorizer\n",
    "import matplotlib.pyplot as plt\n",
    "from sklearn.metrics import confusion_matrix, classification_report, accuracy_score\n",
    "\n",
    "# evaluates a model by printing the accuracy and classification report\n",
    "def evaluate_model(model, X_test_tfidf, y_test):\n",
    "    # generates predictions\n",
    "    y_pred = model.predict(X_test_tfidf)\n",
    "    print(\"Accuracy:\", round(accuracy_score(y_test, y_pred), 2))\n",
    "    print()\n",
    "    \n",
    "    # prints classification report\n",
    "    print(\"Classification Report:\\n\", classification_report(y_test, y_pred))\n",
    "    print()\n",
    "    return classification_report(y_test, y_pred, output_dict=True)\n",
    "\n",
    "# evaluates a filtered dataset against new headlines using tf-idf vectors and logistic regression \n",
    "def fit_evaluate_tfidf(model, train_df, put_aside_df, risk_type, language):\n",
    "    # prints the language\n",
    "    print()\n",
    "    print('*** ' + language + ': ' + str(risk_type) + ' ***')\n",
    "    print()\n",
    "\n",
    "    # reassigns the train df to focus on a particular risk type and defines the y_test variable\n",
    "    if risk_type != None:\n",
    "        train_df, y_test = risk_type_df(train_df, risk_type), [1 if x == risk_type else 0 for x in put_aside_df['risk_type']]\n",
    "    else:\n",
    "        y_test = [int(pd.notna(x)) for x in put_aside_df.risk_type]\n",
    "        \n",
    "    # instantiate vectorizer\n",
    "    vectorizer = TfidfVectorizer()\n",
    "\n",
    "    # prepare data\n",
    "    X_train, X_test, y_train, NOT_Y_TEST = split_data(train_df, risk_type, test_size=0.001)\n",
    "    X_train_tfidf = vectorizer.fit_transform(X_train)\n",
    "    X_test_tfidf = vectorizer.transform(put_aside_df.headline)\n",
    "\n",
    "    # fit logistic regression model\n",
    "    model = LogisticRegression()\n",
    "    model.fit(X_train_tfidf, y_train)\n",
    "\n",
    "    # evaluate data\n",
    "    print(str(len(put_aside_df)) + ' put aside headlines')\n",
    "    return evaluate_model(model, X_test_tfidf, y_test)"
   ]
  },
  {
   "cell_type": "markdown",
   "id": "d9281aec-9eb7-42d4-9e40-20c2ad3ef951",
   "metadata": {},
   "source": [
    "### Embeddings"
   ]
  },
  {
   "cell_type": "markdown",
   "id": "818d9e83-4432-486a-be68-03b75641cd79",
   "metadata": {},
   "source": [
    "A neural network model is fit and evaluated on FastText vector embeddings."
   ]
  },
  {
   "cell_type": "code",
   "execution_count": 5,
   "id": "54fe9b94-c019-4668-8eec-7ca61e34c44d",
   "metadata": {},
   "outputs": [],
   "source": [
    "import gensim\n",
    "import gensim.downloader as api\n",
    "import tensorflow as tf\n",
    "from tensorflow.keras.models import Sequential\n",
    "from tensorflow.keras.layers import Dense, Flatten, Dropout, Input\n",
    "\n",
    "# fasttext pre-trained word embeddings model (includes Spanish and Portuguese)\n",
    "fasttext_model = api.load(\"fasttext-wiki-news-subwords-300\")\n",
    "\n",
    "# sets the max length of each headline to 50 characters\n",
    "max_len = 30\n",
    "\n",
    "# returns vector embeddings for a given list of sentences\n",
    "def get_fasttext_embeddings(embeddings_model, sentences, max_len, embedding_dim):\n",
    "    # creates a matrix of zeros\n",
    "    X = np.zeros((len(sentences), max_len, embedding_dim))\n",
    "\n",
    "    # iterates through each headline\n",
    "    for i, sentence in enumerate(sentences):\n",
    "\n",
    "        # limits headline length if over the max length \n",
    "        if len(sentence) > max_len:\n",
    "            sentence = sentence[:max_len]\n",
    "\n",
    "        # fills the matrix\n",
    "        for j, word in enumerate(sentence):\n",
    "            if word in embeddings_model:\n",
    "                X[i, j] = embeddings_model[word]\n",
    "            else:\n",
    "                X[i, j] = np.random.normal(size=(embedding_dim,)) \n",
    "    return X\n",
    "\n",
    "# evaluates a filtered dataset against new headlines using vector embeddings and a neural network model \n",
    "def fit_evaluate_embeddings(model, embeddings_model, train_df, put_aside_df, risk_type, max_len, embedding_dim, language):\n",
    "    # prints the language\n",
    "    print()\n",
    "    print('*** ' + language + ' ***')\n",
    "    print()\n",
    "\n",
    "    # reassigns the train df to focus on a particular risk type and defines the y_test variable\n",
    "    if risk_type != None:\n",
    "        train_df, y_test = risk_type_df(train_df, risk_type), [1 if x == risk_type else 0 for x in put_aside_df['risk_type']]\n",
    "    else:\n",
    "        y_test = [int(pd.notna(x)) for x in put_aside_df.risk_type]\n",
    "    \n",
    "    # prepares the data for training\n",
    "    headlines = list(train_df.headline.values)\n",
    "    X_train = get_fasttext_embeddings(embeddings_model, headlines, max_len, embedding_dim)\n",
    "    y_train = np.array([int(pd.notna(x)) for x in train_df.risk_type])\n",
    "    \n",
    "    # trains the model\n",
    "    history = model.fit(X_train, y_train, epochs=10, batch_size=32, validation_split=0.2)\n",
    "\n",
    "    # evaluates the model\n",
    "    put_aside_df_sentences = list(put_aside_df.headline.values)\n",
    "    X_test = get_fasttext_embeddings(embeddings_model, put_aside_df_sentences, max_len, embedding_dim)\n",
    "    y_test = np.array([int(pd.notna(x)) for x in put_aside_df.risk_type])\n",
    "    preds = model.predict(X_test)\n",
    "    class_preds = (preds > 0.5).astype(int)\n",
    "    y_pred = list(class_preds.flatten())\n",
    "\n",
    "    # prints accuracy and the classification report\n",
    "    classification_report_ = classification_report(y_test, y_pred)\n",
    "    print(\"Accuracy:\", round(accuracy_score(y_test, y_pred),3))\n",
    "    print()\n",
    "    print(\"Classification Report:\\n\", classification_report_)\n",
    "    print()\n",
    "    return classification_report(y_test, y_pred, output_dict=True), history"
   ]
  },
  {
   "cell_type": "markdown",
   "id": "1caf5083-7281-4e97-83be-5b8010bbbb1b",
   "metadata": {},
   "source": [
    "## Choose risk type"
   ]
  },
  {
   "cell_type": "markdown",
   "id": "6f332f7b-8200-4509-9832-18623d101c98",
   "metadata": {},
   "source": [
    "The risk type can be changed to see how the models perform across different risk types."
   ]
  },
  {
   "cell_type": "code",
   "execution_count": 6,
   "id": "9a04a6c4-4e6c-4e7f-9178-dafaa688812f",
   "metadata": {},
   "outputs": [],
   "source": [
    "# defines the risk type\n",
    "risk_type = 'political_stability'"
   ]
  },
  {
   "cell_type": "markdown",
   "id": "8b653632-5935-4c14-a119-2d739dfb5430",
   "metadata": {},
   "source": [
    "## TF-IDF & conventional models"
   ]
  },
  {
   "cell_type": "markdown",
   "id": "decd7ae9-fd26-4771-8c5e-69ac41813636",
   "metadata": {},
   "source": [
    "### Logistic regression"
   ]
  },
  {
   "cell_type": "markdown",
   "id": "0f748469-82d5-46af-8828-dc83a3300e6f",
   "metadata": {},
   "source": [
    "A logistic regression model is fit and evaluated on TF-IDF vectors."
   ]
  },
  {
   "cell_type": "code",
   "execution_count": 7,
   "id": "2aef3d6a-5497-4091-81d4-643fc3cb551b",
   "metadata": {},
   "outputs": [
    {
     "name": "stdout",
     "output_type": "stream",
     "text": [
      "\n",
      "*** Spanish: political_stability ***\n",
      "\n",
      "600 put aside headlines\n",
      "Accuracy: 0.72\n",
      "\n",
      "Classification Report:\n",
      "               precision    recall  f1-score   support\n",
      "\n",
      "           0       0.98      0.68      0.80       497\n",
      "           1       0.37      0.92      0.53       103\n",
      "\n",
      "    accuracy                           0.72       600\n",
      "   macro avg       0.67      0.80      0.67       600\n",
      "weighted avg       0.87      0.72      0.75       600\n",
      "\n",
      "\n",
      "\n",
      "*** Portuguese: political_stability ***\n",
      "\n",
      "600 put aside headlines\n",
      "Accuracy: 0.77\n",
      "\n",
      "Classification Report:\n",
      "               precision    recall  f1-score   support\n",
      "\n",
      "           0       0.95      0.76      0.84       483\n",
      "           1       0.46      0.83      0.59       117\n",
      "\n",
      "    accuracy                           0.77       600\n",
      "   macro avg       0.70      0.79      0.72       600\n",
      "weighted avg       0.85      0.77      0.79       600\n",
      "\n",
      "\n"
     ]
    }
   ],
   "source": [
    "from sklearn.linear_model import LogisticRegression\n",
    "\n",
    "# model\n",
    "lr_model = LogisticRegression()\n",
    "\n",
    "# classification report\n",
    "logistic_regression_spanish_classification_report_ = fit_evaluate_tfidf(lr_model, spanish_improved_labels_df, spanish_put_aside_df, risk_type, language='Spanish')\n",
    "logistic_regression_portuguese_classification_report_ = fit_evaluate_tfidf(lr_model, portuguese_improved_labels_df, portuguese_put_aside_df, risk_type, language='Portuguese')"
   ]
  },
  {
   "cell_type": "markdown",
   "id": "185212d4-3068-47d0-a411-c9724eb5df08",
   "metadata": {},
   "source": [
    "### Random forest"
   ]
  },
  {
   "cell_type": "markdown",
   "id": "1cc707b6-f9b8-48d0-a541-f20cd20a546f",
   "metadata": {},
   "source": [
    "A random forest model is fit and evaluated on TF-IDF vectors."
   ]
  },
  {
   "cell_type": "code",
   "execution_count": 8,
   "id": "70991bef-69f5-40f4-9876-880229110dd8",
   "metadata": {},
   "outputs": [
    {
     "name": "stdout",
     "output_type": "stream",
     "text": [
      "\n",
      "*** Spanish: political_stability ***\n",
      "\n",
      "600 put aside headlines\n",
      "Accuracy: 0.71\n",
      "\n",
      "Classification Report:\n",
      "               precision    recall  f1-score   support\n",
      "\n",
      "           0       0.98      0.67      0.80       497\n",
      "           1       0.37      0.93      0.53       103\n",
      "\n",
      "    accuracy                           0.71       600\n",
      "   macro avg       0.67      0.80      0.66       600\n",
      "weighted avg       0.87      0.71      0.75       600\n",
      "\n",
      "\n",
      "\n",
      "*** Portuguese: political_stability ***\n",
      "\n",
      "600 put aside headlines\n",
      "Accuracy: 0.77\n",
      "\n",
      "Classification Report:\n",
      "               precision    recall  f1-score   support\n",
      "\n",
      "           0       0.94      0.76      0.84       483\n",
      "           1       0.45      0.80      0.57       117\n",
      "\n",
      "    accuracy                           0.77       600\n",
      "   macro avg       0.69      0.78      0.71       600\n",
      "weighted avg       0.84      0.77      0.79       600\n",
      "\n",
      "\n"
     ]
    }
   ],
   "source": [
    "from sklearn.ensemble import RandomForestClassifier\n",
    "\n",
    "# model\n",
    "rf_model = RandomForestClassifier()\n",
    "\n",
    "# classification report\n",
    "random_forest_spanish_classification_report_ = fit_evaluate_tfidf(rf_model, spanish_improved_labels_df, spanish_put_aside_df, risk_type, language='Spanish')\n",
    "random_forest_portuguese_classification_report_ = fit_evaluate_tfidf(rf_model, portuguese_improved_labels_df, portuguese_put_aside_df, risk_type, language='Portuguese')"
   ]
  },
  {
   "cell_type": "markdown",
   "id": "44e86bd4-a553-493a-9a3c-1835c8d2a89b",
   "metadata": {},
   "source": [
    "### XGBoost"
   ]
  },
  {
   "cell_type": "markdown",
   "id": "ee2cffd1-c1ee-416f-8895-d897b92e2e00",
   "metadata": {},
   "source": [
    "An XGBoost model is fit and evaluated on TF-IDF vectors."
   ]
  },
  {
   "cell_type": "code",
   "execution_count": 9,
   "id": "7f22c831-f29f-4f9d-ad39-25b5efc96711",
   "metadata": {},
   "outputs": [
    {
     "name": "stdout",
     "output_type": "stream",
     "text": [
      "\n",
      "*** Spanish: political_stability ***\n",
      "\n",
      "600 put aside headlines\n",
      "Accuracy: 0.73\n",
      "\n",
      "Classification Report:\n",
      "               precision    recall  f1-score   support\n",
      "\n",
      "           0       0.98      0.69      0.81       497\n",
      "           1       0.38      0.93      0.54       103\n",
      "\n",
      "    accuracy                           0.73       600\n",
      "   macro avg       0.68      0.81      0.67       600\n",
      "weighted avg       0.88      0.73      0.76       600\n",
      "\n",
      "\n",
      "\n",
      "*** Portuguese: political_stability ***\n",
      "\n",
      "600 put aside headlines\n",
      "Accuracy: 0.78\n",
      "\n",
      "Classification Report:\n",
      "               precision    recall  f1-score   support\n",
      "\n",
      "           0       0.95      0.77      0.85       483\n",
      "           1       0.46      0.82      0.59       117\n",
      "\n",
      "    accuracy                           0.78       600\n",
      "   macro avg       0.71      0.80      0.72       600\n",
      "weighted avg       0.85      0.78      0.80       600\n",
      "\n",
      "\n"
     ]
    }
   ],
   "source": [
    "import xgboost as xgb \n",
    "\n",
    "# model\n",
    "xgb_model = xgb.XGBClassifier()\n",
    "\n",
    "# classification report\n",
    "xgboost_spanish_classification_report_ = fit_evaluate_tfidf(xgb_model, spanish_improved_labels_df, spanish_put_aside_df, risk_type, language='Spanish')\n",
    "xgboost_forest_portuguese_classification_report_ = fit_evaluate_tfidf(xgb_model, portuguese_improved_labels_df, portuguese_put_aside_df, risk_type, language='Portuguese')"
   ]
  },
  {
   "cell_type": "markdown",
   "id": "00c7bbce-7a0b-4dc2-94a0-c4d90a999e47",
   "metadata": {},
   "source": [
    "### Support vector machine (SVM)"
   ]
  },
  {
   "cell_type": "markdown",
   "id": "a0e5c93e-7b31-4113-ad5b-90636f607923",
   "metadata": {},
   "source": [
    "An SVM model is fit and evaluated on TF-IDF vectors."
   ]
  },
  {
   "cell_type": "code",
   "execution_count": 10,
   "id": "d1ac0678-f317-4966-b8b1-3e4f49c99bcf",
   "metadata": {},
   "outputs": [
    {
     "name": "stdout",
     "output_type": "stream",
     "text": [
      "\n",
      "*** Spanish: political_stability ***\n",
      "\n",
      "600 put aside headlines\n",
      "Accuracy: 0.72\n",
      "\n",
      "Classification Report:\n",
      "               precision    recall  f1-score   support\n",
      "\n",
      "           0       0.98      0.67      0.80       497\n",
      "           1       0.37      0.92      0.53       103\n",
      "\n",
      "    accuracy                           0.72       600\n",
      "   macro avg       0.67      0.80      0.66       600\n",
      "weighted avg       0.87      0.72      0.75       600\n",
      "\n",
      "\n",
      "\n",
      "*** Portuguese: political_stability ***\n",
      "\n",
      "600 put aside headlines\n",
      "Accuracy: 0.77\n",
      "\n",
      "Classification Report:\n",
      "               precision    recall  f1-score   support\n",
      "\n",
      "           0       0.94      0.76      0.84       483\n",
      "           1       0.45      0.80      0.58       117\n",
      "\n",
      "    accuracy                           0.77       600\n",
      "   macro avg       0.70      0.78      0.71       600\n",
      "weighted avg       0.85      0.77      0.79       600\n",
      "\n",
      "\n"
     ]
    }
   ],
   "source": [
    "from sklearn.svm import SVC\n",
    "\n",
    "# model\n",
    "svm_model = SVC()\n",
    "\n",
    "# classification report\n",
    "svc_spanish_classification_report_ = fit_evaluate_tfidf(svm_model, spanish_improved_labels_df, spanish_put_aside_df, risk_type, language='Spanish')\n",
    "svc_forest_portuguese_classification_report_ = fit_evaluate_tfidf(svm_model, portuguese_improved_labels_df, portuguese_put_aside_df, risk_type, language='Portuguese')"
   ]
  },
  {
   "cell_type": "markdown",
   "id": "ce509aad-aec8-40d5-aa7e-2fcb60833334",
   "metadata": {},
   "source": [
    "## Embeddings & Neural networks"
   ]
  },
  {
   "cell_type": "markdown",
   "id": "e0cdbbae-dc5f-4618-b5bb-1575d388b4ce",
   "metadata": {},
   "source": [
    "### Feedforward neural network (FNN) "
   ]
  },
  {
   "cell_type": "markdown",
   "id": "43afb018-a6fe-4d5e-af2d-9e0f60b4b4c7",
   "metadata": {},
   "source": [
    "A feedforward neural network (FNN) model is fit and evaluated on FastText vectors."
   ]
  },
  {
   "cell_type": "code",
   "execution_count": 11,
   "id": "c1afd0fc-7131-4587-a7cb-5feb1b434e0b",
   "metadata": {
    "scrolled": true
   },
   "outputs": [
    {
     "name": "stderr",
     "output_type": "stream",
     "text": [
      "C:\\Users\\Jack-\\AppData\\Local\\Programs\\Python\\Python311\\Lib\\site-packages\\keras\\src\\layers\\reshaping\\flatten.py:37: UserWarning: Do not pass an `input_shape`/`input_dim` argument to a layer. When using Sequential models, prefer using an `Input(shape)` object as the first layer in the model instead.\n",
      "  super().__init__(**kwargs)\n"
     ]
    },
    {
     "data": {
      "text/html": [
       "<pre style=\"white-space:pre;overflow-x:auto;line-height:normal;font-family:Menlo,'DejaVu Sans Mono',consolas,'Courier New',monospace\"><span style=\"font-weight: bold\">Model: \"sequential\"</span>\n",
       "</pre>\n"
      ],
      "text/plain": [
       "\u001b[1mModel: \"sequential\"\u001b[0m\n"
      ]
     },
     "metadata": {},
     "output_type": "display_data"
    },
    {
     "data": {
      "text/html": [
       "<pre style=\"white-space:pre;overflow-x:auto;line-height:normal;font-family:Menlo,'DejaVu Sans Mono',consolas,'Courier New',monospace\">┏━━━━━━━━━━━━━━━━━━━━━━━━━━━━━━━━━━━━━━┳━━━━━━━━━━━━━━━━━━━━━━━━━━━━━┳━━━━━━━━━━━━━━━━━┓\n",
       "┃<span style=\"font-weight: bold\"> Layer (type)                         </span>┃<span style=\"font-weight: bold\"> Output Shape                </span>┃<span style=\"font-weight: bold\">         Param # </span>┃\n",
       "┡━━━━━━━━━━━━━━━━━━━━━━━━━━━━━━━━━━━━━━╇━━━━━━━━━━━━━━━━━━━━━━━━━━━━━╇━━━━━━━━━━━━━━━━━┩\n",
       "│ flatten (<span style=\"color: #0087ff; text-decoration-color: #0087ff\">Flatten</span>)                    │ (<span style=\"color: #00d7ff; text-decoration-color: #00d7ff\">None</span>, <span style=\"color: #00af00; text-decoration-color: #00af00\">9000</span>)                │               <span style=\"color: #00af00; text-decoration-color: #00af00\">0</span> │\n",
       "├──────────────────────────────────────┼─────────────────────────────┼─────────────────┤\n",
       "│ dense (<span style=\"color: #0087ff; text-decoration-color: #0087ff\">Dense</span>)                        │ (<span style=\"color: #00d7ff; text-decoration-color: #00d7ff\">None</span>, <span style=\"color: #00af00; text-decoration-color: #00af00\">64</span>)                  │         <span style=\"color: #00af00; text-decoration-color: #00af00\">576,064</span> │\n",
       "├──────────────────────────────────────┼─────────────────────────────┼─────────────────┤\n",
       "│ dropout (<span style=\"color: #0087ff; text-decoration-color: #0087ff\">Dropout</span>)                    │ (<span style=\"color: #00d7ff; text-decoration-color: #00d7ff\">None</span>, <span style=\"color: #00af00; text-decoration-color: #00af00\">64</span>)                  │               <span style=\"color: #00af00; text-decoration-color: #00af00\">0</span> │\n",
       "├──────────────────────────────────────┼─────────────────────────────┼─────────────────┤\n",
       "│ dense_1 (<span style=\"color: #0087ff; text-decoration-color: #0087ff\">Dense</span>)                      │ (<span style=\"color: #00d7ff; text-decoration-color: #00d7ff\">None</span>, <span style=\"color: #00af00; text-decoration-color: #00af00\">1</span>)                   │              <span style=\"color: #00af00; text-decoration-color: #00af00\">65</span> │\n",
       "└──────────────────────────────────────┴─────────────────────────────┴─────────────────┘\n",
       "</pre>\n"
      ],
      "text/plain": [
       "┏━━━━━━━━━━━━━━━━━━━━━━━━━━━━━━━━━━━━━━┳━━━━━━━━━━━━━━━━━━━━━━━━━━━━━┳━━━━━━━━━━━━━━━━━┓\n",
       "┃\u001b[1m \u001b[0m\u001b[1mLayer (type)                        \u001b[0m\u001b[1m \u001b[0m┃\u001b[1m \u001b[0m\u001b[1mOutput Shape               \u001b[0m\u001b[1m \u001b[0m┃\u001b[1m \u001b[0m\u001b[1m        Param #\u001b[0m\u001b[1m \u001b[0m┃\n",
       "┡━━━━━━━━━━━━━━━━━━━━━━━━━━━━━━━━━━━━━━╇━━━━━━━━━━━━━━━━━━━━━━━━━━━━━╇━━━━━━━━━━━━━━━━━┩\n",
       "│ flatten (\u001b[38;5;33mFlatten\u001b[0m)                    │ (\u001b[38;5;45mNone\u001b[0m, \u001b[38;5;34m9000\u001b[0m)                │               \u001b[38;5;34m0\u001b[0m │\n",
       "├──────────────────────────────────────┼─────────────────────────────┼─────────────────┤\n",
       "│ dense (\u001b[38;5;33mDense\u001b[0m)                        │ (\u001b[38;5;45mNone\u001b[0m, \u001b[38;5;34m64\u001b[0m)                  │         \u001b[38;5;34m576,064\u001b[0m │\n",
       "├──────────────────────────────────────┼─────────────────────────────┼─────────────────┤\n",
       "│ dropout (\u001b[38;5;33mDropout\u001b[0m)                    │ (\u001b[38;5;45mNone\u001b[0m, \u001b[38;5;34m64\u001b[0m)                  │               \u001b[38;5;34m0\u001b[0m │\n",
       "├──────────────────────────────────────┼─────────────────────────────┼─────────────────┤\n",
       "│ dense_1 (\u001b[38;5;33mDense\u001b[0m)                      │ (\u001b[38;5;45mNone\u001b[0m, \u001b[38;5;34m1\u001b[0m)                   │              \u001b[38;5;34m65\u001b[0m │\n",
       "└──────────────────────────────────────┴─────────────────────────────┴─────────────────┘\n"
      ]
     },
     "metadata": {},
     "output_type": "display_data"
    },
    {
     "data": {
      "text/html": [
       "<pre style=\"white-space:pre;overflow-x:auto;line-height:normal;font-family:Menlo,'DejaVu Sans Mono',consolas,'Courier New',monospace\"><span style=\"font-weight: bold\"> Total params: </span><span style=\"color: #00af00; text-decoration-color: #00af00\">576,129</span> (2.20 MB)\n",
       "</pre>\n"
      ],
      "text/plain": [
       "\u001b[1m Total params: \u001b[0m\u001b[38;5;34m576,129\u001b[0m (2.20 MB)\n"
      ]
     },
     "metadata": {},
     "output_type": "display_data"
    },
    {
     "data": {
      "text/html": [
       "<pre style=\"white-space:pre;overflow-x:auto;line-height:normal;font-family:Menlo,'DejaVu Sans Mono',consolas,'Courier New',monospace\"><span style=\"font-weight: bold\"> Trainable params: </span><span style=\"color: #00af00; text-decoration-color: #00af00\">576,129</span> (2.20 MB)\n",
       "</pre>\n"
      ],
      "text/plain": [
       "\u001b[1m Trainable params: \u001b[0m\u001b[38;5;34m576,129\u001b[0m (2.20 MB)\n"
      ]
     },
     "metadata": {},
     "output_type": "display_data"
    },
    {
     "data": {
      "text/html": [
       "<pre style=\"white-space:pre;overflow-x:auto;line-height:normal;font-family:Menlo,'DejaVu Sans Mono',consolas,'Courier New',monospace\"><span style=\"font-weight: bold\"> Non-trainable params: </span><span style=\"color: #00af00; text-decoration-color: #00af00\">0</span> (0.00 B)\n",
       "</pre>\n"
      ],
      "text/plain": [
       "\u001b[1m Non-trainable params: \u001b[0m\u001b[38;5;34m0\u001b[0m (0.00 B)\n"
      ]
     },
     "metadata": {},
     "output_type": "display_data"
    },
    {
     "name": "stdout",
     "output_type": "stream",
     "text": [
      "\n",
      "*** Spanish ***\n",
      "\n",
      "Epoch 1/10\n",
      "\u001b[1m163/163\u001b[0m \u001b[32m━━━━━━━━━━━━━━━━━━━━\u001b[0m\u001b[37m\u001b[0m \u001b[1m4s\u001b[0m 14ms/step - accuracy: 0.7760 - loss: 0.5599 - val_accuracy: 0.2460 - val_loss: 1.2786\n",
      "Epoch 2/10\n",
      "\u001b[1m163/163\u001b[0m \u001b[32m━━━━━━━━━━━━━━━━━━━━\u001b[0m\u001b[37m\u001b[0m \u001b[1m1s\u001b[0m 9ms/step - accuracy: 0.8345 - loss: 0.3743 - val_accuracy: 0.2552 - val_loss: 1.3194\n",
      "Epoch 3/10\n",
      "\u001b[1m163/163\u001b[0m \u001b[32m━━━━━━━━━━━━━━━━━━━━\u001b[0m\u001b[37m\u001b[0m \u001b[1m1s\u001b[0m 7ms/step - accuracy: 0.9044 - loss: 0.2377 - val_accuracy: 0.3136 - val_loss: 1.4967\n",
      "Epoch 4/10\n",
      "\u001b[1m163/163\u001b[0m \u001b[32m━━━━━━━━━━━━━━━━━━━━\u001b[0m\u001b[37m\u001b[0m \u001b[1m1s\u001b[0m 7ms/step - accuracy: 0.9472 - loss: 0.1536 - val_accuracy: 0.2975 - val_loss: 1.9393\n",
      "Epoch 5/10\n",
      "\u001b[1m163/163\u001b[0m \u001b[32m━━━━━━━━━━━━━━━━━━━━\u001b[0m\u001b[37m\u001b[0m \u001b[1m1s\u001b[0m 7ms/step - accuracy: 0.9638 - loss: 0.0998 - val_accuracy: 0.3182 - val_loss: 2.1789\n",
      "Epoch 6/10\n",
      "\u001b[1m163/163\u001b[0m \u001b[32m━━━━━━━━━━━━━━━━━━━━\u001b[0m\u001b[37m\u001b[0m \u001b[1m1s\u001b[0m 8ms/step - accuracy: 0.9733 - loss: 0.0765 - val_accuracy: 0.3198 - val_loss: 2.4015\n",
      "Epoch 7/10\n",
      "\u001b[1m163/163\u001b[0m \u001b[32m━━━━━━━━━━━━━━━━━━━━\u001b[0m\u001b[37m\u001b[0m \u001b[1m1s\u001b[0m 8ms/step - accuracy: 0.9770 - loss: 0.0664 - val_accuracy: 0.3144 - val_loss: 3.0511\n",
      "Epoch 8/10\n",
      "\u001b[1m163/163\u001b[0m \u001b[32m━━━━━━━━━━━━━━━━━━━━\u001b[0m\u001b[37m\u001b[0m \u001b[1m1s\u001b[0m 7ms/step - accuracy: 0.9800 - loss: 0.0468 - val_accuracy: 0.3282 - val_loss: 3.0488\n",
      "Epoch 9/10\n",
      "\u001b[1m163/163\u001b[0m \u001b[32m━━━━━━━━━━━━━━━━━━━━\u001b[0m\u001b[37m\u001b[0m \u001b[1m1s\u001b[0m 7ms/step - accuracy: 0.9846 - loss: 0.0453 - val_accuracy: 0.3213 - val_loss: 3.3024\n",
      "Epoch 10/10\n",
      "\u001b[1m163/163\u001b[0m \u001b[32m━━━━━━━━━━━━━━━━━━━━\u001b[0m\u001b[37m\u001b[0m \u001b[1m1s\u001b[0m 7ms/step - accuracy: 0.9857 - loss: 0.0370 - val_accuracy: 0.3190 - val_loss: 3.5679\n",
      "\u001b[1m19/19\u001b[0m \u001b[32m━━━━━━━━━━━━━━━━━━━━\u001b[0m\u001b[37m\u001b[0m \u001b[1m0s\u001b[0m 4ms/step\n",
      "Accuracy: 0.505\n",
      "\n",
      "Classification Report:\n",
      "               precision    recall  f1-score   support\n",
      "\n",
      "           0       0.53      0.09      0.15       300\n",
      "           1       0.50      0.92      0.65       300\n",
      "\n",
      "    accuracy                           0.51       600\n",
      "   macro avg       0.52      0.51      0.40       600\n",
      "weighted avg       0.52      0.51      0.40       600\n",
      "\n",
      "\n",
      "\n",
      "*** Portuguese ***\n",
      "\n",
      "Epoch 1/10\n",
      "\u001b[1m73/73\u001b[0m \u001b[32m━━━━━━━━━━━━━━━━━━━━\u001b[0m\u001b[37m\u001b[0m \u001b[1m1s\u001b[0m 9ms/step - accuracy: 0.7009 - loss: 0.7539 - val_accuracy: 0.2346 - val_loss: 1.1222\n",
      "Epoch 2/10\n",
      "\u001b[1m73/73\u001b[0m \u001b[32m━━━━━━━━━━━━━━━━━━━━\u001b[0m\u001b[37m\u001b[0m \u001b[1m1s\u001b[0m 8ms/step - accuracy: 0.7978 - loss: 0.4165 - val_accuracy: 0.2295 - val_loss: 1.3268\n",
      "Epoch 3/10\n",
      "\u001b[1m73/73\u001b[0m \u001b[32m━━━━━━━━━━━━━━━━━━━━\u001b[0m\u001b[37m\u001b[0m \u001b[1m1s\u001b[0m 8ms/step - accuracy: 0.8182 - loss: 0.3344 - val_accuracy: 0.2380 - val_loss: 1.4900\n",
      "Epoch 4/10\n",
      "\u001b[1m73/73\u001b[0m \u001b[32m━━━━━━━━━━━━━━━━━━━━\u001b[0m\u001b[37m\u001b[0m \u001b[1m1s\u001b[0m 8ms/step - accuracy: 0.8681 - loss: 0.2761 - val_accuracy: 0.2791 - val_loss: 1.4160\n",
      "Epoch 5/10\n",
      "\u001b[1m73/73\u001b[0m \u001b[32m━━━━━━━━━━━━━━━━━━━━\u001b[0m\u001b[37m\u001b[0m \u001b[1m1s\u001b[0m 8ms/step - accuracy: 0.8874 - loss: 0.2512 - val_accuracy: 0.2483 - val_loss: 1.8712\n",
      "Epoch 6/10\n",
      "\u001b[1m73/73\u001b[0m \u001b[32m━━━━━━━━━━━━━━━━━━━━\u001b[0m\u001b[37m\u001b[0m \u001b[1m1s\u001b[0m 8ms/step - accuracy: 0.9085 - loss: 0.2191 - val_accuracy: 0.2654 - val_loss: 2.0748\n",
      "Epoch 7/10\n",
      "\u001b[1m73/73\u001b[0m \u001b[32m━━━━━━━━━━━━━━━━━━━━\u001b[0m\u001b[37m\u001b[0m \u001b[1m1s\u001b[0m 8ms/step - accuracy: 0.9346 - loss: 0.1846 - val_accuracy: 0.2842 - val_loss: 2.1052\n",
      "Epoch 8/10\n",
      "\u001b[1m73/73\u001b[0m \u001b[32m━━━━━━━━━━━━━━━━━━━━\u001b[0m\u001b[37m\u001b[0m \u001b[1m1s\u001b[0m 8ms/step - accuracy: 0.9520 - loss: 0.1513 - val_accuracy: 0.2860 - val_loss: 2.3527\n",
      "Epoch 9/10\n",
      "\u001b[1m73/73\u001b[0m \u001b[32m━━━━━━━━━━━━━━━━━━━━\u001b[0m\u001b[37m\u001b[0m \u001b[1m1s\u001b[0m 8ms/step - accuracy: 0.9527 - loss: 0.1554 - val_accuracy: 0.2757 - val_loss: 2.6925\n",
      "Epoch 10/10\n",
      "\u001b[1m73/73\u001b[0m \u001b[32m━━━━━━━━━━━━━━━━━━━━\u001b[0m\u001b[37m\u001b[0m \u001b[1m1s\u001b[0m 8ms/step - accuracy: 0.9566 - loss: 0.1392 - val_accuracy: 0.2791 - val_loss: 2.7942\n",
      "\u001b[1m19/19\u001b[0m \u001b[32m━━━━━━━━━━━━━━━━━━━━\u001b[0m\u001b[37m\u001b[0m \u001b[1m0s\u001b[0m 2ms/step \n",
      "Accuracy: 0.517\n",
      "\n",
      "Classification Report:\n",
      "               precision    recall  f1-score   support\n",
      "\n",
      "           0       0.62      0.08      0.15       300\n",
      "           1       0.51      0.95      0.66       300\n",
      "\n",
      "    accuracy                           0.52       600\n",
      "   macro avg       0.57      0.52      0.40       600\n",
      "weighted avg       0.57      0.52      0.40       600\n",
      "\n",
      "\n"
     ]
    }
   ],
   "source": [
    "# fnn model\n",
    "fnn_model = Sequential()\n",
    "fnn_model.add(Flatten(input_shape=(max_len, 300)))\n",
    "fnn_model.add(Dense(64, activation='relu'))\n",
    "fnn_model.add(Dropout(0.5))\n",
    "fnn_model.add(Dense(1, activation='sigmoid'))\n",
    "fnn_model.compile(optimizer='adam', loss='binary_crossentropy', metrics=['accuracy'])\n",
    "fnn_model.summary()\n",
    "\n",
    "# classification report\n",
    "fnn_spanish_classification_report_, fnn_spanish_history = fit_evaluate_embeddings(fnn_model, fasttext_model, spanish_improved_labels_df, spanish_put_aside_df, risk_type, max_len, embedding_dim=300, language='Spanish')\n",
    "fnn_portuguese_classification_report_, fnn_portuguese_history = fit_evaluate_embeddings(fnn_model, fasttext_model, portuguese_improved_labels_df, portuguese_put_aside_df, risk_type, max_len, embedding_dim=300, language='Portuguese')"
   ]
  },
  {
   "cell_type": "markdown",
   "id": "51bea223-e2ef-409c-8b11-e8ec0ef6cc99",
   "metadata": {},
   "source": [
    "### Convolutional neural network (CNN)"
   ]
  },
  {
   "cell_type": "markdown",
   "id": "c5c2d8e8-224c-4ec2-8ed6-1a67fc3ac25c",
   "metadata": {},
   "source": [
    "A convolutional neural network is fit and evaluated on FastText vectors."
   ]
  },
  {
   "cell_type": "code",
   "execution_count": 12,
   "id": "a4ca0722-5b1f-4b26-b4b1-36c6d894e739",
   "metadata": {
    "scrolled": true
   },
   "outputs": [
    {
     "name": "stderr",
     "output_type": "stream",
     "text": [
      "C:\\Users\\Jack-\\AppData\\Local\\Programs\\Python\\Python311\\Lib\\site-packages\\keras\\src\\layers\\convolutional\\base_conv.py:99: UserWarning: Do not pass an `input_shape`/`input_dim` argument to a layer. When using Sequential models, prefer using an `Input(shape)` object as the first layer in the model instead.\n",
      "  super().__init__(\n"
     ]
    },
    {
     "data": {
      "text/html": [
       "<pre style=\"white-space:pre;overflow-x:auto;line-height:normal;font-family:Menlo,'DejaVu Sans Mono',consolas,'Courier New',monospace\"><span style=\"font-weight: bold\">Model: \"sequential_1\"</span>\n",
       "</pre>\n"
      ],
      "text/plain": [
       "\u001b[1mModel: \"sequential_1\"\u001b[0m\n"
      ]
     },
     "metadata": {},
     "output_type": "display_data"
    },
    {
     "data": {
      "text/html": [
       "<pre style=\"white-space:pre;overflow-x:auto;line-height:normal;font-family:Menlo,'DejaVu Sans Mono',consolas,'Courier New',monospace\">┏━━━━━━━━━━━━━━━━━━━━━━━━━━━━━━━━━━━━━━┳━━━━━━━━━━━━━━━━━━━━━━━━━━━━━┳━━━━━━━━━━━━━━━━━┓\n",
       "┃<span style=\"font-weight: bold\"> Layer (type)                         </span>┃<span style=\"font-weight: bold\"> Output Shape                </span>┃<span style=\"font-weight: bold\">         Param # </span>┃\n",
       "┡━━━━━━━━━━━━━━━━━━━━━━━━━━━━━━━━━━━━━━╇━━━━━━━━━━━━━━━━━━━━━━━━━━━━━╇━━━━━━━━━━━━━━━━━┩\n",
       "│ conv1d (<span style=\"color: #0087ff; text-decoration-color: #0087ff\">Conv1D</span>)                      │ (<span style=\"color: #00d7ff; text-decoration-color: #00d7ff\">None</span>, <span style=\"color: #00af00; text-decoration-color: #00af00\">26</span>, <span style=\"color: #00af00; text-decoration-color: #00af00\">128</span>)             │         <span style=\"color: #00af00; text-decoration-color: #00af00\">192,128</span> │\n",
       "├──────────────────────────────────────┼─────────────────────────────┼─────────────────┤\n",
       "│ global_max_pooling1d                 │ (<span style=\"color: #00d7ff; text-decoration-color: #00d7ff\">None</span>, <span style=\"color: #00af00; text-decoration-color: #00af00\">128</span>)                 │               <span style=\"color: #00af00; text-decoration-color: #00af00\">0</span> │\n",
       "│ (<span style=\"color: #0087ff; text-decoration-color: #0087ff\">GlobalMaxPooling1D</span>)                 │                             │                 │\n",
       "├──────────────────────────────────────┼─────────────────────────────┼─────────────────┤\n",
       "│ dense_2 (<span style=\"color: #0087ff; text-decoration-color: #0087ff\">Dense</span>)                      │ (<span style=\"color: #00d7ff; text-decoration-color: #00d7ff\">None</span>, <span style=\"color: #00af00; text-decoration-color: #00af00\">64</span>)                  │           <span style=\"color: #00af00; text-decoration-color: #00af00\">8,256</span> │\n",
       "├──────────────────────────────────────┼─────────────────────────────┼─────────────────┤\n",
       "│ dropout_1 (<span style=\"color: #0087ff; text-decoration-color: #0087ff\">Dropout</span>)                  │ (<span style=\"color: #00d7ff; text-decoration-color: #00d7ff\">None</span>, <span style=\"color: #00af00; text-decoration-color: #00af00\">64</span>)                  │               <span style=\"color: #00af00; text-decoration-color: #00af00\">0</span> │\n",
       "├──────────────────────────────────────┼─────────────────────────────┼─────────────────┤\n",
       "│ dense_3 (<span style=\"color: #0087ff; text-decoration-color: #0087ff\">Dense</span>)                      │ (<span style=\"color: #00d7ff; text-decoration-color: #00d7ff\">None</span>, <span style=\"color: #00af00; text-decoration-color: #00af00\">1</span>)                   │              <span style=\"color: #00af00; text-decoration-color: #00af00\">65</span> │\n",
       "└──────────────────────────────────────┴─────────────────────────────┴─────────────────┘\n",
       "</pre>\n"
      ],
      "text/plain": [
       "┏━━━━━━━━━━━━━━━━━━━━━━━━━━━━━━━━━━━━━━┳━━━━━━━━━━━━━━━━━━━━━━━━━━━━━┳━━━━━━━━━━━━━━━━━┓\n",
       "┃\u001b[1m \u001b[0m\u001b[1mLayer (type)                        \u001b[0m\u001b[1m \u001b[0m┃\u001b[1m \u001b[0m\u001b[1mOutput Shape               \u001b[0m\u001b[1m \u001b[0m┃\u001b[1m \u001b[0m\u001b[1m        Param #\u001b[0m\u001b[1m \u001b[0m┃\n",
       "┡━━━━━━━━━━━━━━━━━━━━━━━━━━━━━━━━━━━━━━╇━━━━━━━━━━━━━━━━━━━━━━━━━━━━━╇━━━━━━━━━━━━━━━━━┩\n",
       "│ conv1d (\u001b[38;5;33mConv1D\u001b[0m)                      │ (\u001b[38;5;45mNone\u001b[0m, \u001b[38;5;34m26\u001b[0m, \u001b[38;5;34m128\u001b[0m)             │         \u001b[38;5;34m192,128\u001b[0m │\n",
       "├──────────────────────────────────────┼─────────────────────────────┼─────────────────┤\n",
       "│ global_max_pooling1d                 │ (\u001b[38;5;45mNone\u001b[0m, \u001b[38;5;34m128\u001b[0m)                 │               \u001b[38;5;34m0\u001b[0m │\n",
       "│ (\u001b[38;5;33mGlobalMaxPooling1D\u001b[0m)                 │                             │                 │\n",
       "├──────────────────────────────────────┼─────────────────────────────┼─────────────────┤\n",
       "│ dense_2 (\u001b[38;5;33mDense\u001b[0m)                      │ (\u001b[38;5;45mNone\u001b[0m, \u001b[38;5;34m64\u001b[0m)                  │           \u001b[38;5;34m8,256\u001b[0m │\n",
       "├──────────────────────────────────────┼─────────────────────────────┼─────────────────┤\n",
       "│ dropout_1 (\u001b[38;5;33mDropout\u001b[0m)                  │ (\u001b[38;5;45mNone\u001b[0m, \u001b[38;5;34m64\u001b[0m)                  │               \u001b[38;5;34m0\u001b[0m │\n",
       "├──────────────────────────────────────┼─────────────────────────────┼─────────────────┤\n",
       "│ dense_3 (\u001b[38;5;33mDense\u001b[0m)                      │ (\u001b[38;5;45mNone\u001b[0m, \u001b[38;5;34m1\u001b[0m)                   │              \u001b[38;5;34m65\u001b[0m │\n",
       "└──────────────────────────────────────┴─────────────────────────────┴─────────────────┘\n"
      ]
     },
     "metadata": {},
     "output_type": "display_data"
    },
    {
     "data": {
      "text/html": [
       "<pre style=\"white-space:pre;overflow-x:auto;line-height:normal;font-family:Menlo,'DejaVu Sans Mono',consolas,'Courier New',monospace\"><span style=\"font-weight: bold\"> Total params: </span><span style=\"color: #00af00; text-decoration-color: #00af00\">200,449</span> (783.00 KB)\n",
       "</pre>\n"
      ],
      "text/plain": [
       "\u001b[1m Total params: \u001b[0m\u001b[38;5;34m200,449\u001b[0m (783.00 KB)\n"
      ]
     },
     "metadata": {},
     "output_type": "display_data"
    },
    {
     "data": {
      "text/html": [
       "<pre style=\"white-space:pre;overflow-x:auto;line-height:normal;font-family:Menlo,'DejaVu Sans Mono',consolas,'Courier New',monospace\"><span style=\"font-weight: bold\"> Trainable params: </span><span style=\"color: #00af00; text-decoration-color: #00af00\">200,449</span> (783.00 KB)\n",
       "</pre>\n"
      ],
      "text/plain": [
       "\u001b[1m Trainable params: \u001b[0m\u001b[38;5;34m200,449\u001b[0m (783.00 KB)\n"
      ]
     },
     "metadata": {},
     "output_type": "display_data"
    },
    {
     "data": {
      "text/html": [
       "<pre style=\"white-space:pre;overflow-x:auto;line-height:normal;font-family:Menlo,'DejaVu Sans Mono',consolas,'Courier New',monospace\"><span style=\"font-weight: bold\"> Non-trainable params: </span><span style=\"color: #00af00; text-decoration-color: #00af00\">0</span> (0.00 B)\n",
       "</pre>\n"
      ],
      "text/plain": [
       "\u001b[1m Non-trainable params: \u001b[0m\u001b[38;5;34m0\u001b[0m (0.00 B)\n"
      ]
     },
     "metadata": {},
     "output_type": "display_data"
    },
    {
     "name": "stdout",
     "output_type": "stream",
     "text": [
      "\n",
      "*** Spanish ***\n",
      "\n",
      "Epoch 1/10\n",
      "\u001b[1m163/163\u001b[0m \u001b[32m━━━━━━━━━━━━━━━━━━━━\u001b[0m\u001b[37m\u001b[0m \u001b[1m3s\u001b[0m 9ms/step - accuracy: 0.7765 - loss: 0.5581 - val_accuracy: 0.1776 - val_loss: 1.2153\n",
      "Epoch 2/10\n",
      "\u001b[1m163/163\u001b[0m \u001b[32m━━━━━━━━━━━━━━━━━━━━\u001b[0m\u001b[37m\u001b[0m \u001b[1m1s\u001b[0m 8ms/step - accuracy: 0.8134 - loss: 0.4274 - val_accuracy: 0.2183 - val_loss: 1.6336\n",
      "Epoch 3/10\n",
      "\u001b[1m163/163\u001b[0m \u001b[32m━━━━━━━━━━━━━━━━━━━━\u001b[0m\u001b[37m\u001b[0m \u001b[1m1s\u001b[0m 8ms/step - accuracy: 0.9250 - loss: 0.2157 - val_accuracy: 0.2260 - val_loss: 2.5096\n",
      "Epoch 4/10\n",
      "\u001b[1m163/163\u001b[0m \u001b[32m━━━━━━━━━━━━━━━━━━━━\u001b[0m\u001b[37m\u001b[0m \u001b[1m1s\u001b[0m 9ms/step - accuracy: 0.9847 - loss: 0.0636 - val_accuracy: 0.2567 - val_loss: 2.6096\n",
      "Epoch 5/10\n",
      "\u001b[1m163/163\u001b[0m \u001b[32m━━━━━━━━━━━━━━━━━━━━\u001b[0m\u001b[37m\u001b[0m \u001b[1m1s\u001b[0m 8ms/step - accuracy: 0.9978 - loss: 0.0197 - val_accuracy: 0.2752 - val_loss: 3.0291\n",
      "Epoch 6/10\n",
      "\u001b[1m163/163\u001b[0m \u001b[32m━━━━━━━━━━━━━━━━━━━━\u001b[0m\u001b[37m\u001b[0m \u001b[1m1s\u001b[0m 8ms/step - accuracy: 0.9989 - loss: 0.0087 - val_accuracy: 0.2598 - val_loss: 3.6683\n",
      "Epoch 7/10\n",
      "\u001b[1m163/163\u001b[0m \u001b[32m━━━━━━━━━━━━━━━━━━━━\u001b[0m\u001b[37m\u001b[0m \u001b[1m1s\u001b[0m 8ms/step - accuracy: 0.9998 - loss: 0.0066 - val_accuracy: 0.2452 - val_loss: 4.6099\n",
      "Epoch 8/10\n",
      "\u001b[1m163/163\u001b[0m \u001b[32m━━━━━━━━━━━━━━━━━━━━\u001b[0m\u001b[37m\u001b[0m \u001b[1m1s\u001b[0m 8ms/step - accuracy: 0.9993 - loss: 0.0052 - val_accuracy: 0.2782 - val_loss: 4.2152\n",
      "Epoch 9/10\n",
      "\u001b[1m163/163\u001b[0m \u001b[32m━━━━━━━━━━━━━━━━━━━━\u001b[0m\u001b[37m\u001b[0m \u001b[1m1s\u001b[0m 8ms/step - accuracy: 1.0000 - loss: 0.0028 - val_accuracy: 0.2375 - val_loss: 5.3626\n",
      "Epoch 10/10\n",
      "\u001b[1m163/163\u001b[0m \u001b[32m━━━━━━━━━━━━━━━━━━━━\u001b[0m\u001b[37m\u001b[0m \u001b[1m1s\u001b[0m 8ms/step - accuracy: 0.9995 - loss: 0.0031 - val_accuracy: 0.2967 - val_loss: 4.0009\n",
      "\u001b[1m19/19\u001b[0m \u001b[32m━━━━━━━━━━━━━━━━━━━━\u001b[0m\u001b[37m\u001b[0m \u001b[1m0s\u001b[0m 6ms/step\n",
      "Accuracy: 0.5\n",
      "\n",
      "Classification Report:\n",
      "               precision    recall  f1-score   support\n",
      "\n",
      "           0       0.50      0.10      0.17       300\n",
      "           1       0.50      0.90      0.64       300\n",
      "\n",
      "    accuracy                           0.50       600\n",
      "   macro avg       0.50      0.50      0.40       600\n",
      "weighted avg       0.50      0.50      0.40       600\n",
      "\n",
      "\n",
      "\n",
      "*** Portuguese ***\n",
      "\n",
      "Epoch 1/10\n",
      "\u001b[1m73/73\u001b[0m \u001b[32m━━━━━━━━━━━━━━━━━━━━\u001b[0m\u001b[37m\u001b[0m \u001b[1m1s\u001b[0m 9ms/step - accuracy: 0.7442 - loss: 0.8319 - val_accuracy: 0.1524 - val_loss: 1.2623\n",
      "Epoch 2/10\n",
      "\u001b[1m73/73\u001b[0m \u001b[32m━━━━━━━━━━━━━━━━━━━━\u001b[0m\u001b[37m\u001b[0m \u001b[1m1s\u001b[0m 10ms/step - accuracy: 0.8156 - loss: 0.4506 - val_accuracy: 0.1541 - val_loss: 1.7750\n",
      "Epoch 3/10\n",
      "\u001b[1m73/73\u001b[0m \u001b[32m━━━━━━━━━━━━━━━━━━━━\u001b[0m\u001b[37m\u001b[0m \u001b[1m1s\u001b[0m 9ms/step - accuracy: 0.9018 - loss: 0.2532 - val_accuracy: 0.1918 - val_loss: 2.1922\n",
      "Epoch 4/10\n",
      "\u001b[1m73/73\u001b[0m \u001b[32m━━━━━━━━━━━━━━━━━━━━\u001b[0m\u001b[37m\u001b[0m \u001b[1m1s\u001b[0m 9ms/step - accuracy: 0.9730 - loss: 0.0771 - val_accuracy: 0.2140 - val_loss: 2.5666\n",
      "Epoch 5/10\n",
      "\u001b[1m73/73\u001b[0m \u001b[32m━━━━━━━━━━━━━━━━━━━━\u001b[0m\u001b[37m\u001b[0m \u001b[1m1s\u001b[0m 9ms/step - accuracy: 0.9965 - loss: 0.0300 - val_accuracy: 0.1678 - val_loss: 4.3018\n",
      "Epoch 6/10\n",
      "\u001b[1m73/73\u001b[0m \u001b[32m━━━━━━━━━━━━━━━━━━━━\u001b[0m\u001b[37m\u001b[0m \u001b[1m1s\u001b[0m 10ms/step - accuracy: 0.9903 - loss: 0.0281 - val_accuracy: 0.2209 - val_loss: 3.7132\n",
      "Epoch 7/10\n",
      "\u001b[1m73/73\u001b[0m \u001b[32m━━━━━━━━━━━━━━━━━━━━\u001b[0m\u001b[37m\u001b[0m \u001b[1m1s\u001b[0m 9ms/step - accuracy: 0.9981 - loss: 0.0114 - val_accuracy: 0.1781 - val_loss: 4.7219\n",
      "Epoch 8/10\n",
      "\u001b[1m73/73\u001b[0m \u001b[32m━━━━━━━━━━━━━━━━━━━━\u001b[0m\u001b[37m\u001b[0m \u001b[1m1s\u001b[0m 9ms/step - accuracy: 0.9961 - loss: 0.0112 - val_accuracy: 0.1901 - val_loss: 4.5589\n",
      "Epoch 9/10\n",
      "\u001b[1m73/73\u001b[0m \u001b[32m━━━━━━━━━━━━━━━━━━━━\u001b[0m\u001b[37m\u001b[0m \u001b[1m1s\u001b[0m 9ms/step - accuracy: 0.9960 - loss: 0.0132 - val_accuracy: 0.1935 - val_loss: 4.7865\n",
      "Epoch 10/10\n",
      "\u001b[1m73/73\u001b[0m \u001b[32m━━━━━━━━━━━━━━━━━━━━\u001b[0m\u001b[37m\u001b[0m \u001b[1m1s\u001b[0m 8ms/step - accuracy: 0.9984 - loss: 0.0093 - val_accuracy: 0.1798 - val_loss: 5.5758\n",
      "\u001b[1m19/19\u001b[0m \u001b[32m━━━━━━━━━━━━━━━━━━━━\u001b[0m\u001b[37m\u001b[0m \u001b[1m0s\u001b[0m 3ms/step\n",
      "Accuracy: 0.492\n",
      "\n",
      "Classification Report:\n",
      "               precision    recall  f1-score   support\n",
      "\n",
      "           0       0.38      0.03      0.05       300\n",
      "           1       0.50      0.96      0.65       300\n",
      "\n",
      "    accuracy                           0.49       600\n",
      "   macro avg       0.44      0.49      0.35       600\n",
      "weighted avg       0.44      0.49      0.35       600\n",
      "\n",
      "\n"
     ]
    }
   ],
   "source": [
    "from tensorflow.keras.layers import Conv1D\n",
    "from tensorflow.keras.layers import GlobalMaxPooling1D\n",
    "\n",
    "# cnn model\n",
    "cnn_model = Sequential()\n",
    "cnn_model.add(Conv1D(128, kernel_size=5, activation='relu', input_shape=(max_len, 300)))\n",
    "cnn_model.add(GlobalMaxPooling1D())\n",
    "cnn_model.add(Dense(64, activation='relu'))\n",
    "cnn_model.add(Dropout(0.5))\n",
    "cnn_model.add(Dense(1, activation='sigmoid'))\n",
    "cnn_model.compile(optimizer='adam', loss='binary_crossentropy', metrics=['accuracy'])\n",
    "cnn_model.summary()\n",
    "\n",
    "# classification report\n",
    "cnn_spanish_classification_report_, cnn_spanish_history = fit_evaluate_embeddings(cnn_model, fasttext_model, spanish_improved_labels_df, spanish_put_aside_df, risk_type, max_len, embedding_dim=300, language='Spanish')\n",
    "cnn_portuguese_classification_report_, cnn_portuguese_history = fit_evaluate_embeddings(cnn_model, fasttext_model, portuguese_improved_labels_df, portuguese_put_aside_df, risk_type, max_len, embedding_dim=300, language='Portuguese')"
   ]
  },
  {
   "cell_type": "markdown",
   "id": "4dfb8e56-9d88-4c09-8368-e34d548cadda",
   "metadata": {},
   "source": [
    "### Long short-term memory (LSTM) "
   ]
  },
  {
   "cell_type": "markdown",
   "id": "90457b07-b839-4b9f-9e44-17ddcc0ec47a",
   "metadata": {},
   "source": [
    "A long short-term memory (LSTM) recurrent neural network is fit and evaluated on FastText vectors."
   ]
  },
  {
   "cell_type": "code",
   "execution_count": 13,
   "id": "d0c10a1a-c68e-4e03-bf27-62966d4ae4f1",
   "metadata": {
    "scrolled": true
   },
   "outputs": [
    {
     "name": "stderr",
     "output_type": "stream",
     "text": [
      "C:\\Users\\Jack-\\AppData\\Local\\Programs\\Python\\Python311\\Lib\\site-packages\\keras\\src\\layers\\rnn\\rnn.py:204: UserWarning: Do not pass an `input_shape`/`input_dim` argument to a layer. When using Sequential models, prefer using an `Input(shape)` object as the first layer in the model instead.\n",
      "  super().__init__(**kwargs)\n"
     ]
    },
    {
     "data": {
      "text/html": [
       "<pre style=\"white-space:pre;overflow-x:auto;line-height:normal;font-family:Menlo,'DejaVu Sans Mono',consolas,'Courier New',monospace\"><span style=\"font-weight: bold\">Model: \"sequential_2\"</span>\n",
       "</pre>\n"
      ],
      "text/plain": [
       "\u001b[1mModel: \"sequential_2\"\u001b[0m\n"
      ]
     },
     "metadata": {},
     "output_type": "display_data"
    },
    {
     "data": {
      "text/html": [
       "<pre style=\"white-space:pre;overflow-x:auto;line-height:normal;font-family:Menlo,'DejaVu Sans Mono',consolas,'Courier New',monospace\">┏━━━━━━━━━━━━━━━━━━━━━━━━━━━━━━━━━━━━━━┳━━━━━━━━━━━━━━━━━━━━━━━━━━━━━┳━━━━━━━━━━━━━━━━━┓\n",
       "┃<span style=\"font-weight: bold\"> Layer (type)                         </span>┃<span style=\"font-weight: bold\"> Output Shape                </span>┃<span style=\"font-weight: bold\">         Param # </span>┃\n",
       "┡━━━━━━━━━━━━━━━━━━━━━━━━━━━━━━━━━━━━━━╇━━━━━━━━━━━━━━━━━━━━━━━━━━━━━╇━━━━━━━━━━━━━━━━━┩\n",
       "│ lstm (<span style=\"color: #0087ff; text-decoration-color: #0087ff\">LSTM</span>)                          │ (<span style=\"color: #00d7ff; text-decoration-color: #00d7ff\">None</span>, <span style=\"color: #00af00; text-decoration-color: #00af00\">30</span>, <span style=\"color: #00af00; text-decoration-color: #00af00\">128</span>)             │         <span style=\"color: #00af00; text-decoration-color: #00af00\">219,648</span> │\n",
       "├──────────────────────────────────────┼─────────────────────────────┼─────────────────┤\n",
       "│ dropout_2 (<span style=\"color: #0087ff; text-decoration-color: #0087ff\">Dropout</span>)                  │ (<span style=\"color: #00d7ff; text-decoration-color: #00d7ff\">None</span>, <span style=\"color: #00af00; text-decoration-color: #00af00\">30</span>, <span style=\"color: #00af00; text-decoration-color: #00af00\">128</span>)             │               <span style=\"color: #00af00; text-decoration-color: #00af00\">0</span> │\n",
       "├──────────────────────────────────────┼─────────────────────────────┼─────────────────┤\n",
       "│ lstm_1 (<span style=\"color: #0087ff; text-decoration-color: #0087ff\">LSTM</span>)                        │ (<span style=\"color: #00d7ff; text-decoration-color: #00d7ff\">None</span>, <span style=\"color: #00af00; text-decoration-color: #00af00\">64</span>)                  │          <span style=\"color: #00af00; text-decoration-color: #00af00\">49,408</span> │\n",
       "├──────────────────────────────────────┼─────────────────────────────┼─────────────────┤\n",
       "│ dense_4 (<span style=\"color: #0087ff; text-decoration-color: #0087ff\">Dense</span>)                      │ (<span style=\"color: #00d7ff; text-decoration-color: #00d7ff\">None</span>, <span style=\"color: #00af00; text-decoration-color: #00af00\">1</span>)                   │              <span style=\"color: #00af00; text-decoration-color: #00af00\">65</span> │\n",
       "└──────────────────────────────────────┴─────────────────────────────┴─────────────────┘\n",
       "</pre>\n"
      ],
      "text/plain": [
       "┏━━━━━━━━━━━━━━━━━━━━━━━━━━━━━━━━━━━━━━┳━━━━━━━━━━━━━━━━━━━━━━━━━━━━━┳━━━━━━━━━━━━━━━━━┓\n",
       "┃\u001b[1m \u001b[0m\u001b[1mLayer (type)                        \u001b[0m\u001b[1m \u001b[0m┃\u001b[1m \u001b[0m\u001b[1mOutput Shape               \u001b[0m\u001b[1m \u001b[0m┃\u001b[1m \u001b[0m\u001b[1m        Param #\u001b[0m\u001b[1m \u001b[0m┃\n",
       "┡━━━━━━━━━━━━━━━━━━━━━━━━━━━━━━━━━━━━━━╇━━━━━━━━━━━━━━━━━━━━━━━━━━━━━╇━━━━━━━━━━━━━━━━━┩\n",
       "│ lstm (\u001b[38;5;33mLSTM\u001b[0m)                          │ (\u001b[38;5;45mNone\u001b[0m, \u001b[38;5;34m30\u001b[0m, \u001b[38;5;34m128\u001b[0m)             │         \u001b[38;5;34m219,648\u001b[0m │\n",
       "├──────────────────────────────────────┼─────────────────────────────┼─────────────────┤\n",
       "│ dropout_2 (\u001b[38;5;33mDropout\u001b[0m)                  │ (\u001b[38;5;45mNone\u001b[0m, \u001b[38;5;34m30\u001b[0m, \u001b[38;5;34m128\u001b[0m)             │               \u001b[38;5;34m0\u001b[0m │\n",
       "├──────────────────────────────────────┼─────────────────────────────┼─────────────────┤\n",
       "│ lstm_1 (\u001b[38;5;33mLSTM\u001b[0m)                        │ (\u001b[38;5;45mNone\u001b[0m, \u001b[38;5;34m64\u001b[0m)                  │          \u001b[38;5;34m49,408\u001b[0m │\n",
       "├──────────────────────────────────────┼─────────────────────────────┼─────────────────┤\n",
       "│ dense_4 (\u001b[38;5;33mDense\u001b[0m)                      │ (\u001b[38;5;45mNone\u001b[0m, \u001b[38;5;34m1\u001b[0m)                   │              \u001b[38;5;34m65\u001b[0m │\n",
       "└──────────────────────────────────────┴─────────────────────────────┴─────────────────┘\n"
      ]
     },
     "metadata": {},
     "output_type": "display_data"
    },
    {
     "data": {
      "text/html": [
       "<pre style=\"white-space:pre;overflow-x:auto;line-height:normal;font-family:Menlo,'DejaVu Sans Mono',consolas,'Courier New',monospace\"><span style=\"font-weight: bold\"> Total params: </span><span style=\"color: #00af00; text-decoration-color: #00af00\">269,121</span> (1.03 MB)\n",
       "</pre>\n"
      ],
      "text/plain": [
       "\u001b[1m Total params: \u001b[0m\u001b[38;5;34m269,121\u001b[0m (1.03 MB)\n"
      ]
     },
     "metadata": {},
     "output_type": "display_data"
    },
    {
     "data": {
      "text/html": [
       "<pre style=\"white-space:pre;overflow-x:auto;line-height:normal;font-family:Menlo,'DejaVu Sans Mono',consolas,'Courier New',monospace\"><span style=\"font-weight: bold\"> Trainable params: </span><span style=\"color: #00af00; text-decoration-color: #00af00\">269,121</span> (1.03 MB)\n",
       "</pre>\n"
      ],
      "text/plain": [
       "\u001b[1m Trainable params: \u001b[0m\u001b[38;5;34m269,121\u001b[0m (1.03 MB)\n"
      ]
     },
     "metadata": {},
     "output_type": "display_data"
    },
    {
     "data": {
      "text/html": [
       "<pre style=\"white-space:pre;overflow-x:auto;line-height:normal;font-family:Menlo,'DejaVu Sans Mono',consolas,'Courier New',monospace\"><span style=\"font-weight: bold\"> Non-trainable params: </span><span style=\"color: #00af00; text-decoration-color: #00af00\">0</span> (0.00 B)\n",
       "</pre>\n"
      ],
      "text/plain": [
       "\u001b[1m Non-trainable params: \u001b[0m\u001b[38;5;34m0\u001b[0m (0.00 B)\n"
      ]
     },
     "metadata": {},
     "output_type": "display_data"
    },
    {
     "name": "stdout",
     "output_type": "stream",
     "text": [
      "\n",
      "*** Spanish ***\n",
      "\n",
      "Epoch 1/10\n",
      "\u001b[1m163/163\u001b[0m \u001b[32m━━━━━━━━━━━━━━━━━━━━\u001b[0m\u001b[37m\u001b[0m \u001b[1m8s\u001b[0m 32ms/step - accuracy: 0.7679 - loss: 0.5311 - val_accuracy: 0.2629 - val_loss: 1.2388\n",
      "Epoch 2/10\n",
      "\u001b[1m163/163\u001b[0m \u001b[32m━━━━━━━━━━━━━━━━━━━━\u001b[0m\u001b[37m\u001b[0m \u001b[1m4s\u001b[0m 27ms/step - accuracy: 0.7972 - loss: 0.4762 - val_accuracy: 0.3259 - val_loss: 1.2016\n",
      "Epoch 3/10\n",
      "\u001b[1m163/163\u001b[0m \u001b[32m━━━━━━━━━━━━━━━━━━━━\u001b[0m\u001b[37m\u001b[0m \u001b[1m5s\u001b[0m 31ms/step - accuracy: 0.8384 - loss: 0.3939 - val_accuracy: 0.3513 - val_loss: 1.0815\n",
      "Epoch 4/10\n",
      "\u001b[1m163/163\u001b[0m \u001b[32m━━━━━━━━━━━━━━━━━━━━\u001b[0m\u001b[37m\u001b[0m \u001b[1m7s\u001b[0m 40ms/step - accuracy: 0.9015 - loss: 0.2619 - val_accuracy: 0.3505 - val_loss: 1.7873\n",
      "Epoch 5/10\n",
      "\u001b[1m163/163\u001b[0m \u001b[32m━━━━━━━━━━━━━━━━━━━━\u001b[0m\u001b[37m\u001b[0m \u001b[1m5s\u001b[0m 33ms/step - accuracy: 0.9767 - loss: 0.0765 - val_accuracy: 0.3728 - val_loss: 2.3094\n",
      "Epoch 6/10\n",
      "\u001b[1m163/163\u001b[0m \u001b[32m━━━━━━━━━━━━━━━━━━━━\u001b[0m\u001b[37m\u001b[0m \u001b[1m5s\u001b[0m 32ms/step - accuracy: 0.9901 - loss: 0.0340 - val_accuracy: 0.3536 - val_loss: 3.7299\n",
      "Epoch 7/10\n",
      "\u001b[1m163/163\u001b[0m \u001b[32m━━━━━━━━━━━━━━━━━━━━\u001b[0m\u001b[37m\u001b[0m \u001b[1m5s\u001b[0m 32ms/step - accuracy: 0.9882 - loss: 0.0352 - val_accuracy: 0.3213 - val_loss: 4.3834\n",
      "Epoch 8/10\n",
      "\u001b[1m163/163\u001b[0m \u001b[32m━━━━━━━━━━━━━━━━━━━━\u001b[0m\u001b[37m\u001b[0m \u001b[1m5s\u001b[0m 33ms/step - accuracy: 0.9958 - loss: 0.0169 - val_accuracy: 0.3205 - val_loss: 4.3151\n",
      "Epoch 9/10\n",
      "\u001b[1m163/163\u001b[0m \u001b[32m━━━━━━━━━━━━━━━━━━━━\u001b[0m\u001b[37m\u001b[0m \u001b[1m7s\u001b[0m 41ms/step - accuracy: 0.9899 - loss: 0.0405 - val_accuracy: 0.3490 - val_loss: 4.3489\n",
      "Epoch 10/10\n",
      "\u001b[1m163/163\u001b[0m \u001b[32m━━━━━━━━━━━━━━━━━━━━\u001b[0m\u001b[37m\u001b[0m \u001b[1m5s\u001b[0m 30ms/step - accuracy: 1.0000 - loss: 0.0015 - val_accuracy: 0.4151 - val_loss: 3.7489\n",
      "\u001b[1m19/19\u001b[0m \u001b[32m━━━━━━━━━━━━━━━━━━━━\u001b[0m\u001b[37m\u001b[0m \u001b[1m1s\u001b[0m 36ms/step\n",
      "Accuracy: 0.532\n",
      "\n",
      "Classification Report:\n",
      "               precision    recall  f1-score   support\n",
      "\n",
      "           0       0.57      0.25      0.35       300\n",
      "           1       0.52      0.81      0.63       300\n",
      "\n",
      "    accuracy                           0.53       600\n",
      "   macro avg       0.55      0.53      0.49       600\n",
      "weighted avg       0.55      0.53      0.49       600\n",
      "\n",
      "\n",
      "\n",
      "*** Portuguese ***\n",
      "\n",
      "Epoch 1/10\n",
      "\u001b[1m73/73\u001b[0m \u001b[32m━━━━━━━━━━━━━━━━━━━━\u001b[0m\u001b[37m\u001b[0m \u001b[1m4s\u001b[0m 48ms/step - accuracy: 0.7361 - loss: 0.8447 - val_accuracy: 0.1490 - val_loss: 1.4782\n",
      "Epoch 2/10\n",
      "\u001b[1m73/73\u001b[0m \u001b[32m━━━━━━━━━━━━━━━━━━━━\u001b[0m\u001b[37m\u001b[0m \u001b[1m3s\u001b[0m 47ms/step - accuracy: 0.8001 - loss: 0.4802 - val_accuracy: 0.1507 - val_loss: 1.4515\n",
      "Epoch 3/10\n",
      "\u001b[1m73/73\u001b[0m \u001b[32m━━━━━━━━━━━━━━━━━━━━\u001b[0m\u001b[37m\u001b[0m \u001b[1m3s\u001b[0m 43ms/step - accuracy: 0.8132 - loss: 0.4455 - val_accuracy: 0.1832 - val_loss: 1.6131\n",
      "Epoch 4/10\n",
      "\u001b[1m73/73\u001b[0m \u001b[32m━━━━━━━━━━━━━━━━━━━━\u001b[0m\u001b[37m\u001b[0m \u001b[1m3s\u001b[0m 38ms/step - accuracy: 0.8526 - loss: 0.3385 - val_accuracy: 0.2295 - val_loss: 1.8827\n",
      "Epoch 5/10\n",
      "\u001b[1m73/73\u001b[0m \u001b[32m━━━━━━━━━━━━━━━━━━━━\u001b[0m\u001b[37m\u001b[0m \u001b[1m3s\u001b[0m 42ms/step - accuracy: 0.9570 - loss: 0.1362 - val_accuracy: 0.3065 - val_loss: 2.5758\n",
      "Epoch 6/10\n",
      "\u001b[1m73/73\u001b[0m \u001b[32m━━━━━━━━━━━━━━━━━━━━\u001b[0m\u001b[37m\u001b[0m \u001b[1m3s\u001b[0m 40ms/step - accuracy: 0.9937 - loss: 0.0377 - val_accuracy: 0.2466 - val_loss: 3.8987\n",
      "Epoch 7/10\n",
      "\u001b[1m73/73\u001b[0m \u001b[32m━━━━━━━━━━━━━━━━━━━━\u001b[0m\u001b[37m\u001b[0m \u001b[1m3s\u001b[0m 35ms/step - accuracy: 0.9973 - loss: 0.0163 - val_accuracy: 0.3031 - val_loss: 3.9020\n",
      "Epoch 8/10\n",
      "\u001b[1m73/73\u001b[0m \u001b[32m━━━━━━━━━━━━━━━━━━━━\u001b[0m\u001b[37m\u001b[0m \u001b[1m3s\u001b[0m 43ms/step - accuracy: 0.9990 - loss: 0.0063 - val_accuracy: 0.2774 - val_loss: 4.6755\n",
      "Epoch 9/10\n",
      "\u001b[1m73/73\u001b[0m \u001b[32m━━━━━━━━━━━━━━━━━━━━\u001b[0m\u001b[37m\u001b[0m \u001b[1m3s\u001b[0m 38ms/step - accuracy: 0.9992 - loss: 0.0028 - val_accuracy: 0.2534 - val_loss: 4.8369\n",
      "Epoch 10/10\n",
      "\u001b[1m73/73\u001b[0m \u001b[32m━━━━━━━━━━━━━━━━━━━━\u001b[0m\u001b[37m\u001b[0m \u001b[1m2s\u001b[0m 32ms/step - accuracy: 0.9997 - loss: 0.0018 - val_accuracy: 0.2586 - val_loss: 5.3203\n",
      "\u001b[1m19/19\u001b[0m \u001b[32m━━━━━━━━━━━━━━━━━━━━\u001b[0m\u001b[37m\u001b[0m \u001b[1m0s\u001b[0m 9ms/step\n",
      "Accuracy: 0.495\n",
      "\n",
      "Classification Report:\n",
      "               precision    recall  f1-score   support\n",
      "\n",
      "           0       0.48      0.13      0.21       300\n",
      "           1       0.50      0.86      0.63       300\n",
      "\n",
      "    accuracy                           0.49       600\n",
      "   macro avg       0.49      0.49      0.42       600\n",
      "weighted avg       0.49      0.49      0.42       600\n",
      "\n",
      "\n"
     ]
    }
   ],
   "source": [
    "from tensorflow.keras.layers import LSTM\n",
    "\n",
    "# lstm model\n",
    "lstm_model = Sequential()\n",
    "lstm_model.add(LSTM(128, input_shape=(max_len, 300), return_sequences=True))\n",
    "lstm_model.add(Dropout(0.5))\n",
    "lstm_model.add(LSTM(64))\n",
    "lstm_model.add(Dense(1, activation='sigmoid'))\n",
    "lstm_model.compile(optimizer='adam', loss='binary_crossentropy', metrics=['accuracy'])\n",
    "lstm_model.summary()\n",
    "\n",
    "# classification report\n",
    "lstm_spanish_classification_report_, lstm_spanish_history = fit_evaluate_embeddings(lstm_model, fasttext_model, spanish_improved_labels_df, spanish_put_aside_df, risk_type, max_len, embedding_dim=300, language='Spanish')\n",
    "lstm_portuguese_classification_report_, lstm_portuguese_history = fit_evaluate_embeddings(lstm_model, fasttext_model, portuguese_improved_labels_df, portuguese_put_aside_df, risk_type, max_len, embedding_dim=300, language='Portuguese')"
   ]
  },
  {
   "cell_type": "markdown",
   "id": "64027c76-67b8-4a72-a8b7-7162e079af4d",
   "metadata": {},
   "source": [
    "## Visualize results"
   ]
  },
  {
   "cell_type": "markdown",
   "id": "385aacdc-a43d-4269-bf72-318c149c650e",
   "metadata": {},
   "source": [
    "The results seem to show slightly better performance for the XGBoost model trained on TF-IDF vectors."
   ]
  },
  {
   "cell_type": "markdown",
   "id": "9cef74e2-9bcd-4088-b49d-531b5aee5e89",
   "metadata": {},
   "source": [
    "### Accuracy"
   ]
  },
  {
   "cell_type": "code",
   "execution_count": 14,
   "id": "4d9cea7f-32b2-48bd-8b32-d33771bf88cf",
   "metadata": {},
   "outputs": [
    {
     "data": {
      "image/png": "[encoded data removed]",
      "text/plain": [
       "<Figure size 1400x600 with 1 Axes>"
      ]
     },
     "metadata": {},
     "output_type": "display_data"
    }
   ],
   "source": [
    "import matplotlib.pyplot as plt\n",
    "\n",
    "# Define the classification report variables\n",
    "classification_reports = {\n",
    "    'Logistic Regression (es)': logistic_regression_spanish_classification_report_,\n",
    "    'Logistic Regression (pt)': logistic_regression_portuguese_classification_report_,\n",
    "    'Random Forest (es)': random_forest_spanish_classification_report_,\n",
    "    'Random Forest (pt)': random_forest_portuguese_classification_report_,\n",
    "    'XGBoost (es)': xgboost_spanish_classification_report_,\n",
    "    'XGBoost (pt)': xgboost_forest_portuguese_classification_report_,\n",
    "    'SVC (es)': svc_spanish_classification_report_,\n",
    "    'SVC (pt)': svc_forest_portuguese_classification_report_,\n",
    "    'FNN (es)': fnn_spanish_classification_report_,\n",
    "    'FNN (pt)': fnn_portuguese_classification_report_,\n",
    "    'CNN (es)': cnn_spanish_classification_report_,\n",
    "    'CNN (pt)': cnn_portuguese_classification_report_,\n",
    "    'LSTM (es)': lstm_spanish_classification_report_,\n",
    "    'LSTM (pt)': lstm_portuguese_classification_report_\n",
    "}\n",
    "\n",
    "# Models list for consistency in plotting\n",
    "models = ['Logistic Regression', 'Random Forest', 'XGBoost', 'SVC', 'FNN', 'CNN', 'LSTM']\n",
    "\n",
    "# Function to add value labels in the middle of bars\n",
    "def add_value_labels(ax, bars):\n",
    "    for bar in bars:\n",
    "        yval = bar.get_height()\n",
    "        ax.text(bar.get_x() + bar.get_width() / 2, yval + 0.03, round(yval, 2), ha='center', va='center', color='black')\n",
    "\n",
    "# Create a single plot for both Spanish and Portuguese models\n",
    "fig, ax = plt.subplots(figsize=(14, 6))\n",
    "\n",
    "# Gap between bars\n",
    "gap = 0.03\n",
    "\n",
    "# Adjusted bar width for two bars (precision and recall)\n",
    "bar_width = 0.375\n",
    "\n",
    "# Plot accuracy for Spanish and Portuguese models, grouped by model\n",
    "spanish_accuracies = [classification_reports[f'{model} (es)']['accuracy'] for model in models]\n",
    "portuguese_accuracies = [classification_reports[f'{model} (pt)']['accuracy'] for model in models]\n",
    "\n",
    "# Positions of the bars on the x-axis, with a small gap\n",
    "r1 = [x - (bar_width/2 + gap/2) for x in range(len(models))]\n",
    "r2 = [x + (bar_width/2 + gap/2) for x in range(len(models))]\n",
    "\n",
    "# Creating the bars for Spanish and Portuguese\n",
    "bars1 = ax.bar(r1, spanish_accuracies, width=bar_width, color='tab:red', label='Spanish')\n",
    "bars2 = ax.bar(r2, portuguese_accuracies, width=bar_width, color='tab:orange', label='Portuguese')\n",
    "\n",
    "# Set plot title and labels\n",
    "ax.set_title('Accuracy', size=18)\n",
    "ax.set_ylim(0, 1.1)\n",
    "ax.set_ylabel('Accuracy')\n",
    "ax.set_xticks(range(len(models)))\n",
    "ax.set_xticklabels(models, rotation=45)\n",
    "add_value_labels(ax, bars1)\n",
    "add_value_labels(ax, bars2)\n",
    "ax.legend()\n",
    "\n",
    "plt.tight_layout()\n",
    "plt.savefig('../Images/spanish_portuguese_models_accuracies.png', dpi=600, bbox_inches='tight')\n",
    "plt.show()"
   ]
  },
  {
   "cell_type": "markdown",
   "id": "a0a6272c-a029-459d-9369-4aa1a1cbf761",
   "metadata": {},
   "source": [
    "### Precision & recall"
   ]
  },
  {
   "cell_type": "code",
   "execution_count": 15,
   "id": "54fe1bbe-23aa-4b8e-bd2f-c3db9bfd9ee0",
   "metadata": {},
   "outputs": [
    {
     "data": {
      "image/png": "[encoded data removed]",
      "text/plain": [
       "<Figure size 1400x500 with 1 Axes>"
      ]
     },
     "metadata": {},
     "output_type": "display_data"
    },
    {
     "data": {
      "image/png": "[encoded data removed]",
      "text/plain": [
       "<Figure size 1400x500 with 1 Axes>"
      ]
     },
     "metadata": {},
     "output_type": "display_data"
    }
   ],
   "source": [
    "# Lists to separate models by language\n",
    "spanish_models = ['Logistic Regression (es)', 'Random Forest (es)', 'XGBoost (es)', 'SVC (es)', 'FNN (es)', 'CNN (es)', 'LSTM (es)']\n",
    "portuguese_models = ['Logistic Regression (pt)', 'Random Forest (pt)', 'XGBoost (pt)', 'SVC (pt)', 'FNN (pt)', 'CNN (pt)', 'LSTM (pt)']\n",
    "\n",
    "# Function to add value labels in the middle of bars\n",
    "def add_value_labels(ax, bars):\n",
    "    for bar in bars:\n",
    "        yval = bar.get_height()\n",
    "        ax.text(bar.get_x() + bar.get_width() / 2, yval + 0.03, round(yval, 2), ha='center', va='center', color='black')\n",
    "\n",
    "# Gap between bars\n",
    "gap = 0.03\n",
    "\n",
    "# Adjusted bar width for two bars (precision and recall)\n",
    "bar_width = 0.375\n",
    "\n",
    "# Create a single plot for Spanish models\n",
    "fig, ax = plt.subplots(figsize=(14, 5))\n",
    "\n",
    "# Plot precision and recall for Spanish models\n",
    "spanish_precisions = [classification_reports[model]['1']['precision'] for model in spanish_models]\n",
    "spanish_recalls = [classification_reports[model]['1']['recall'] for model in spanish_models]\n",
    "\n",
    "# Adjust the bar positions to ensure correct spacing\n",
    "r1 = [i - (bar_width/2 + gap/2) for i in range(len(spanish_models))]\n",
    "r2 = [i + (bar_width/2 + gap/2) for i in range(len(spanish_models))]\n",
    "\n",
    "bars1 = ax.bar(r1, spanish_precisions, width=bar_width, color='tab:orange', label='Precision')\n",
    "bars2 = ax.bar(r2, spanish_recalls, width=bar_width, color='tab:green', label='Recall')\n",
    "\n",
    "ax.set_title('Spanish', size=18)\n",
    "ax.set_ylim(0, 1.1)\n",
    "ax.set_ylabel('Score')\n",
    "ax.set_xticks(range(len(spanish_models)))\n",
    "ax.set_xticklabels(spanish_models, rotation=45)\n",
    "add_value_labels(ax, bars1)\n",
    "add_value_labels(ax, bars2)\n",
    "ax.legend()\n",
    "\n",
    "plt.tight_layout()\n",
    "plt.savefig('../Images/spanish_models_performance_precision_recall.png', dpi=600, bbox_inches='tight')\n",
    "plt.show()\n",
    "\n",
    "# Create a single plot for Portuguese models\n",
    "fig, ax = plt.subplots(figsize=(14, 5))\n",
    "\n",
    "# Plot precision and recall for Portuguese models\n",
    "portuguese_precisions = [classification_reports[model]['1']['precision'] for model in portuguese_models]\n",
    "portuguese_recalls = [classification_reports[model]['1']['recall'] for model in portuguese_models]\n",
    "\n",
    "# Adjust the bar positions to ensure correct spacing\n",
    "r1 = [i - (bar_width/2 + gap/2) for i in range(len(portuguese_models))]\n",
    "r2 = [i + (bar_width/2 + gap/2) for i in range(len(portuguese_models))]\n",
    "\n",
    "bars1 = ax.bar(r1, portuguese_precisions, width=bar_width, color='tab:orange', label='Precision')\n",
    "bars2 = ax.bar(r2, portuguese_recalls, width=bar_width, color='tab:green', label='Recall')\n",
    "\n",
    "ax.set_title('Portuguese', size=18)\n",
    "ax.set_ylim(0, 1.1)\n",
    "ax.set_ylabel('Score')\n",
    "ax.set_xticks(range(len(portuguese_models)))\n",
    "ax.set_xticklabels(portuguese_models, rotation=45)\n",
    "add_value_labels(ax, bars1)\n",
    "add_value_labels(ax, bars2)\n",
    "ax.legend()\n",
    "\n",
    "plt.tight_layout()\n",
    "plt.savefig('../Images/portuguese_models_performance_precision_recall.png', dpi=600, bbox_inches='tight')\n",
    "plt.show()"
   ]
  },
  {
   "cell_type": "markdown",
   "id": "3bef5597-8baa-4470-aac3-b5751293699b",
   "metadata": {},
   "source": [
    "### Training vs. validation gap"
   ]
  },
  {
   "cell_type": "markdown",
   "id": "409402ee-8252-4b9e-808a-1f16fba22157",
   "metadata": {},
   "source": [
    "There is a large gap between training and validation accuracy for the neural network models, suggesting overfitting."
   ]
  },
  {
   "cell_type": "code",
   "execution_count": 16,
   "id": "d6bed174-3374-4c05-bbf7-33e1f7f1c96a",
   "metadata": {},
   "outputs": [
    {
     "name": "stdout",
     "output_type": "stream",
     "text": [
      "Spanish:\n",
      "\n",
      "Model      Training acc.        Validation acc.\n",
      "--------------------------------------------------\n",
      "FNN        0.98                 0.32                \n",
      "CNN        1.0                  0.3                 \n",
      "LSTM       1.0                  0.42                \n",
      "\n",
      "\n",
      "Portuguese:\n",
      "\n",
      "Model      Training acc.        Validation acc.\n",
      "--------------------------------------------------\n",
      "FNN        0.96                 0.28                \n",
      "CNN        1.0                  0.18                \n",
      "LSTM       1.0                  0.26                \n",
      "\n",
      "\n"
     ]
    }
   ],
   "source": [
    "# model abreviations\n",
    "models = ['FNN', 'CNN', 'LSTM']\n",
    "\n",
    "\n",
    "# spanish report\n",
    "training_accuracies = [round(fnn_spanish_history.history['accuracy'][-1], 2),\n",
    "                       round(cnn_spanish_history.history['accuracy'][-1], 2),\n",
    "                       round(lstm_spanish_history.history['accuracy'][-1], 2)]\n",
    "validation_accuracies = [round(fnn_spanish_history.history['val_accuracy'][-1], 2),\n",
    "                         round(cnn_spanish_history.history['val_accuracy'][-1], 2),\n",
    "                         round(lstm_spanish_history.history['val_accuracy'][-1], 2)]\n",
    "\n",
    "report = \"Spanish:\\n\\n\"\n",
    "report += \"Model      Training acc.        Validation acc.\\n\"\n",
    "report += \"-\" * 50 + \"\\n\"\n",
    "\n",
    "for model, train_acc, val_acc in zip(models, training_accuracies, validation_accuracies):\n",
    "    report += f\"{model:<10} {train_acc:<20} {val_acc:<20}\\n\"\n",
    "\n",
    "print(report)\n",
    "print()\n",
    "\n",
    "\n",
    "# portuguese report\n",
    "training_accuracies = [round(fnn_portuguese_history.history['accuracy'][-1], 2),\n",
    "                       round(cnn_portuguese_history.history['accuracy'][-1], 2),\n",
    "                       round(lstm_portuguese_history.history['accuracy'][-1], 2)]\n",
    "validation_accuracies = [round(fnn_portuguese_history.history['val_accuracy'][-1], 2),\n",
    "                         round(cnn_portuguese_history.history['val_accuracy'][-1], 2),\n",
    "                         round(lstm_portuguese_history.history['val_accuracy'][-1], 2)]\n",
    "\n",
    "report = \"Portuguese:\\n\\n\"\n",
    "report += \"Model      Training acc.        Validation acc.\\n\"\n",
    "report += \"-\" * 50 + \"\\n\"\n",
    "\n",
    "for model, train_acc, val_acc in zip(models, training_accuracies, validation_accuracies):\n",
    "    report += f\"{model:<10} {train_acc:<20} {val_acc:<20}\\n\"\n",
    "\n",
    "print(report)\n",
    "print()"
   ]
  }
 ],
 "metadata": {
  "kernelspec": {
   "display_name": "Python 3 (ipykernel)",
   "language": "python",
   "name": "python3"
  },
  "language_info": {
   "codemirror_mode": {
    "name": "ipython",
    "version": 3
   },
   "file_extension": ".py",
   "mimetype": "text/x-python",
   "name": "python",
   "nbconvert_exporter": "python",
   "pygments_lexer": "ipython3",
   "version": "3.11.7"
  }
 },
 "nbformat": 4,
 "nbformat_minor": 5
}
