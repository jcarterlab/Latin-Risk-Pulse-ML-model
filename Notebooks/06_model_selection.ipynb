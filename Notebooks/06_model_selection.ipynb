{
 "cells": [
  {
   "cell_type": "markdown",
   "id": "a6c07089-3c15-4471-a9a9-cd23bc36efc3",
   "metadata": {},
   "source": [
    "# 6) Model selection"
   ]
  },
  {
   "cell_type": "markdown",
   "id": "04b94a4b-4026-4343-bdc8-a3174d475e60",
   "metadata": {},
   "source": [
    "Experimenting with various models shows that..."
   ]
  },
  {
   "cell_type": "markdown",
   "id": "2d057dd9-7329-46d7-a180-68218ca5e740",
   "metadata": {},
   "source": [
    "## Read-in data"
   ]
  },
  {
   "cell_type": "markdown",
   "id": "9b6e0269-5fa1-42a8-99dd-eacc211a6db4",
   "metadata": {},
   "source": [
    "Seperate dataframes are read-in for each language and dataset type. "
   ]
  },
  {
   "cell_type": "code",
   "execution_count": 5,
   "id": "5a93c710-7c31-4015-8249-2de4a25b7169",
   "metadata": {},
   "outputs": [
    {
     "name": "stdout",
     "output_type": "stream",
     "text": [
      "24.2K Spanish train headlines\n",
      "0.6K Spanish put aside headlines\n",
      "6.6K Portuguese train headlines\n",
      "0.6K Portuguese put aside headlines\n"
     ]
    }
   ],
   "source": [
    "import pandas as pd\n",
    "import numpy as np\n",
    "\n",
    "# reads in the spanish improved label headlines\n",
    "spanish_improved_labels_df = pd.read_csv('../Data/spanish_improved_labels_df.csv', encoding='utf-8').reset_index(drop=True)\n",
    "print(str(round(len(spanish_improved_labels_df)/1000, 1)) + 'K Spanish train headlines')\n",
    "\n",
    "# reads in the spanish put aside headlines\n",
    "spanish_put_aside_df = pd.read_csv('../Data/spanish_put_aside_df.csv', encoding='utf-8').reset_index(drop=True)\n",
    "print(str(round(len(spanish_put_aside_df)/1000, 1)) + 'K Spanish put aside headlines')\n",
    "\n",
    "# reads in the portuguese improved label headlines\n",
    "portuguese_improved_labels_df = pd.read_csv('../Data/portuguese_improved_labels_df.csv', encoding='utf-8').reset_index(drop=True)\n",
    "print(str(round(len(portuguese_improved_labels_df)/1000, 1)) + 'K Portuguese train headlines')\n",
    "\n",
    "# reads in the portuguese put aside headlines\n",
    "portuguese_put_aside_df = pd.read_csv('../Data/portuguese_put_aside_df.csv', encoding='utf-8').reset_index(drop=True)\n",
    "print(str(round(len(portuguese_put_aside_df)/1000, 1)) + 'K Portuguese put aside headlines')"
   ]
  },
  {
   "cell_type": "markdown",
   "id": "57e000ea-9bd7-4285-8742-38b9739c8e01",
   "metadata": {},
   "source": [
    "## Training functions"
   ]
  },
  {
   "cell_type": "markdown",
   "id": "546da63b-3d45-41a0-94d9-1ddaf4b4b17f",
   "metadata": {},
   "source": [
    "### Train test split"
   ]
  },
  {
   "cell_type": "markdown",
   "id": "4d99c050-8132-48cf-bef2-63dca3330c09",
   "metadata": {},
   "source": [
    "Creates a train test split for a given dataframe."
   ]
  },
  {
   "cell_type": "code",
   "execution_count": 6,
   "id": "b74dfdb8-7343-4796-8f6e-1826218e1357",
   "metadata": {},
   "outputs": [],
   "source": [
    "from sklearn.model_selection import train_test_split\n",
    "\n",
    "# returns a train test split\n",
    "def split_data(df, test_size=0.25):\n",
    "    X = df.headline\n",
    "    y = [int(pd.notna(x)) for x in df.risk_type]\n",
    "    return train_test_split(X, y, test_size=test_size, stratify=y)"
   ]
  },
  {
   "cell_type": "markdown",
   "id": "b23382ca-2c4d-489c-9db3-86b2e1ca2ad9",
   "metadata": {},
   "source": [
    "### TF-IDF"
   ]
  },
  {
   "cell_type": "markdown",
   "id": "d0689d4d-209b-47f5-9897-c0307d5e4c3b",
   "metadata": {},
   "source": [
    "A model is fit and evaluated on TF-IDF vectors."
   ]
  },
  {
   "cell_type": "code",
   "execution_count": 25,
   "id": "6f0c64fd-f10e-4a5b-acb7-5065657d0f44",
   "metadata": {},
   "outputs": [],
   "source": [
    "from sklearn.feature_extraction.text import TfidfVectorizer\n",
    "import matplotlib.pyplot as plt\n",
    "from sklearn.metrics import confusion_matrix, classification_report, accuracy_score\n",
    "\n",
    "# evaluates a model by printing the accuracy and classification report\n",
    "def evaluate_model(model, X_test_tfidf, y_test, colors):\n",
    "    # generates predictions\n",
    "    y_pred = model.predict(X_test_tfidf)\n",
    "    print(\"Accuracy:\", round(accuracy_score(y_test, y_pred), 2))\n",
    "    print()\n",
    "    \n",
    "    # prints classification report\n",
    "    print(\"Classification Report:\\n\", classification_report(y_test, y_pred))\n",
    "    print()\n",
    "    return classification_report(y_test, y_pred, output_dict=True)\n",
    "\n",
    "# evaluates a filtered dataset against new headlines using tf-idf vectors and logistic regression \n",
    "def fit_evaluate_tfidf(model, train_df, put_aside_df, language, heatmap=False, colors=None):\n",
    "    # prints the language\n",
    "    print()\n",
    "    print('*** ' + language + ' ***')\n",
    "    print()\n",
    "\n",
    "    # instantiate vectorizer\n",
    "    vectorizer = TfidfVectorizer()\n",
    "\n",
    "    # prepare data\n",
    "    X_train, X_test, y_train, y_test = split_data(train_df, test_size=0.001)\n",
    "    X_train_tfidf = vectorizer.fit_transform(X_train)\n",
    "    X_test_tfidf = vectorizer.transform(put_aside_df.headline)\n",
    "    y_test = [int(pd.notna(x)) for x in put_aside_df.risk_type]\n",
    "\n",
    "    # fit model\n",
    "    model.fit(X_train_tfidf, y_train)\n",
    "\n",
    "    # evaluate data\n",
    "    print(str(len(put_aside_df)) + ' put aside headlines')\n",
    "    return evaluate_model(model, X_test_tfidf, y_test, colors)"
   ]
  },
  {
   "cell_type": "markdown",
   "id": "d9281aec-9eb7-42d4-9e40-20c2ad3ef951",
   "metadata": {},
   "source": [
    "### Embeddings"
   ]
  },
  {
   "cell_type": "markdown",
   "id": "818d9e83-4432-486a-be68-03b75641cd79",
   "metadata": {},
   "source": [
    "A neural network model is fit and evaluated on vector embeddings."
   ]
  },
  {
   "cell_type": "code",
   "execution_count": 88,
   "id": "54fe9b94-c019-4668-8eec-7ca61e34c44d",
   "metadata": {},
   "outputs": [],
   "source": [
    "import gensim\n",
    "from gensim.models import Word2Vec\n",
    "from nltk.tokenize import word_tokenize\n",
    "import tensorflow as tf\n",
    "from tensorflow.keras.models import Sequential\n",
    "from tensorflow.keras.layers import Dense, Flatten, Dropout, Input\n",
    "\n",
    "# sets the max length of each headline to 50 characters\n",
    "max_len = 30\n",
    "\n",
    "# returns vector embeddings for a given list of sentences\n",
    "def get_fasttext_embeddings(embeddings_model, sentences, max_len, embedding_dim):\n",
    "    # creates a matrix of zeros\n",
    "    X = np.zeros((len(sentences), max_len, embedding_dim))\n",
    "\n",
    "    # iterates through each headline\n",
    "    for i, sentence in enumerate(sentences):\n",
    "\n",
    "        # limits headline length if over the max length \n",
    "        if len(sentence) > max_len:\n",
    "            sentence = sentence[:max_len]\n",
    "\n",
    "        # fills the matrix\n",
    "        for j, word in enumerate(sentence):\n",
    "            if word in embeddings_model:\n",
    "                X[i, j] = embeddings_model[word]\n",
    "            else:\n",
    "                X[i, j] = np.random.normal(size=(embedding_dim,)) \n",
    "    return X\n",
    "\n",
    "# evaluates a filtered dataset against new headlines using vector embeddings and a neural network model \n",
    "def fit_evaluate_embeddings(model, embeddings_model, df, put_aside_df, max_len, embedding_dim, language):\n",
    "    # prints the language\n",
    "    print()\n",
    "    print('*** ' + language + ' ***')\n",
    "    print()\n",
    "    \n",
    "    # prepares the data for training\n",
    "    df_sentences = list(df.headline.values)\n",
    "    X_train = get_fasttext_embeddings(embeddings_model, df_sentences, max_len, embedding_dim)\n",
    "    y_train = np.array([int(pd.notna(x)) for x in df.risk_type])\n",
    "    \n",
    "    # trains the model\n",
    "    model.fit(X_train, y_train, epochs=10, batch_size=32, validation_split=0.2)\n",
    "\n",
    "    # evaluates the model\n",
    "    put_aside_df_sentences = list(put_aside_df.headline.values)\n",
    "    X_test = get_fasttext_embeddings(embeddings_model, put_aside_df_sentences, max_len, embedding_dim)\n",
    "    y_test = np.array([int(pd.notna(x)) for x in put_aside_df.risk_type])\n",
    "    preds = model.predict(X_test)\n",
    "    class_preds = (preds > 0.5).astype(int)\n",
    "    y_pred = list(class_preds.flatten())\n",
    "\n",
    "    # prints accuracy and the classification report\n",
    "    classification_report_ = classification_report(y_test, y_pred)\n",
    "    print(\"Accuracy:\", round(accuracy_score(y_test, y_pred),3))\n",
    "    print()\n",
    "    print(\"Classification Report:\\n\", classification_report_)\n",
    "    print()\n",
    "    return classification_report(y_test, y_pred, output_dict=True)"
   ]
  },
  {
   "cell_type": "markdown",
   "id": "8b653632-5935-4c14-a119-2d739dfb5430",
   "metadata": {},
   "source": [
    "## TF-IDF & conventional models"
   ]
  },
  {
   "cell_type": "markdown",
   "id": "decd7ae9-fd26-4771-8c5e-69ac41813636",
   "metadata": {},
   "source": [
    "### Logistic regression"
   ]
  },
  {
   "cell_type": "markdown",
   "id": "0f748469-82d5-46af-8828-dc83a3300e6f",
   "metadata": {},
   "source": [
    "A logistic regression model is fit and evaluated on TF-IDF vectors."
   ]
  },
  {
   "cell_type": "code",
   "execution_count": 26,
   "id": "2aef3d6a-5497-4091-81d4-643fc3cb551b",
   "metadata": {},
   "outputs": [
    {
     "name": "stdout",
     "output_type": "stream",
     "text": [
      "\n",
      "*** Spanish ***\n",
      "\n",
      "600 put aside headlines\n",
      "Accuracy: 0.6\n",
      "\n",
      "Classification Report:\n",
      "               precision    recall  f1-score   support\n",
      "\n",
      "           0       0.86      0.25      0.39       300\n",
      "           1       0.56      0.96      0.71       300\n",
      "\n",
      "    accuracy                           0.60       600\n",
      "   macro avg       0.71      0.60      0.55       600\n",
      "weighted avg       0.71      0.60      0.55       600\n",
      "\n",
      "\n",
      "\n",
      "*** Portuguese ***\n",
      "\n",
      "600 put aside headlines\n",
      "Accuracy: 0.66\n",
      "\n",
      "Classification Report:\n",
      "               precision    recall  f1-score   support\n",
      "\n",
      "           0       0.83      0.39      0.53       300\n",
      "           1       0.60      0.92      0.73       300\n",
      "\n",
      "    accuracy                           0.66       600\n",
      "   macro avg       0.72      0.66      0.63       600\n",
      "weighted avg       0.72      0.66      0.63       600\n",
      "\n",
      "\n"
     ]
    }
   ],
   "source": [
    "from sklearn.linear_model import LogisticRegression\n",
    "\n",
    "# model\n",
    "lr_model = LogisticRegression()\n",
    "\n",
    "# classification report\n",
    "logistic_regression_spanish_classification_report_ = fit_evaluate_tfidf(lr_model, spanish_improved_labels_df, spanish_put_aside_df, language='Spanish')\n",
    "logistic_regression_portuguese_classification_report_ = fit_evaluate_tfidf(lr_model, portuguese_improved_labels_df, portuguese_put_aside_df, language='Portuguese')"
   ]
  },
  {
   "cell_type": "markdown",
   "id": "185212d4-3068-47d0-a411-c9724eb5df08",
   "metadata": {},
   "source": [
    "### Random forest"
   ]
  },
  {
   "cell_type": "markdown",
   "id": "1cc707b6-f9b8-48d0-a541-f20cd20a546f",
   "metadata": {},
   "source": [
    "A random forest model is fit and evaluated on TF-IDF vectors."
   ]
  },
  {
   "cell_type": "code",
   "execution_count": 28,
   "id": "70991bef-69f5-40f4-9876-880229110dd8",
   "metadata": {},
   "outputs": [
    {
     "name": "stdout",
     "output_type": "stream",
     "text": [
      "\n",
      "*** Spanish ***\n",
      "\n",
      "600 put aside headlines\n",
      "Accuracy: 0.58\n",
      "\n",
      "Classification Report:\n",
      "               precision    recall  f1-score   support\n",
      "\n",
      "           0       0.87      0.20      0.33       300\n",
      "           1       0.55      0.97      0.70       300\n",
      "\n",
      "    accuracy                           0.58       600\n",
      "   macro avg       0.71      0.58      0.51       600\n",
      "weighted avg       0.71      0.58      0.51       600\n",
      "\n",
      "\n",
      "\n",
      "*** Portuguese ***\n",
      "\n",
      "600 put aside headlines\n",
      "Accuracy: 0.61\n",
      "\n",
      "Classification Report:\n",
      "               precision    recall  f1-score   support\n",
      "\n",
      "           0       0.84      0.27      0.41       300\n",
      "           1       0.57      0.95      0.71       300\n",
      "\n",
      "    accuracy                           0.61       600\n",
      "   macro avg       0.70      0.61      0.56       600\n",
      "weighted avg       0.70      0.61      0.56       600\n",
      "\n",
      "\n"
     ]
    }
   ],
   "source": [
    "from sklearn.ensemble import RandomForestClassifier\n",
    "\n",
    "# model\n",
    "rf_model = RandomForestClassifier()\n",
    "\n",
    "# classification report\n",
    "random_forest_spanish_classification_report_ = fit_evaluate_tfidf(rf_model, spanish_improved_labels_df, spanish_put_aside_df, language='Spanish')\n",
    "random_forest_portuguese_classification_report_ = fit_evaluate_tfidf(rf_model, portuguese_improved_labels_df, portuguese_put_aside_df, language='Portuguese')"
   ]
  },
  {
   "cell_type": "markdown",
   "id": "44e86bd4-a553-493a-9a3c-1835c8d2a89b",
   "metadata": {},
   "source": [
    "### XGBoost"
   ]
  },
  {
   "cell_type": "markdown",
   "id": "ee2cffd1-c1ee-416f-8895-d897b92e2e00",
   "metadata": {},
   "source": [
    "An XGBoost model is fit and evaluated on TF-IDF vectors."
   ]
  },
  {
   "cell_type": "code",
   "execution_count": 29,
   "id": "7f22c831-f29f-4f9d-ad39-25b5efc96711",
   "metadata": {},
   "outputs": [
    {
     "name": "stdout",
     "output_type": "stream",
     "text": [
      "\n",
      "*** Spanish ***\n",
      "\n",
      "600 put aside headlines\n",
      "Accuracy: 0.57\n",
      "\n",
      "Classification Report:\n",
      "               precision    recall  f1-score   support\n",
      "\n",
      "           0       0.70      0.26      0.38       300\n",
      "           1       0.55      0.89      0.68       300\n",
      "\n",
      "    accuracy                           0.57       600\n",
      "   macro avg       0.62      0.57      0.53       600\n",
      "weighted avg       0.62      0.57      0.53       600\n",
      "\n",
      "\n",
      "\n",
      "*** Portuguese ***\n",
      "\n",
      "600 put aside headlines\n",
      "Accuracy: 0.62\n",
      "\n",
      "Classification Report:\n",
      "               precision    recall  f1-score   support\n",
      "\n",
      "           0       0.78      0.33      0.46       300\n",
      "           1       0.57      0.91      0.70       300\n",
      "\n",
      "    accuracy                           0.62       600\n",
      "   macro avg       0.68      0.62      0.58       600\n",
      "weighted avg       0.68      0.62      0.58       600\n",
      "\n",
      "\n"
     ]
    }
   ],
   "source": [
    "import xgboost as xgb \n",
    "\n",
    "# model\n",
    "xgb_model = xgb.XGBClassifier()\n",
    "\n",
    "# classification report\n",
    "xgboost_spanish_classification_report_ = fit_evaluate_tfidf(xgb_model, spanish_improved_labels_df, spanish_put_aside_df, language='Spanish')\n",
    "xgboost_forest_portuguese_classification_report_ = fit_evaluate_tfidf(xgb_model, portuguese_improved_labels_df, portuguese_put_aside_df, language='Portuguese')"
   ]
  },
  {
   "cell_type": "markdown",
   "id": "00c7bbce-7a0b-4dc2-94a0-c4d90a999e47",
   "metadata": {},
   "source": [
    "### Support vector machine (SVM)"
   ]
  },
  {
   "cell_type": "markdown",
   "id": "a0e5c93e-7b31-4113-ad5b-90636f607923",
   "metadata": {},
   "source": [
    "An SVM model is fit and evaluated on TF-IDF vectors."
   ]
  },
  {
   "cell_type": "code",
   "execution_count": 30,
   "id": "d1ac0678-f317-4966-b8b1-3e4f49c99bcf",
   "metadata": {},
   "outputs": [
    {
     "name": "stdout",
     "output_type": "stream",
     "text": [
      "\n",
      "*** Spanish ***\n",
      "\n",
      "600 put aside headlines\n",
      "Accuracy: 0.61\n",
      "\n",
      "Classification Report:\n",
      "               precision    recall  f1-score   support\n",
      "\n",
      "           0       0.90      0.25      0.39       300\n",
      "           1       0.56      0.97      0.71       300\n",
      "\n",
      "    accuracy                           0.61       600\n",
      "   macro avg       0.73      0.61      0.55       600\n",
      "weighted avg       0.73      0.61      0.55       600\n",
      "\n",
      "\n",
      "\n",
      "*** Portuguese ***\n",
      "\n",
      "600 put aside headlines\n",
      "Accuracy: 0.67\n",
      "\n",
      "Classification Report:\n",
      "               precision    recall  f1-score   support\n",
      "\n",
      "           0       0.85      0.41      0.55       300\n",
      "           1       0.61      0.93      0.74       300\n",
      "\n",
      "    accuracy                           0.67       600\n",
      "   macro avg       0.73      0.67      0.64       600\n",
      "weighted avg       0.73      0.67      0.64       600\n",
      "\n",
      "\n"
     ]
    }
   ],
   "source": [
    "from sklearn.svm import SVC\n",
    "\n",
    "# model\n",
    "svm_model = SVC()\n",
    "\n",
    "# classification report\n",
    "svc_spanish_classification_report_ = fit_evaluate_tfidf(svm_model, spanish_improved_labels_df, spanish_put_aside_df, language='Spanish')\n",
    "svc_forest_portuguese_classification_report_ = fit_evaluate_tfidf(svm_model, portuguese_improved_labels_df, portuguese_put_aside_df, language='Portuguese')"
   ]
  },
  {
   "cell_type": "markdown",
   "id": "ce509aad-aec8-40d5-aa7e-2fcb60833334",
   "metadata": {},
   "source": [
    "## Embeddings & Neural networks"
   ]
  },
  {
   "cell_type": "markdown",
   "id": "e0cdbbae-dc5f-4618-b5bb-1575d388b4ce",
   "metadata": {},
   "source": [
    "### Feedforward neural network (FNN) "
   ]
  },
  {
   "cell_type": "markdown",
   "id": "43afb018-a6fe-4d5e-af2d-9e0f60b4b4c7",
   "metadata": {},
   "source": [
    "A feedforward neural network (FNN) model is fit and evaluated on FastText vectors."
   ]
  },
  {
   "cell_type": "code",
   "execution_count": 90,
   "id": "c1afd0fc-7131-4587-a7cb-5feb1b434e0b",
   "metadata": {
    "scrolled": true
   },
   "outputs": [
    {
     "name": "stderr",
     "output_type": "stream",
     "text": [
      "C:\\Users\\Jack-\\AppData\\Local\\Programs\\Python\\Python311\\Lib\\site-packages\\keras\\src\\layers\\reshaping\\flatten.py:37: UserWarning: Do not pass an `input_shape`/`input_dim` argument to a layer. When using Sequential models, prefer using an `Input(shape)` object as the first layer in the model instead.\n",
      "  super().__init__(**kwargs)\n"
     ]
    },
    {
     "data": {
      "text/html": [
       "<pre style=\"white-space:pre;overflow-x:auto;line-height:normal;font-family:Menlo,'DejaVu Sans Mono',consolas,'Courier New',monospace\"><span style=\"font-weight: bold\">Model: \"sequential_22\"</span>\n",
       "</pre>\n"
      ],
      "text/plain": [
       "\u001b[1mModel: \"sequential_22\"\u001b[0m\n"
      ]
     },
     "metadata": {},
     "output_type": "display_data"
    },
    {
     "data": {
      "text/html": [
       "<pre style=\"white-space:pre;overflow-x:auto;line-height:normal;font-family:Menlo,'DejaVu Sans Mono',consolas,'Courier New',monospace\">┏━━━━━━━━━━━━━━━━━━━━━━━━━━━━━━━━━━━━━━┳━━━━━━━━━━━━━━━━━━━━━━━━━━━━━┳━━━━━━━━━━━━━━━━━┓\n",
       "┃<span style=\"font-weight: bold\"> Layer (type)                         </span>┃<span style=\"font-weight: bold\"> Output Shape                </span>┃<span style=\"font-weight: bold\">         Param # </span>┃\n",
       "┡━━━━━━━━━━━━━━━━━━━━━━━━━━━━━━━━━━━━━━╇━━━━━━━━━━━━━━━━━━━━━━━━━━━━━╇━━━━━━━━━━━━━━━━━┩\n",
       "│ flatten_4 (<span style=\"color: #0087ff; text-decoration-color: #0087ff\">Flatten</span>)                  │ (<span style=\"color: #00d7ff; text-decoration-color: #00d7ff\">None</span>, <span style=\"color: #00af00; text-decoration-color: #00af00\">9000</span>)                │               <span style=\"color: #00af00; text-decoration-color: #00af00\">0</span> │\n",
       "├──────────────────────────────────────┼─────────────────────────────┼─────────────────┤\n",
       "│ dense_32 (<span style=\"color: #0087ff; text-decoration-color: #0087ff\">Dense</span>)                     │ (<span style=\"color: #00d7ff; text-decoration-color: #00d7ff\">None</span>, <span style=\"color: #00af00; text-decoration-color: #00af00\">64</span>)                  │         <span style=\"color: #00af00; text-decoration-color: #00af00\">576,064</span> │\n",
       "├──────────────────────────────────────┼─────────────────────────────┼─────────────────┤\n",
       "│ dropout_46 (<span style=\"color: #0087ff; text-decoration-color: #0087ff\">Dropout</span>)                 │ (<span style=\"color: #00d7ff; text-decoration-color: #00d7ff\">None</span>, <span style=\"color: #00af00; text-decoration-color: #00af00\">64</span>)                  │               <span style=\"color: #00af00; text-decoration-color: #00af00\">0</span> │\n",
       "├──────────────────────────────────────┼─────────────────────────────┼─────────────────┤\n",
       "│ dense_33 (<span style=\"color: #0087ff; text-decoration-color: #0087ff\">Dense</span>)                     │ (<span style=\"color: #00d7ff; text-decoration-color: #00d7ff\">None</span>, <span style=\"color: #00af00; text-decoration-color: #00af00\">1</span>)                   │              <span style=\"color: #00af00; text-decoration-color: #00af00\">65</span> │\n",
       "└──────────────────────────────────────┴─────────────────────────────┴─────────────────┘\n",
       "</pre>\n"
      ],
      "text/plain": [
       "┏━━━━━━━━━━━━━━━━━━━━━━━━━━━━━━━━━━━━━━┳━━━━━━━━━━━━━━━━━━━━━━━━━━━━━┳━━━━━━━━━━━━━━━━━┓\n",
       "┃\u001b[1m \u001b[0m\u001b[1mLayer (type)                        \u001b[0m\u001b[1m \u001b[0m┃\u001b[1m \u001b[0m\u001b[1mOutput Shape               \u001b[0m\u001b[1m \u001b[0m┃\u001b[1m \u001b[0m\u001b[1m        Param #\u001b[0m\u001b[1m \u001b[0m┃\n",
       "┡━━━━━━━━━━━━━━━━━━━━━━━━━━━━━━━━━━━━━━╇━━━━━━━━━━━━━━━━━━━━━━━━━━━━━╇━━━━━━━━━━━━━━━━━┩\n",
       "│ flatten_4 (\u001b[38;5;33mFlatten\u001b[0m)                  │ (\u001b[38;5;45mNone\u001b[0m, \u001b[38;5;34m9000\u001b[0m)                │               \u001b[38;5;34m0\u001b[0m │\n",
       "├──────────────────────────────────────┼─────────────────────────────┼─────────────────┤\n",
       "│ dense_32 (\u001b[38;5;33mDense\u001b[0m)                     │ (\u001b[38;5;45mNone\u001b[0m, \u001b[38;5;34m64\u001b[0m)                  │         \u001b[38;5;34m576,064\u001b[0m │\n",
       "├──────────────────────────────────────┼─────────────────────────────┼─────────────────┤\n",
       "│ dropout_46 (\u001b[38;5;33mDropout\u001b[0m)                 │ (\u001b[38;5;45mNone\u001b[0m, \u001b[38;5;34m64\u001b[0m)                  │               \u001b[38;5;34m0\u001b[0m │\n",
       "├──────────────────────────────────────┼─────────────────────────────┼─────────────────┤\n",
       "│ dense_33 (\u001b[38;5;33mDense\u001b[0m)                     │ (\u001b[38;5;45mNone\u001b[0m, \u001b[38;5;34m1\u001b[0m)                   │              \u001b[38;5;34m65\u001b[0m │\n",
       "└──────────────────────────────────────┴─────────────────────────────┴─────────────────┘\n"
      ]
     },
     "metadata": {},
     "output_type": "display_data"
    },
    {
     "data": {
      "text/html": [
       "<pre style=\"white-space:pre;overflow-x:auto;line-height:normal;font-family:Menlo,'DejaVu Sans Mono',consolas,'Courier New',monospace\"><span style=\"font-weight: bold\"> Total params: </span><span style=\"color: #00af00; text-decoration-color: #00af00\">576,129</span> (2.20 MB)\n",
       "</pre>\n"
      ],
      "text/plain": [
       "\u001b[1m Total params: \u001b[0m\u001b[38;5;34m576,129\u001b[0m (2.20 MB)\n"
      ]
     },
     "metadata": {},
     "output_type": "display_data"
    },
    {
     "data": {
      "text/html": [
       "<pre style=\"white-space:pre;overflow-x:auto;line-height:normal;font-family:Menlo,'DejaVu Sans Mono',consolas,'Courier New',monospace\"><span style=\"font-weight: bold\"> Trainable params: </span><span style=\"color: #00af00; text-decoration-color: #00af00\">576,129</span> (2.20 MB)\n",
       "</pre>\n"
      ],
      "text/plain": [
       "\u001b[1m Trainable params: \u001b[0m\u001b[38;5;34m576,129\u001b[0m (2.20 MB)\n"
      ]
     },
     "metadata": {},
     "output_type": "display_data"
    },
    {
     "data": {
      "text/html": [
       "<pre style=\"white-space:pre;overflow-x:auto;line-height:normal;font-family:Menlo,'DejaVu Sans Mono',consolas,'Courier New',monospace\"><span style=\"font-weight: bold\"> Non-trainable params: </span><span style=\"color: #00af00; text-decoration-color: #00af00\">0</span> (0.00 B)\n",
       "</pre>\n"
      ],
      "text/plain": [
       "\u001b[1m Non-trainable params: \u001b[0m\u001b[38;5;34m0\u001b[0m (0.00 B)\n"
      ]
     },
     "metadata": {},
     "output_type": "display_data"
    },
    {
     "name": "stdout",
     "output_type": "stream",
     "text": [
      "\n",
      "*** Spanish ***\n",
      "\n",
      "Epoch 1/10\n",
      "\u001b[1m605/605\u001b[0m \u001b[32m━━━━━━━━━━━━━━━━━━━━\u001b[0m\u001b[37m\u001b[0m \u001b[1m12s\u001b[0m 15ms/step - accuracy: 0.5392 - loss: 0.6947 - val_accuracy: 0.4455 - val_loss: 0.6580\n",
      "Epoch 2/10\n",
      "\u001b[1m605/605\u001b[0m \u001b[32m━━━━━━━━━━━━━━━━━━━━\u001b[0m\u001b[37m\u001b[0m \u001b[1m5s\u001b[0m 8ms/step - accuracy: 0.6658 - loss: 0.5905 - val_accuracy: 0.5026 - val_loss: 0.6481\n",
      "Epoch 3/10\n",
      "\u001b[1m605/605\u001b[0m \u001b[32m━━━━━━━━━━━━━━━━━━━━\u001b[0m\u001b[37m\u001b[0m \u001b[1m6s\u001b[0m 10ms/step - accuracy: 0.7633 - loss: 0.4830 - val_accuracy: 0.4788 - val_loss: 0.7566\n",
      "Epoch 4/10\n",
      "\u001b[1m605/605\u001b[0m \u001b[32m━━━━━━━━━━━━━━━━━━━━\u001b[0m\u001b[37m\u001b[0m \u001b[1m6s\u001b[0m 10ms/step - accuracy: 0.8102 - loss: 0.3927 - val_accuracy: 0.4092 - val_loss: 1.0082\n",
      "Epoch 5/10\n",
      "\u001b[1m605/605\u001b[0m \u001b[32m━━━━━━━━━━━━━━━━━━━━\u001b[0m\u001b[37m\u001b[0m \u001b[1m5s\u001b[0m 9ms/step - accuracy: 0.8543 - loss: 0.3181 - val_accuracy: 0.4474 - val_loss: 1.0593\n",
      "Epoch 6/10\n",
      "\u001b[1m605/605\u001b[0m \u001b[32m━━━━━━━━━━━━━━━━━━━━\u001b[0m\u001b[37m\u001b[0m \u001b[1m5s\u001b[0m 8ms/step - accuracy: 0.8659 - loss: 0.2844 - val_accuracy: 0.5402 - val_loss: 0.8017\n",
      "Epoch 7/10\n",
      "\u001b[1m605/605\u001b[0m \u001b[32m━━━━━━━━━━━━━━━━━━━━\u001b[0m\u001b[37m\u001b[0m \u001b[1m5s\u001b[0m 8ms/step - accuracy: 0.8784 - loss: 0.2607 - val_accuracy: 0.5121 - val_loss: 0.9282\n",
      "Epoch 8/10\n",
      "\u001b[1m605/605\u001b[0m \u001b[32m━━━━━━━━━━━━━━━━━━━━\u001b[0m\u001b[37m\u001b[0m \u001b[1m5s\u001b[0m 8ms/step - accuracy: 0.8903 - loss: 0.2340 - val_accuracy: 0.4962 - val_loss: 1.0764\n",
      "Epoch 9/10\n",
      "\u001b[1m605/605\u001b[0m \u001b[32m━━━━━━━━━━━━━━━━━━━━\u001b[0m\u001b[37m\u001b[0m \u001b[1m5s\u001b[0m 8ms/step - accuracy: 0.8940 - loss: 0.2209 - val_accuracy: 0.4780 - val_loss: 1.2130\n",
      "Epoch 10/10\n",
      "\u001b[1m605/605\u001b[0m \u001b[32m━━━━━━━━━━━━━━━━━━━━\u001b[0m\u001b[37m\u001b[0m \u001b[1m5s\u001b[0m 9ms/step - accuracy: 0.8998 - loss: 0.2051 - val_accuracy: 0.4726 - val_loss: 1.1398\n",
      "\u001b[1m19/19\u001b[0m \u001b[32m━━━━━━━━━━━━━━━━━━━━\u001b[0m\u001b[37m\u001b[0m \u001b[1m0s\u001b[0m 4ms/step\n",
      "Accuracy: 0.537\n",
      "\n",
      "Classification Report:\n",
      "               precision    recall  f1-score   support\n",
      "\n",
      "           0       0.56      0.37      0.44       300\n",
      "           1       0.53      0.70      0.60       300\n",
      "\n",
      "    accuracy                           0.54       600\n",
      "   macro avg       0.54      0.54      0.52       600\n",
      "weighted avg       0.54      0.54      0.52       600\n",
      "\n",
      "\n",
      "\n",
      "*** Portuguese ***\n",
      "\n",
      "Epoch 1/10\n",
      "\u001b[1m166/166\u001b[0m \u001b[32m━━━━━━━━━━━━━━━━━━━━\u001b[0m\u001b[37m\u001b[0m \u001b[1m2s\u001b[0m 10ms/step - accuracy: 0.6023 - loss: 0.8107 - val_accuracy: 0.0385 - val_loss: 0.9536\n",
      "Epoch 2/10\n",
      "\u001b[1m166/166\u001b[0m \u001b[32m━━━━━━━━━━━━━━━━━━━━\u001b[0m\u001b[37m\u001b[0m \u001b[1m2s\u001b[0m 10ms/step - accuracy: 0.6405 - loss: 0.6423 - val_accuracy: 0.0257 - val_loss: 0.9535\n",
      "Epoch 3/10\n",
      "\u001b[1m166/166\u001b[0m \u001b[32m━━━━━━━━━━━━━━━━━━━━\u001b[0m\u001b[37m\u001b[0m \u001b[1m2s\u001b[0m 9ms/step - accuracy: 0.6490 - loss: 0.6239 - val_accuracy: 0.0265 - val_loss: 0.9967\n",
      "Epoch 4/10\n",
      "\u001b[1m166/166\u001b[0m \u001b[32m━━━━━━━━━━━━━━━━━━━━\u001b[0m\u001b[37m\u001b[0m \u001b[1m1s\u001b[0m 9ms/step - accuracy: 0.6402 - loss: 0.6288 - val_accuracy: 0.0287 - val_loss: 0.9637\n",
      "Epoch 5/10\n",
      "\u001b[1m166/166\u001b[0m \u001b[32m━━━━━━━━━━━━━━━━━━━━\u001b[0m\u001b[37m\u001b[0m \u001b[1m1s\u001b[0m 8ms/step - accuracy: 0.6440 - loss: 0.6050 - val_accuracy: 0.0416 - val_loss: 1.0032\n",
      "Epoch 6/10\n",
      "\u001b[1m166/166\u001b[0m \u001b[32m━━━━━━━━━━━━━━━━━━━━\u001b[0m\u001b[37m\u001b[0m \u001b[1m1s\u001b[0m 8ms/step - accuracy: 0.6335 - loss: 0.5996 - val_accuracy: 0.0333 - val_loss: 0.9875\n",
      "Epoch 7/10\n",
      "\u001b[1m166/166\u001b[0m \u001b[32m━━━━━━━━━━━━━━━━━━━━\u001b[0m\u001b[37m\u001b[0m \u001b[1m1s\u001b[0m 8ms/step - accuracy: 0.6448 - loss: 0.5760 - val_accuracy: 0.0809 - val_loss: 0.9312\n",
      "Epoch 8/10\n",
      "\u001b[1m166/166\u001b[0m \u001b[32m━━━━━━━━━━━━━━━━━━━━\u001b[0m\u001b[37m\u001b[0m \u001b[1m1s\u001b[0m 9ms/step - accuracy: 0.6419 - loss: 0.5573 - val_accuracy: 0.0658 - val_loss: 1.0841\n",
      "Epoch 9/10\n",
      "\u001b[1m166/166\u001b[0m \u001b[32m━━━━━━━━━━━━━━━━━━━━\u001b[0m\u001b[37m\u001b[0m \u001b[1m1s\u001b[0m 8ms/step - accuracy: 0.6493 - loss: 0.5506 - val_accuracy: 0.0907 - val_loss: 0.9700\n",
      "Epoch 10/10\n",
      "\u001b[1m166/166\u001b[0m \u001b[32m━━━━━━━━━━━━━━━━━━━━\u001b[0m\u001b[37m\u001b[0m \u001b[1m1s\u001b[0m 8ms/step - accuracy: 0.6496 - loss: 0.5299 - val_accuracy: 0.1179 - val_loss: 1.1068\n",
      "\u001b[1m19/19\u001b[0m \u001b[32m━━━━━━━━━━━━━━━━━━━━\u001b[0m\u001b[37m\u001b[0m \u001b[1m0s\u001b[0m 2ms/step \n",
      "Accuracy: 0.488\n",
      "\n",
      "Classification Report:\n",
      "               precision    recall  f1-score   support\n",
      "\n",
      "           0       0.35      0.03      0.05       300\n",
      "           1       0.49      0.95      0.65       300\n",
      "\n",
      "    accuracy                           0.49       600\n",
      "   macro avg       0.42      0.49      0.35       600\n",
      "weighted avg       0.42      0.49      0.35       600\n",
      "\n",
      "\n"
     ]
    }
   ],
   "source": [
    "'''\n",
    "import gensim.downloader as api\n",
    "\n",
    "# fasttext pre-trained word embeddings model (includes Spanish and Portuguese)\n",
    "fasttext_model = api.load(\"fasttext-wiki-news-subwords-300\")\n",
    "'''\n",
    "\n",
    "# fnn model\n",
    "fnn_model = Sequential()\n",
    "fnn_model.add(Flatten(input_shape=(max_len, 300)))\n",
    "fnn_model.add(Dense(64, activation='relu'))\n",
    "fnn_model.add(Dropout(0.5))\n",
    "fnn_model.add(Dense(1, activation='sigmoid'))\n",
    "fnn_model.compile(optimizer='adam', loss='binary_crossentropy', metrics=['accuracy'])\n",
    "fnn_model.summary()\n",
    "\n",
    "# classification report\n",
    "fnn_spanish_classification_report_ = fit_evaluate_embeddings(fnn_model, fasttext_model, spanish_improved_labels_df, spanish_put_aside_df, max_len, embedding_dim=300, language='Spanish')\n",
    "fnn_portuguese_classification_report_ = fit_evaluate_embeddings(fnn_model, fasttext_model, portuguese_improved_labels_df, portuguese_put_aside_df, max_len, embedding_dim=300, language='Portuguese')"
   ]
  },
  {
   "cell_type": "markdown",
   "id": "51bea223-e2ef-409c-8b11-e8ec0ef6cc99",
   "metadata": {},
   "source": [
    "### Convolutional neural network (CNN)"
   ]
  },
  {
   "cell_type": "markdown",
   "id": "c5c2d8e8-224c-4ec2-8ed6-1a67fc3ac25c",
   "metadata": {},
   "source": [
    "A convolutional neural network is fit and evaluated on FastText vectors."
   ]
  },
  {
   "cell_type": "code",
   "execution_count": 89,
   "id": "a4ca0722-5b1f-4b26-b4b1-36c6d894e739",
   "metadata": {},
   "outputs": [
    {
     "name": "stderr",
     "output_type": "stream",
     "text": [
      "C:\\Users\\Jack-\\AppData\\Local\\Programs\\Python\\Python311\\Lib\\site-packages\\keras\\src\\layers\\convolutional\\base_conv.py:99: UserWarning: Do not pass an `input_shape`/`input_dim` argument to a layer. When using Sequential models, prefer using an `Input(shape)` object as the first layer in the model instead.\n",
      "  super().__init__(\n"
     ]
    },
    {
     "data": {
      "text/html": [
       "<pre style=\"white-space:pre;overflow-x:auto;line-height:normal;font-family:Menlo,'DejaVu Sans Mono',consolas,'Courier New',monospace\"><span style=\"font-weight: bold\">Model: \"sequential_21\"</span>\n",
       "</pre>\n"
      ],
      "text/plain": [
       "\u001b[1mModel: \"sequential_21\"\u001b[0m\n"
      ]
     },
     "metadata": {},
     "output_type": "display_data"
    },
    {
     "data": {
      "text/html": [
       "<pre style=\"white-space:pre;overflow-x:auto;line-height:normal;font-family:Menlo,'DejaVu Sans Mono',consolas,'Courier New',monospace\">┏━━━━━━━━━━━━━━━━━━━━━━━━━━━━━━━━━━━━━━┳━━━━━━━━━━━━━━━━━━━━━━━━━━━━━┳━━━━━━━━━━━━━━━━━┓\n",
       "┃<span style=\"font-weight: bold\"> Layer (type)                         </span>┃<span style=\"font-weight: bold\"> Output Shape                </span>┃<span style=\"font-weight: bold\">         Param # </span>┃\n",
       "┡━━━━━━━━━━━━━━━━━━━━━━━━━━━━━━━━━━━━━━╇━━━━━━━━━━━━━━━━━━━━━━━━━━━━━╇━━━━━━━━━━━━━━━━━┩\n",
       "│ conv1d_4 (<span style=\"color: #0087ff; text-decoration-color: #0087ff\">Conv1D</span>)                    │ (<span style=\"color: #00d7ff; text-decoration-color: #00d7ff\">None</span>, <span style=\"color: #00af00; text-decoration-color: #00af00\">26</span>, <span style=\"color: #00af00; text-decoration-color: #00af00\">128</span>)             │         <span style=\"color: #00af00; text-decoration-color: #00af00\">192,128</span> │\n",
       "├──────────────────────────────────────┼─────────────────────────────┼─────────────────┤\n",
       "│ global_max_pooling1d_6               │ (<span style=\"color: #00d7ff; text-decoration-color: #00d7ff\">None</span>, <span style=\"color: #00af00; text-decoration-color: #00af00\">128</span>)                 │               <span style=\"color: #00af00; text-decoration-color: #00af00\">0</span> │\n",
       "│ (<span style=\"color: #0087ff; text-decoration-color: #0087ff\">GlobalMaxPooling1D</span>)                 │                             │                 │\n",
       "├──────────────────────────────────────┼─────────────────────────────┼─────────────────┤\n",
       "│ dense_30 (<span style=\"color: #0087ff; text-decoration-color: #0087ff\">Dense</span>)                     │ (<span style=\"color: #00d7ff; text-decoration-color: #00d7ff\">None</span>, <span style=\"color: #00af00; text-decoration-color: #00af00\">64</span>)                  │           <span style=\"color: #00af00; text-decoration-color: #00af00\">8,256</span> │\n",
       "├──────────────────────────────────────┼─────────────────────────────┼─────────────────┤\n",
       "│ dropout_45 (<span style=\"color: #0087ff; text-decoration-color: #0087ff\">Dropout</span>)                 │ (<span style=\"color: #00d7ff; text-decoration-color: #00d7ff\">None</span>, <span style=\"color: #00af00; text-decoration-color: #00af00\">64</span>)                  │               <span style=\"color: #00af00; text-decoration-color: #00af00\">0</span> │\n",
       "├──────────────────────────────────────┼─────────────────────────────┼─────────────────┤\n",
       "│ dense_31 (<span style=\"color: #0087ff; text-decoration-color: #0087ff\">Dense</span>)                     │ (<span style=\"color: #00d7ff; text-decoration-color: #00d7ff\">None</span>, <span style=\"color: #00af00; text-decoration-color: #00af00\">1</span>)                   │              <span style=\"color: #00af00; text-decoration-color: #00af00\">65</span> │\n",
       "└──────────────────────────────────────┴─────────────────────────────┴─────────────────┘\n",
       "</pre>\n"
      ],
      "text/plain": [
       "┏━━━━━━━━━━━━━━━━━━━━━━━━━━━━━━━━━━━━━━┳━━━━━━━━━━━━━━━━━━━━━━━━━━━━━┳━━━━━━━━━━━━━━━━━┓\n",
       "┃\u001b[1m \u001b[0m\u001b[1mLayer (type)                        \u001b[0m\u001b[1m \u001b[0m┃\u001b[1m \u001b[0m\u001b[1mOutput Shape               \u001b[0m\u001b[1m \u001b[0m┃\u001b[1m \u001b[0m\u001b[1m        Param #\u001b[0m\u001b[1m \u001b[0m┃\n",
       "┡━━━━━━━━━━━━━━━━━━━━━━━━━━━━━━━━━━━━━━╇━━━━━━━━━━━━━━━━━━━━━━━━━━━━━╇━━━━━━━━━━━━━━━━━┩\n",
       "│ conv1d_4 (\u001b[38;5;33mConv1D\u001b[0m)                    │ (\u001b[38;5;45mNone\u001b[0m, \u001b[38;5;34m26\u001b[0m, \u001b[38;5;34m128\u001b[0m)             │         \u001b[38;5;34m192,128\u001b[0m │\n",
       "├──────────────────────────────────────┼─────────────────────────────┼─────────────────┤\n",
       "│ global_max_pooling1d_6               │ (\u001b[38;5;45mNone\u001b[0m, \u001b[38;5;34m128\u001b[0m)                 │               \u001b[38;5;34m0\u001b[0m │\n",
       "│ (\u001b[38;5;33mGlobalMaxPooling1D\u001b[0m)                 │                             │                 │\n",
       "├──────────────────────────────────────┼─────────────────────────────┼─────────────────┤\n",
       "│ dense_30 (\u001b[38;5;33mDense\u001b[0m)                     │ (\u001b[38;5;45mNone\u001b[0m, \u001b[38;5;34m64\u001b[0m)                  │           \u001b[38;5;34m8,256\u001b[0m │\n",
       "├──────────────────────────────────────┼─────────────────────────────┼─────────────────┤\n",
       "│ dropout_45 (\u001b[38;5;33mDropout\u001b[0m)                 │ (\u001b[38;5;45mNone\u001b[0m, \u001b[38;5;34m64\u001b[0m)                  │               \u001b[38;5;34m0\u001b[0m │\n",
       "├──────────────────────────────────────┼─────────────────────────────┼─────────────────┤\n",
       "│ dense_31 (\u001b[38;5;33mDense\u001b[0m)                     │ (\u001b[38;5;45mNone\u001b[0m, \u001b[38;5;34m1\u001b[0m)                   │              \u001b[38;5;34m65\u001b[0m │\n",
       "└──────────────────────────────────────┴─────────────────────────────┴─────────────────┘\n"
      ]
     },
     "metadata": {},
     "output_type": "display_data"
    },
    {
     "data": {
      "text/html": [
       "<pre style=\"white-space:pre;overflow-x:auto;line-height:normal;font-family:Menlo,'DejaVu Sans Mono',consolas,'Courier New',monospace\"><span style=\"font-weight: bold\"> Total params: </span><span style=\"color: #00af00; text-decoration-color: #00af00\">200,449</span> (783.00 KB)\n",
       "</pre>\n"
      ],
      "text/plain": [
       "\u001b[1m Total params: \u001b[0m\u001b[38;5;34m200,449\u001b[0m (783.00 KB)\n"
      ]
     },
     "metadata": {},
     "output_type": "display_data"
    },
    {
     "data": {
      "text/html": [
       "<pre style=\"white-space:pre;overflow-x:auto;line-height:normal;font-family:Menlo,'DejaVu Sans Mono',consolas,'Courier New',monospace\"><span style=\"font-weight: bold\"> Trainable params: </span><span style=\"color: #00af00; text-decoration-color: #00af00\">200,449</span> (783.00 KB)\n",
       "</pre>\n"
      ],
      "text/plain": [
       "\u001b[1m Trainable params: \u001b[0m\u001b[38;5;34m200,449\u001b[0m (783.00 KB)\n"
      ]
     },
     "metadata": {},
     "output_type": "display_data"
    },
    {
     "data": {
      "text/html": [
       "<pre style=\"white-space:pre;overflow-x:auto;line-height:normal;font-family:Menlo,'DejaVu Sans Mono',consolas,'Courier New',monospace\"><span style=\"font-weight: bold\"> Non-trainable params: </span><span style=\"color: #00af00; text-decoration-color: #00af00\">0</span> (0.00 B)\n",
       "</pre>\n"
      ],
      "text/plain": [
       "\u001b[1m Non-trainable params: \u001b[0m\u001b[38;5;34m0\u001b[0m (0.00 B)\n"
      ]
     },
     "metadata": {},
     "output_type": "display_data"
    },
    {
     "name": "stdout",
     "output_type": "stream",
     "text": [
      "\n",
      "*** Spanish ***\n",
      "\n",
      "Epoch 1/10\n",
      "\u001b[1m605/605\u001b[0m \u001b[32m━━━━━━━━━━━━━━━━━━━━\u001b[0m\u001b[37m\u001b[0m \u001b[1m18s\u001b[0m 14ms/step - accuracy: 0.5230 - loss: 0.7086 - val_accuracy: 0.3953 - val_loss: 0.6966\n",
      "Epoch 2/10\n",
      "\u001b[1m605/605\u001b[0m \u001b[32m━━━━━━━━━━━━━━━━━━━━\u001b[0m\u001b[37m\u001b[0m \u001b[1m5s\u001b[0m 9ms/step - accuracy: 0.5907 - loss: 0.6637 - val_accuracy: 0.3561 - val_loss: 0.7355\n",
      "Epoch 3/10\n",
      "\u001b[1m605/605\u001b[0m \u001b[32m━━━━━━━━━━━━━━━━━━━━\u001b[0m\u001b[37m\u001b[0m \u001b[1m5s\u001b[0m 9ms/step - accuracy: 0.6906 - loss: 0.5812 - val_accuracy: 0.6565 - val_loss: 0.5681\n",
      "Epoch 4/10\n",
      "\u001b[1m605/605\u001b[0m \u001b[32m━━━━━━━━━━━━━━━━━━━━\u001b[0m\u001b[37m\u001b[0m \u001b[1m5s\u001b[0m 8ms/step - accuracy: 0.8517 - loss: 0.3584 - val_accuracy: 0.5966 - val_loss: 0.7421\n",
      "Epoch 5/10\n",
      "\u001b[1m605/605\u001b[0m \u001b[32m━━━━━━━━━━━━━━━━━━━━\u001b[0m\u001b[37m\u001b[0m \u001b[1m5s\u001b[0m 8ms/step - accuracy: 0.9488 - loss: 0.1476 - val_accuracy: 0.4367 - val_loss: 1.5413\n",
      "Epoch 6/10\n",
      "\u001b[1m605/605\u001b[0m \u001b[32m━━━━━━━━━━━━━━━━━━━━\u001b[0m\u001b[37m\u001b[0m \u001b[1m5s\u001b[0m 8ms/step - accuracy: 0.9723 - loss: 0.0790 - val_accuracy: 0.5857 - val_loss: 1.4709\n",
      "Epoch 7/10\n",
      "\u001b[1m605/605\u001b[0m \u001b[32m━━━━━━━━━━━━━━━━━━━━\u001b[0m\u001b[37m\u001b[0m \u001b[1m5s\u001b[0m 9ms/step - accuracy: 0.9828 - loss: 0.0503 - val_accuracy: 0.5392 - val_loss: 2.0401\n",
      "Epoch 8/10\n",
      "\u001b[1m605/605\u001b[0m \u001b[32m━━━━━━━━━━━━━━━━━━━━\u001b[0m\u001b[37m\u001b[0m \u001b[1m5s\u001b[0m 8ms/step - accuracy: 0.9849 - loss: 0.0433 - val_accuracy: 0.6181 - val_loss: 1.3965\n",
      "Epoch 9/10\n",
      "\u001b[1m605/605\u001b[0m \u001b[32m━━━━━━━━━━━━━━━━━━━━\u001b[0m\u001b[37m\u001b[0m \u001b[1m5s\u001b[0m 8ms/step - accuracy: 0.9866 - loss: 0.0394 - val_accuracy: 0.7088 - val_loss: 1.0946\n",
      "Epoch 10/10\n",
      "\u001b[1m605/605\u001b[0m \u001b[32m━━━━━━━━━━━━━━━━━━━━\u001b[0m\u001b[37m\u001b[0m \u001b[1m5s\u001b[0m 8ms/step - accuracy: 0.9862 - loss: 0.0441 - val_accuracy: 0.4464 - val_loss: 3.2308\n",
      "\u001b[1m19/19\u001b[0m \u001b[32m━━━━━━━━━━━━━━━━━━━━\u001b[0m\u001b[37m\u001b[0m \u001b[1m0s\u001b[0m 7ms/step\n",
      "Accuracy: 0.512\n",
      "\n",
      "Classification Report:\n",
      "               precision    recall  f1-score   support\n",
      "\n",
      "           0       0.52      0.36      0.43       300\n",
      "           1       0.51      0.66      0.57       300\n",
      "\n",
      "    accuracy                           0.51       600\n",
      "   macro avg       0.51      0.51      0.50       600\n",
      "weighted avg       0.51      0.51      0.50       600\n",
      "\n",
      "\n",
      "\n",
      "*** Portuguese ***\n",
      "\n",
      "Epoch 1/10\n",
      "\u001b[1m166/166\u001b[0m \u001b[32m━━━━━━━━━━━━━━━━━━━━\u001b[0m\u001b[37m\u001b[0m \u001b[1m2s\u001b[0m 9ms/step - accuracy: 0.5846 - loss: 0.9755 - val_accuracy: 0.0000e+00 - val_loss: 0.8543\n",
      "Epoch 2/10\n",
      "\u001b[1m166/166\u001b[0m \u001b[32m━━━━━━━━━━━━━━━━━━━━\u001b[0m\u001b[37m\u001b[0m \u001b[1m2s\u001b[0m 9ms/step - accuracy: 0.6142 - loss: 0.6611 - val_accuracy: 7.5586e-04 - val_loss: 0.8976\n",
      "Epoch 3/10\n",
      "\u001b[1m166/166\u001b[0m \u001b[32m━━━━━━━━━━━━━━━━━━━━\u001b[0m\u001b[37m\u001b[0m \u001b[1m1s\u001b[0m 9ms/step - accuracy: 0.6226 - loss: 0.6447 - val_accuracy: 7.5586e-04 - val_loss: 0.9397\n",
      "Epoch 4/10\n",
      "\u001b[1m166/166\u001b[0m \u001b[32m━━━━━━━━━━━━━━━━━━━━\u001b[0m\u001b[37m\u001b[0m \u001b[1m1s\u001b[0m 9ms/step - accuracy: 0.6244 - loss: 0.6264 - val_accuracy: 0.0431 - val_loss: 1.0236\n",
      "Epoch 5/10\n",
      "\u001b[1m166/166\u001b[0m \u001b[32m━━━━━━━━━━━━━━━━━━━━\u001b[0m\u001b[37m\u001b[0m \u001b[1m1s\u001b[0m 8ms/step - accuracy: 0.6257 - loss: 0.5742 - val_accuracy: 0.1345 - val_loss: 0.9231\n",
      "Epoch 6/10\n",
      "\u001b[1m166/166\u001b[0m \u001b[32m━━━━━━━━━━━━━━━━━━━━\u001b[0m\u001b[37m\u001b[0m \u001b[1m2s\u001b[0m 9ms/step - accuracy: 0.7045 - loss: 0.4905 - val_accuracy: 0.3719 - val_loss: 1.2544\n",
      "Epoch 7/10\n",
      "\u001b[1m166/166\u001b[0m \u001b[32m━━━━━━━━━━━━━━━━━━━━\u001b[0m\u001b[37m\u001b[0m \u001b[1m1s\u001b[0m 9ms/step - accuracy: 0.8471 - loss: 0.3039 - val_accuracy: 0.4822 - val_loss: 1.4000\n",
      "Epoch 8/10\n",
      "\u001b[1m166/166\u001b[0m \u001b[32m━━━━━━━━━━━━━━━━━━━━\u001b[0m\u001b[37m\u001b[0m \u001b[1m1s\u001b[0m 8ms/step - accuracy: 0.9492 - loss: 0.1282 - val_accuracy: 0.2842 - val_loss: 3.0793\n",
      "Epoch 9/10\n",
      "\u001b[1m166/166\u001b[0m \u001b[32m━━━━━━━━━━━━━━━━━━━━\u001b[0m\u001b[37m\u001b[0m \u001b[1m2s\u001b[0m 9ms/step - accuracy: 0.9894 - loss: 0.0370 - val_accuracy: 0.3878 - val_loss: 3.4172\n",
      "Epoch 10/10\n",
      "\u001b[1m166/166\u001b[0m \u001b[32m━━━━━━━━━━━━━━━━━━━━\u001b[0m\u001b[37m\u001b[0m \u001b[1m1s\u001b[0m 9ms/step - accuracy: 0.9923 - loss: 0.0165 - val_accuracy: 0.3522 - val_loss: 3.9043\n",
      "\u001b[1m19/19\u001b[0m \u001b[32m━━━━━━━━━━━━━━━━━━━━\u001b[0m\u001b[37m\u001b[0m \u001b[1m0s\u001b[0m 4ms/step\n",
      "Accuracy: 0.525\n",
      "\n",
      "Classification Report:\n",
      "               precision    recall  f1-score   support\n",
      "\n",
      "           0       0.54      0.33      0.41       300\n",
      "           1       0.52      0.72      0.60       300\n",
      "\n",
      "    accuracy                           0.53       600\n",
      "   macro avg       0.53      0.53      0.51       600\n",
      "weighted avg       0.53      0.53      0.51       600\n",
      "\n",
      "\n"
     ]
    }
   ],
   "source": [
    "from tensorflow.keras.layers import GlobalMaxPooling1D\n",
    "\n",
    "# cnn model\n",
    "cnn_model = Sequential()\n",
    "cnn_model.add(Conv1D(128, kernel_size=5, activation='relu', input_shape=(max_len, 300)))\n",
    "cnn_model.add(GlobalMaxPooling1D())\n",
    "cnn_model.add(Dense(64, activation='relu'))\n",
    "cnn_model.add(Dropout(0.5))\n",
    "cnn_model.add(Dense(1, activation='sigmoid'))\n",
    "cnn_model.compile(optimizer='adam', loss='binary_crossentropy', metrics=['accuracy'])\n",
    "cnn_model.summary()\n",
    "\n",
    "# classification report\n",
    "cnn_spanish_classification_report_ = fit_evaluate_embeddings(cnn_model, fasttext_model, spanish_improved_labels_df, spanish_put_aside_df, max_len, embedding_dim=300, language='Spanish')\n",
    "cnn_portuguese_classification_report_ = fit_evaluate_embeddings(cnn_model, fasttext_model, portuguese_improved_labels_df, portuguese_put_aside_df, max_len, embedding_dim=300, language='Portuguese')"
   ]
  },
  {
   "cell_type": "markdown",
   "id": "4dfb8e56-9d88-4c09-8368-e34d548cadda",
   "metadata": {},
   "source": [
    "### Long short-term memory (LSTM) "
   ]
  },
  {
   "cell_type": "markdown",
   "id": "90457b07-b839-4b9f-9e44-17ddcc0ec47a",
   "metadata": {},
   "source": [
    "A long short-term memory (LSTM) recurrent neural network is fit and evaluated on FastText vectors."
   ]
  },
  {
   "cell_type": "code",
   "execution_count": 91,
   "id": "c1e2f5d0-da21-4da8-8724-85cf3f62dd3c",
   "metadata": {
    "scrolled": true
   },
   "outputs": [
    {
     "name": "stderr",
     "output_type": "stream",
     "text": [
      "C:\\Users\\Jack-\\AppData\\Local\\Programs\\Python\\Python311\\Lib\\site-packages\\keras\\src\\layers\\rnn\\rnn.py:204: UserWarning: Do not pass an `input_shape`/`input_dim` argument to a layer. When using Sequential models, prefer using an `Input(shape)` object as the first layer in the model instead.\n",
      "  super().__init__(**kwargs)\n"
     ]
    },
    {
     "data": {
      "text/html": [
       "<pre style=\"white-space:pre;overflow-x:auto;line-height:normal;font-family:Menlo,'DejaVu Sans Mono',consolas,'Courier New',monospace\"><span style=\"font-weight: bold\">Model: \"sequential_23\"</span>\n",
       "</pre>\n"
      ],
      "text/plain": [
       "\u001b[1mModel: \"sequential_23\"\u001b[0m\n"
      ]
     },
     "metadata": {},
     "output_type": "display_data"
    },
    {
     "data": {
      "text/html": [
       "<pre style=\"white-space:pre;overflow-x:auto;line-height:normal;font-family:Menlo,'DejaVu Sans Mono',consolas,'Courier New',monospace\">┏━━━━━━━━━━━━━━━━━━━━━━━━━━━━━━━━━━━━━━┳━━━━━━━━━━━━━━━━━━━━━━━━━━━━━┳━━━━━━━━━━━━━━━━━┓\n",
       "┃<span style=\"font-weight: bold\"> Layer (type)                         </span>┃<span style=\"font-weight: bold\"> Output Shape                </span>┃<span style=\"font-weight: bold\">         Param # </span>┃\n",
       "┡━━━━━━━━━━━━━━━━━━━━━━━━━━━━━━━━━━━━━━╇━━━━━━━━━━━━━━━━━━━━━━━━━━━━━╇━━━━━━━━━━━━━━━━━┩\n",
       "│ lstm_11 (<span style=\"color: #0087ff; text-decoration-color: #0087ff\">LSTM</span>)                       │ (<span style=\"color: #00d7ff; text-decoration-color: #00d7ff\">None</span>, <span style=\"color: #00af00; text-decoration-color: #00af00\">30</span>, <span style=\"color: #00af00; text-decoration-color: #00af00\">128</span>)             │         <span style=\"color: #00af00; text-decoration-color: #00af00\">219,648</span> │\n",
       "├──────────────────────────────────────┼─────────────────────────────┼─────────────────┤\n",
       "│ dropout_47 (<span style=\"color: #0087ff; text-decoration-color: #0087ff\">Dropout</span>)                 │ (<span style=\"color: #00d7ff; text-decoration-color: #00d7ff\">None</span>, <span style=\"color: #00af00; text-decoration-color: #00af00\">30</span>, <span style=\"color: #00af00; text-decoration-color: #00af00\">128</span>)             │               <span style=\"color: #00af00; text-decoration-color: #00af00\">0</span> │\n",
       "├──────────────────────────────────────┼─────────────────────────────┼─────────────────┤\n",
       "│ lstm_12 (<span style=\"color: #0087ff; text-decoration-color: #0087ff\">LSTM</span>)                       │ (<span style=\"color: #00d7ff; text-decoration-color: #00d7ff\">None</span>, <span style=\"color: #00af00; text-decoration-color: #00af00\">64</span>)                  │          <span style=\"color: #00af00; text-decoration-color: #00af00\">49,408</span> │\n",
       "├──────────────────────────────────────┼─────────────────────────────┼─────────────────┤\n",
       "│ dense_34 (<span style=\"color: #0087ff; text-decoration-color: #0087ff\">Dense</span>)                     │ (<span style=\"color: #00d7ff; text-decoration-color: #00d7ff\">None</span>, <span style=\"color: #00af00; text-decoration-color: #00af00\">1</span>)                   │              <span style=\"color: #00af00; text-decoration-color: #00af00\">65</span> │\n",
       "└──────────────────────────────────────┴─────────────────────────────┴─────────────────┘\n",
       "</pre>\n"
      ],
      "text/plain": [
       "┏━━━━━━━━━━━━━━━━━━━━━━━━━━━━━━━━━━━━━━┳━━━━━━━━━━━━━━━━━━━━━━━━━━━━━┳━━━━━━━━━━━━━━━━━┓\n",
       "┃\u001b[1m \u001b[0m\u001b[1mLayer (type)                        \u001b[0m\u001b[1m \u001b[0m┃\u001b[1m \u001b[0m\u001b[1mOutput Shape               \u001b[0m\u001b[1m \u001b[0m┃\u001b[1m \u001b[0m\u001b[1m        Param #\u001b[0m\u001b[1m \u001b[0m┃\n",
       "┡━━━━━━━━━━━━━━━━━━━━━━━━━━━━━━━━━━━━━━╇━━━━━━━━━━━━━━━━━━━━━━━━━━━━━╇━━━━━━━━━━━━━━━━━┩\n",
       "│ lstm_11 (\u001b[38;5;33mLSTM\u001b[0m)                       │ (\u001b[38;5;45mNone\u001b[0m, \u001b[38;5;34m30\u001b[0m, \u001b[38;5;34m128\u001b[0m)             │         \u001b[38;5;34m219,648\u001b[0m │\n",
       "├──────────────────────────────────────┼─────────────────────────────┼─────────────────┤\n",
       "│ dropout_47 (\u001b[38;5;33mDropout\u001b[0m)                 │ (\u001b[38;5;45mNone\u001b[0m, \u001b[38;5;34m30\u001b[0m, \u001b[38;5;34m128\u001b[0m)             │               \u001b[38;5;34m0\u001b[0m │\n",
       "├──────────────────────────────────────┼─────────────────────────────┼─────────────────┤\n",
       "│ lstm_12 (\u001b[38;5;33mLSTM\u001b[0m)                       │ (\u001b[38;5;45mNone\u001b[0m, \u001b[38;5;34m64\u001b[0m)                  │          \u001b[38;5;34m49,408\u001b[0m │\n",
       "├──────────────────────────────────────┼─────────────────────────────┼─────────────────┤\n",
       "│ dense_34 (\u001b[38;5;33mDense\u001b[0m)                     │ (\u001b[38;5;45mNone\u001b[0m, \u001b[38;5;34m1\u001b[0m)                   │              \u001b[38;5;34m65\u001b[0m │\n",
       "└──────────────────────────────────────┴─────────────────────────────┴─────────────────┘\n"
      ]
     },
     "metadata": {},
     "output_type": "display_data"
    },
    {
     "data": {
      "text/html": [
       "<pre style=\"white-space:pre;overflow-x:auto;line-height:normal;font-family:Menlo,'DejaVu Sans Mono',consolas,'Courier New',monospace\"><span style=\"font-weight: bold\"> Total params: </span><span style=\"color: #00af00; text-decoration-color: #00af00\">269,121</span> (1.03 MB)\n",
       "</pre>\n"
      ],
      "text/plain": [
       "\u001b[1m Total params: \u001b[0m\u001b[38;5;34m269,121\u001b[0m (1.03 MB)\n"
      ]
     },
     "metadata": {},
     "output_type": "display_data"
    },
    {
     "data": {
      "text/html": [
       "<pre style=\"white-space:pre;overflow-x:auto;line-height:normal;font-family:Menlo,'DejaVu Sans Mono',consolas,'Courier New',monospace\"><span style=\"font-weight: bold\"> Trainable params: </span><span style=\"color: #00af00; text-decoration-color: #00af00\">269,121</span> (1.03 MB)\n",
       "</pre>\n"
      ],
      "text/plain": [
       "\u001b[1m Trainable params: \u001b[0m\u001b[38;5;34m269,121\u001b[0m (1.03 MB)\n"
      ]
     },
     "metadata": {},
     "output_type": "display_data"
    },
    {
     "data": {
      "text/html": [
       "<pre style=\"white-space:pre;overflow-x:auto;line-height:normal;font-family:Menlo,'DejaVu Sans Mono',consolas,'Courier New',monospace\"><span style=\"font-weight: bold\"> Non-trainable params: </span><span style=\"color: #00af00; text-decoration-color: #00af00\">0</span> (0.00 B)\n",
       "</pre>\n"
      ],
      "text/plain": [
       "\u001b[1m Non-trainable params: \u001b[0m\u001b[38;5;34m0\u001b[0m (0.00 B)\n"
      ]
     },
     "metadata": {},
     "output_type": "display_data"
    },
    {
     "name": "stdout",
     "output_type": "stream",
     "text": [
      "\n",
      "*** Spanish ***\n",
      "\n",
      "Epoch 1/10\n",
      "\u001b[1m605/605\u001b[0m \u001b[32m━━━━━━━━━━━━━━━━━━━━\u001b[0m\u001b[37m\u001b[0m \u001b[1m36s\u001b[0m 34ms/step - accuracy: 0.5550 - loss: 0.6822 - val_accuracy: 0.2135 - val_loss: 0.7273\n",
      "Epoch 2/10\n",
      "\u001b[1m605/605\u001b[0m \u001b[32m━━━━━━━━━━━━━━━━━━━━\u001b[0m\u001b[37m\u001b[0m \u001b[1m16s\u001b[0m 27ms/step - accuracy: 0.6078 - loss: 0.6474 - val_accuracy: 0.3728 - val_loss: 0.6902\n",
      "Epoch 3/10\n",
      "\u001b[1m605/605\u001b[0m \u001b[32m━━━━━━━━━━━━━━━━━━━━\u001b[0m\u001b[37m\u001b[0m \u001b[1m16s\u001b[0m 26ms/step - accuracy: 0.6877 - loss: 0.5829 - val_accuracy: 0.5332 - val_loss: 0.6505\n",
      "Epoch 4/10\n",
      "\u001b[1m605/605\u001b[0m \u001b[32m━━━━━━━━━━━━━━━━━━━━\u001b[0m\u001b[37m\u001b[0m \u001b[1m16s\u001b[0m 27ms/step - accuracy: 0.8145 - loss: 0.4110 - val_accuracy: 0.4799 - val_loss: 1.0076\n",
      "Epoch 5/10\n",
      "\u001b[1m605/605\u001b[0m \u001b[32m━━━━━━━━━━━━━━━━━━━━\u001b[0m\u001b[37m\u001b[0m \u001b[1m18s\u001b[0m 29ms/step - accuracy: 0.9293 - loss: 0.1798 - val_accuracy: 0.6594 - val_loss: 0.8774\n",
      "Epoch 6/10\n",
      "\u001b[1m605/605\u001b[0m \u001b[32m━━━━━━━━━━━━━━━━━━━━\u001b[0m\u001b[37m\u001b[0m \u001b[1m18s\u001b[0m 30ms/step - accuracy: 0.9707 - loss: 0.0845 - val_accuracy: 0.5861 - val_loss: 1.4861\n",
      "Epoch 7/10\n",
      "\u001b[1m605/605\u001b[0m \u001b[32m━━━━━━━━━━━━━━━━━━━━\u001b[0m\u001b[37m\u001b[0m \u001b[1m21s\u001b[0m 35ms/step - accuracy: 0.9806 - loss: 0.0540 - val_accuracy: 0.5315 - val_loss: 2.3396\n",
      "Epoch 8/10\n",
      "\u001b[1m605/605\u001b[0m \u001b[32m━━━━━━━━━━━━━━━━━━━━\u001b[0m\u001b[37m\u001b[0m \u001b[1m19s\u001b[0m 32ms/step - accuracy: 0.9870 - loss: 0.0365 - val_accuracy: 0.5373 - val_loss: 2.1598\n",
      "Epoch 9/10\n",
      "\u001b[1m605/605\u001b[0m \u001b[32m━━━━━━━━━━━━━━━━━━━━\u001b[0m\u001b[37m\u001b[0m \u001b[1m21s\u001b[0m 34ms/step - accuracy: 0.9883 - loss: 0.0349 - val_accuracy: 0.5290 - val_loss: 2.3610\n",
      "Epoch 10/10\n",
      "\u001b[1m605/605\u001b[0m \u001b[32m━━━━━━━━━━━━━━━━━━━━\u001b[0m\u001b[37m\u001b[0m \u001b[1m20s\u001b[0m 33ms/step - accuracy: 0.9892 - loss: 0.0319 - val_accuracy: 0.5565 - val_loss: 2.3180\n",
      "\u001b[1m19/19\u001b[0m \u001b[32m━━━━━━━━━━━━━━━━━━━━\u001b[0m\u001b[37m\u001b[0m \u001b[1m1s\u001b[0m 28ms/step\n",
      "Accuracy: 0.523\n",
      "\n",
      "Classification Report:\n",
      "               precision    recall  f1-score   support\n",
      "\n",
      "           0       0.53      0.47      0.50       300\n",
      "           1       0.52      0.57      0.55       300\n",
      "\n",
      "    accuracy                           0.52       600\n",
      "   macro avg       0.52      0.52      0.52       600\n",
      "weighted avg       0.52      0.52      0.52       600\n",
      "\n",
      "\n",
      "\n",
      "*** Portuguese ***\n",
      "\n",
      "Epoch 1/10\n",
      "\u001b[1m166/166\u001b[0m \u001b[32m━━━━━━━━━━━━━━━━━━━━\u001b[0m\u001b[37m\u001b[0m \u001b[1m7s\u001b[0m 41ms/step - accuracy: 0.5753 - loss: 1.0113 - val_accuracy: 0.0053 - val_loss: 0.8691\n",
      "Epoch 2/10\n",
      "\u001b[1m166/166\u001b[0m \u001b[32m━━━━━━━━━━━━━━━━━━━━\u001b[0m\u001b[37m\u001b[0m \u001b[1m6s\u001b[0m 34ms/step - accuracy: 0.6211 - loss: 0.6600 - val_accuracy: 0.0083 - val_loss: 1.0883\n",
      "Epoch 3/10\n",
      "\u001b[1m166/166\u001b[0m \u001b[32m━━━━━━━━━━━━━━━━━━━━\u001b[0m\u001b[37m\u001b[0m \u001b[1m7s\u001b[0m 44ms/step - accuracy: 0.6168 - loss: 0.6570 - val_accuracy: 0.0212 - val_loss: 1.1827\n",
      "Epoch 4/10\n",
      "\u001b[1m166/166\u001b[0m \u001b[32m━━━━━━━━━━━━━━━━━━━━\u001b[0m\u001b[37m\u001b[0m \u001b[1m9s\u001b[0m 53ms/step - accuracy: 0.6614 - loss: 0.6211 - val_accuracy: 0.0824 - val_loss: 1.1255\n",
      "Epoch 5/10\n",
      "\u001b[1m166/166\u001b[0m \u001b[32m━━━━━━━━━━━━━━━━━━━━\u001b[0m\u001b[37m\u001b[0m \u001b[1m10s\u001b[0m 59ms/step - accuracy: 0.7098 - loss: 0.5649 - val_accuracy: 0.3039 - val_loss: 1.0528\n",
      "Epoch 6/10\n",
      "\u001b[1m166/166\u001b[0m \u001b[32m━━━━━━━━━━━━━━━━━━━━\u001b[0m\u001b[37m\u001b[0m \u001b[1m9s\u001b[0m 49ms/step - accuracy: 0.8373 - loss: 0.3988 - val_accuracy: 0.2615 - val_loss: 1.4348\n",
      "Epoch 7/10\n",
      "\u001b[1m166/166\u001b[0m \u001b[32m━━━━━━━━━━━━━━━━━━━━\u001b[0m\u001b[37m\u001b[0m \u001b[1m8s\u001b[0m 47ms/step - accuracy: 0.9379 - loss: 0.1812 - val_accuracy: 0.2940 - val_loss: 2.3486\n",
      "Epoch 8/10\n",
      "\u001b[1m166/166\u001b[0m \u001b[32m━━━━━━━━━━━━━━━━━━━━\u001b[0m\u001b[37m\u001b[0m \u001b[1m11s\u001b[0m 48ms/step - accuracy: 0.9840 - loss: 0.0541 - val_accuracy: 0.3794 - val_loss: 3.0673\n",
      "Epoch 9/10\n",
      "\u001b[1m166/166\u001b[0m \u001b[32m━━━━━━━━━━━━━━━━━━━━\u001b[0m\u001b[37m\u001b[0m \u001b[1m6s\u001b[0m 38ms/step - accuracy: 0.9939 - loss: 0.0196 - val_accuracy: 0.3915 - val_loss: 3.2962\n",
      "Epoch 10/10\n",
      "\u001b[1m166/166\u001b[0m \u001b[32m━━━━━━━━━━━━━━━━━━━━\u001b[0m\u001b[37m\u001b[0m \u001b[1m6s\u001b[0m 36ms/step - accuracy: 0.9931 - loss: 0.0211 - val_accuracy: 0.2850 - val_loss: 4.9318\n",
      "\u001b[1m19/19\u001b[0m \u001b[32m━━━━━━━━━━━━━━━━━━━━\u001b[0m\u001b[37m\u001b[0m \u001b[1m0s\u001b[0m 10ms/step\n",
      "Accuracy: 0.493\n",
      "\n",
      "Classification Report:\n",
      "               precision    recall  f1-score   support\n",
      "\n",
      "           0       0.49      0.24      0.32       300\n",
      "           1       0.50      0.75      0.60       300\n",
      "\n",
      "    accuracy                           0.49       600\n",
      "   macro avg       0.49      0.49      0.46       600\n",
      "weighted avg       0.49      0.49      0.46       600\n",
      "\n",
      "\n"
     ]
    }
   ],
   "source": [
    "from tensorflow.keras.layers import LSTM\n",
    "\n",
    "# lstm model\n",
    "lstm_model = Sequential()\n",
    "lstm_model.add(LSTM(128, input_shape=(max_len, 300), return_sequences=True))\n",
    "lstm_model.add(Dropout(0.5))\n",
    "lstm_model.add(LSTM(64))\n",
    "lstm_model.add(Dense(1, activation='sigmoid'))\n",
    "lstm_model.compile(optimizer='adam', loss='binary_crossentropy', metrics=['accuracy'])\n",
    "lstm_model.summary()\n",
    "\n",
    "# classification report\n",
    "lstm_spanish_classification_report_ = fit_evaluate_embeddings(lstm_model, fasttext_model, spanish_improved_labels_df, spanish_put_aside_df, max_len, embedding_dim=300, language='Spanish')\n",
    "lstm_portuguese_classification_report_ = fit_evaluate_embeddings(lstm_model, fasttext_model, portuguese_improved_labels_df, portuguese_put_aside_df, max_len, embedding_dim=300, language='Portuguese')"
   ]
  },
  {
   "cell_type": "markdown",
   "id": "64027c76-67b8-4a72-a8b7-7162e079af4d",
   "metadata": {},
   "source": [
    "## Visualize results"
   ]
  },
  {
   "cell_type": "code",
   "execution_count": 92,
   "id": "69d6fb23-25f6-4deb-970d-c405ba174502",
   "metadata": {},
   "outputs": [
    {
     "data": {
      "image/png": "[encoded data removed]",
      "text/plain": [
       "<Figure size 1400x600 with 2 Axes>"
      ]
     },
     "metadata": {},
     "output_type": "display_data"
    },
    {
     "data": {
      "image/png": "[encoded data removed]",
      "text/plain": [
       "<Figure size 1400x600 with 2 Axes>"
      ]
     },
     "metadata": {},
     "output_type": "display_data"
    }
   ],
   "source": [
    "# Define the classification report variables\n",
    "classification_reports = {\n",
    "    'Logistic Regression (es)': logistic_regression_spanish_classification_report_,\n",
    "    'Logistic Regression (pt)': logistic_regression_portuguese_classification_report_,\n",
    "    'Random Forest (es)': random_forest_spanish_classification_report_,\n",
    "    'Random Forest (pt)': random_forest_portuguese_classification_report_,\n",
    "    'XGBoost (es)': xgboost_spanish_classification_report_,\n",
    "    'XGBoost (pt)': xgboost_forest_portuguese_classification_report_,\n",
    "    'SVC (es)': svc_spanish_classification_report_,\n",
    "    'SVC (pt)': svc_forest_portuguese_classification_report_,\n",
    "    'FNN (es)': fnn_spanish_classification_report_,\n",
    "    'FNN (pt)': fnn_portuguese_classification_report_,\n",
    "    'CNN (es)': cnn_spanish_classification_report_,\n",
    "    'CNN (pt)': cnn_portuguese_classification_report_,\n",
    "    'LSTM (es)': lstm_spanish_classification_report_,\n",
    "    'LSTM (pt)': lstm_portuguese_classification_report_\n",
    "}\n",
    "\n",
    "# Lists to separate models by language\n",
    "spanish_models = ['Logistic Regression (es)', 'Random Forest (es)', 'XGBoost (es)', 'SVC (es)', 'FNN (es)', 'CNN (es)', 'LSTM (es)']\n",
    "portuguese_models = ['Logistic Regression (pt)', 'Random Forest (pt)', 'XGBoost (pt)', 'SVC (pt)', 'FNN (pt)', 'CNN (pt)', 'LSTM (pt)']\n",
    "\n",
    "# Function to add value labels in the middle of bars\n",
    "def add_value_labels(ax, bars):\n",
    "    for bar in bars:\n",
    "        yval = bar.get_height()\n",
    "        ax.text(bar.get_x() + bar.get_width() / 2, yval + 0.03, round(yval, 2), ha='center', va='center', color='black')\n",
    "\n",
    "# Create a figure with 2 subplots for Spanish\n",
    "fig, axs = plt.subplots(1, 2, figsize=(14, 6))\n",
    "\n",
    "# Plot accuracy for Spanish models\n",
    "spanish_accuracies = [classification_reports[model]['accuracy'] for model in spanish_models]\n",
    "bars = axs[0].bar(spanish_models, spanish_accuracies, color='tab:red')\n",
    "axs[0].set_title('Accuracy')\n",
    "axs[0].set_ylim(0, 1.1)\n",
    "axs[0].set_ylabel('Score')\n",
    "axs[0].tick_params(axis='x', rotation=45)\n",
    "add_value_labels(axs[0], bars)\n",
    "\n",
    "# Plot recall for Spanish models (for risk headlines)\n",
    "spanish_recalls = [classification_reports[model]['1']['recall'] for model in spanish_models]\n",
    "bars = axs[1].bar(spanish_models, spanish_recalls, color='tab:red')\n",
    "axs[1].set_title('Risk Headline Recall')\n",
    "axs[1].set_ylim(0, 1.1)\n",
    "axs[1].tick_params(axis='x', rotation=45)\n",
    "add_value_labels(axs[1], bars)\n",
    "\n",
    "# Add an overall title for the Spanish models\n",
    "fig.suptitle('Spanish', fontsize=18)\n",
    "\n",
    "# Adjust layout for better spacing\n",
    "plt.tight_layout(rect=[0, 0, 1, 0.95])\n",
    "\n",
    "# Save and show the plot\n",
    "plt.savefig('spanish_models_performance.png', dpi=600, bbox_inches='tight')\n",
    "plt.show()\n",
    "\n",
    "# Create a new figure with 2 subplots for Portuguese\n",
    "fig, axs = plt.subplots(1, 2, figsize=(14, 6))\n",
    "\n",
    "# Plot accuracy for Portuguese models\n",
    "portuguese_accuracies = [classification_reports[model]['accuracy'] for model in portuguese_models]\n",
    "bars = axs[0].bar(portuguese_models, portuguese_accuracies, color='tab:orange')\n",
    "axs[0].set_title('Accuracy')\n",
    "axs[0].set_ylim(0, 1.1)\n",
    "axs[0].set_ylabel('Score')\n",
    "axs[0].tick_params(axis='x', rotation=45)\n",
    "add_value_labels(axs[0], bars)\n",
    "\n",
    "# Plot recall for Portuguese models (for risk headlines)\n",
    "portuguese_recalls = [classification_reports[model]['1']['recall'] for model in portuguese_models]\n",
    "bars = axs[1].bar(portuguese_models, portuguese_recalls, color='tab:orange')\n",
    "axs[1].set_title('Risk Headline Recall')\n",
    "axs[1].set_ylim(0, 1.1)\n",
    "axs[1].tick_params(axis='x', rotation=45)\n",
    "add_value_labels(axs[1], bars)\n",
    "\n",
    "# Add an overall title for the Portuguese models\n",
    "fig.suptitle('Portuguese', fontsize=18)\n",
    "\n",
    "# Adjust layout for better spacing\n",
    "plt.tight_layout(rect=[0, 0, 1, 0.95])\n",
    "\n",
    "# Save and show the plot\n",
    "plt.savefig('portuguese_models_performance.png', dpi=600, bbox_inches='tight')\n",
    "plt.show()"
   ]
  }
 ],
 "metadata": {
  "kernelspec": {
   "display_name": "Python 3 (ipykernel)",
   "language": "python",
   "name": "python3"
  },
  "language_info": {
   "codemirror_mode": {
    "name": "ipython",
    "version": 3
   },
   "file_extension": ".py",
   "mimetype": "text/x-python",
   "name": "python",
   "nbconvert_exporter": "python",
   "pygments_lexer": "ipython3",
   "version": "3.11.7"
  }
 },
 "nbformat": 4,
 "nbformat_minor": 5
}
